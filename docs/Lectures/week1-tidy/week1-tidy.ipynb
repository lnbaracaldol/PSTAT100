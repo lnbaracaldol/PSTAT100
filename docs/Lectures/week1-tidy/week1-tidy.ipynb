{
 "cells": [
  {
   "cell_type": "code",
   "execution_count": 75,
   "metadata": {
    "slideshow": {
     "slide_type": "skip"
    },
    "tags": []
   },
   "outputs": [],
   "source": [
    "import pandas as pd\n",
    "import numpy as np\n",
    "import altair as alt\n",
    "import warnings\n",
    "warnings.filterwarnings('ignore')\n",
    "from IPython.display import Image\n"
   ]
  },
  {
   "cell_type": "markdown",
   "metadata": {
    "slideshow": {
     "slide_type": "slide"
    },
    "tags": []
   },
   "source": [
    "# Data Science Concepts and Analysis\n",
    "\n",
    "### Week 1: Tidy and Transform\n",
    "\n",
    "* Why tidy?\n",
    "* Principles of tidy data\n",
    "* Transforming tidy data"
   ]
  },
  {
   "cell_type": "markdown",
   "metadata": {
    "slideshow": {
     "slide_type": "subslide"
    },
    "tags": []
   },
   "source": [
    "## This week\n",
    "\n",
    "* **Why tidy?**\n",
    "    + Many ways to structure a dataset\n",
    "    + Few organizational constraints 'in the wild'"
   ]
  },
  {
   "cell_type": "markdown",
   "metadata": {
    "slideshow": {
     "slide_type": "fragment"
    },
    "tags": []
   },
   "source": [
    "* **Principles of tidy data: matching semantics with structure**\n",
    "    + Data semantics: observations and variables\n",
    "    + Tabular structure: rows and columns\n",
    "    + The tidy standard\n",
    "    + Common messes\n",
    "    + Tidying operations"
   ]
  },
  {
   "cell_type": "markdown",
   "metadata": {
    "slideshow": {
     "slide_type": "fragment"
    },
    "tags": []
   },
   "source": [
    "* **Transforming tidy data**\n",
    "    + Subsetting (slicing and filtering)\n",
    "    + Derived variables\n",
    "    + Aggregation and summary statistics"
   ]
  },
  {
   "cell_type": "markdown",
   "metadata": {
    "slideshow": {
     "slide_type": "slide"
    },
    "tags": []
   },
   "source": [
    "# Why tidy?\n",
    "\n",
    "* Many possible layouts for tabular data\n",
    "* 'Real' datasets have few organizational constraints\n",
    "\n",
    "Most data are stored in tables, but **there are always multiple possible tabular layouts for the same underlying data**."
   ]
  },
  {
   "cell_type": "markdown",
   "metadata": {
    "slideshow": {
     "slide_type": "subslide"
    },
    "tags": []
   },
   "source": [
    "## Many layouts\n",
    "\n",
    "Let's look at some examples.\n",
    "\n",
    "### Mammal data: long layouts"
   ]
  },
  {
   "cell_type": "markdown",
   "metadata": {
    "slideshow": {
     "slide_type": "fragment"
    },
    "tags": []
   },
   "source": [
    "Below is the Allison 1976 mammal brain-body weight dataset from week 0 lecture shown in two 'long' layouts: "
   ]
  },
  {
   "cell_type": "code",
   "execution_count": 2,
   "metadata": {
    "slideshow": {
     "slide_type": "skip"
    },
    "tags": []
   },
   "outputs": [],
   "source": [
    "# import brain and body weights\n",
    "mammal1 = pd.read_csv('data/allison1976.csv').iloc[:, 0:3].set_index('species')\n",
    "\n",
    "mammal2 = mammal1.melt(\n",
    "    var_name = 'measurement', \n",
    "    value_name = 'weight', \n",
    "    value_vars = ['brain_wt', 'body_wt'],\n",
    "    ignore_index = False\n",
    ").sort_index()\n",
    "\n",
    "mammal3 = mammal2.reset_index().pivot(index = 'measurement', columns = 'species', values = 'weight')"
   ]
  },
  {
   "cell_type": "code",
   "execution_count": 3,
   "metadata": {
    "slideshow": {
     "slide_type": "fragment"
    },
    "tags": []
   },
   "outputs": [
    {
     "data": {
      "text/html": [
       "<div>\n",
       "<style scoped>\n",
       "    .dataframe tbody tr th:only-of-type {\n",
       "        vertical-align: middle;\n",
       "    }\n",
       "\n",
       "    .dataframe tbody tr th {\n",
       "        vertical-align: top;\n",
       "    }\n",
       "\n",
       "    .dataframe thead th {\n",
       "        text-align: right;\n",
       "    }\n",
       "</style>\n",
       "<table border=\"1\" class=\"dataframe\">\n",
       "  <thead>\n",
       "    <tr style=\"text-align: right;\">\n",
       "      <th></th>\n",
       "      <th>body_wt</th>\n",
       "      <th>brain_wt</th>\n",
       "    </tr>\n",
       "    <tr>\n",
       "      <th>species</th>\n",
       "      <th></th>\n",
       "      <th></th>\n",
       "    </tr>\n",
       "  </thead>\n",
       "  <tbody>\n",
       "    <tr>\n",
       "      <th>Africanelephant</th>\n",
       "      <td>6654.000</td>\n",
       "      <td>5712.0</td>\n",
       "    </tr>\n",
       "    <tr>\n",
       "      <th>Africangiantpouchedrat</th>\n",
       "      <td>1.000</td>\n",
       "      <td>6.6</td>\n",
       "    </tr>\n",
       "    <tr>\n",
       "      <th>ArcticFox</th>\n",
       "      <td>3.385</td>\n",
       "      <td>44.5</td>\n",
       "    </tr>\n",
       "    <tr>\n",
       "      <th>Arcticgroundsquirrel</th>\n",
       "      <td>0.920</td>\n",
       "      <td>5.7</td>\n",
       "    </tr>\n",
       "  </tbody>\n",
       "</table>\n",
       "</div>"
      ],
      "text/plain": [
       "                         body_wt  brain_wt\n",
       "species                                   \n",
       "Africanelephant         6654.000    5712.0\n",
       "Africangiantpouchedrat     1.000       6.6\n",
       "ArcticFox                  3.385      44.5\n",
       "Arcticgroundsquirrel       0.920       5.7"
      ]
     },
     "execution_count": 3,
     "metadata": {},
     "output_type": "execute_result"
    }
   ],
   "source": [
    "mammal1.head(4)"
   ]
  },
  {
   "cell_type": "code",
   "execution_count": 4,
   "metadata": {
    "slideshow": {
     "slide_type": "fragment"
    },
    "tags": []
   },
   "outputs": [
    {
     "data": {
      "text/html": [
       "<div>\n",
       "<style scoped>\n",
       "    .dataframe tbody tr th:only-of-type {\n",
       "        vertical-align: middle;\n",
       "    }\n",
       "\n",
       "    .dataframe tbody tr th {\n",
       "        vertical-align: top;\n",
       "    }\n",
       "\n",
       "    .dataframe thead th {\n",
       "        text-align: right;\n",
       "    }\n",
       "</style>\n",
       "<table border=\"1\" class=\"dataframe\">\n",
       "  <thead>\n",
       "    <tr style=\"text-align: right;\">\n",
       "      <th></th>\n",
       "      <th>measurement</th>\n",
       "      <th>weight</th>\n",
       "    </tr>\n",
       "    <tr>\n",
       "      <th>species</th>\n",
       "      <th></th>\n",
       "      <th></th>\n",
       "    </tr>\n",
       "  </thead>\n",
       "  <tbody>\n",
       "    <tr>\n",
       "      <th>Africanelephant</th>\n",
       "      <td>brain_wt</td>\n",
       "      <td>5712.0</td>\n",
       "    </tr>\n",
       "    <tr>\n",
       "      <th>Africanelephant</th>\n",
       "      <td>body_wt</td>\n",
       "      <td>6654.0</td>\n",
       "    </tr>\n",
       "    <tr>\n",
       "      <th>Africangiantpouchedrat</th>\n",
       "      <td>brain_wt</td>\n",
       "      <td>6.6</td>\n",
       "    </tr>\n",
       "    <tr>\n",
       "      <th>Africangiantpouchedrat</th>\n",
       "      <td>body_wt</td>\n",
       "      <td>1.0</td>\n",
       "    </tr>\n",
       "  </tbody>\n",
       "</table>\n",
       "</div>"
      ],
      "text/plain": [
       "                       measurement  weight\n",
       "species                                   \n",
       "Africanelephant           brain_wt  5712.0\n",
       "Africanelephant            body_wt  6654.0\n",
       "Africangiantpouchedrat    brain_wt     6.6\n",
       "Africangiantpouchedrat     body_wt     1.0"
      ]
     },
     "execution_count": 4,
     "metadata": {},
     "output_type": "execute_result"
    }
   ],
   "source": [
    "mammal2.head(4)"
   ]
  },
  {
   "cell_type": "markdown",
   "metadata": {
    "slideshow": {
     "slide_type": "subslide"
    },
    "tags": []
   },
   "source": [
    "## Many layouts\n",
    "\n",
    "### Mammal data: wide layout\n",
    "\n",
    "Here's a third possible layout for the mammal brain-body weight data:"
   ]
  },
  {
   "cell_type": "code",
   "execution_count": 5,
   "metadata": {
    "slideshow": {
     "slide_type": "fragment"
    },
    "tags": []
   },
   "outputs": [
    {
     "data": {
      "text/html": [
       "<div>\n",
       "<style scoped>\n",
       "    .dataframe tbody tr th:only-of-type {\n",
       "        vertical-align: middle;\n",
       "    }\n",
       "\n",
       "    .dataframe tbody tr th {\n",
       "        vertical-align: top;\n",
       "    }\n",
       "\n",
       "    .dataframe thead th {\n",
       "        text-align: right;\n",
       "    }\n",
       "</style>\n",
       "<table border=\"1\" class=\"dataframe\">\n",
       "  <thead>\n",
       "    <tr style=\"text-align: right;\">\n",
       "      <th>species</th>\n",
       "      <th>Africanelephant</th>\n",
       "      <th>Africangiantpouchedrat</th>\n",
       "      <th>ArcticFox</th>\n",
       "      <th>Arcticgroundsquirrel</th>\n",
       "    </tr>\n",
       "    <tr>\n",
       "      <th>measurement</th>\n",
       "      <th></th>\n",
       "      <th></th>\n",
       "      <th></th>\n",
       "      <th></th>\n",
       "    </tr>\n",
       "  </thead>\n",
       "  <tbody>\n",
       "    <tr>\n",
       "      <th>body_wt</th>\n",
       "      <td>6654.0</td>\n",
       "      <td>1.0</td>\n",
       "      <td>3.385</td>\n",
       "      <td>0.92</td>\n",
       "    </tr>\n",
       "    <tr>\n",
       "      <th>brain_wt</th>\n",
       "      <td>5712.0</td>\n",
       "      <td>6.6</td>\n",
       "      <td>44.500</td>\n",
       "      <td>5.70</td>\n",
       "    </tr>\n",
       "  </tbody>\n",
       "</table>\n",
       "</div>"
      ],
      "text/plain": [
       "species      Africanelephant  Africangiantpouchedrat  ArcticFox  \\\n",
       "measurement                                                       \n",
       "body_wt               6654.0                     1.0      3.385   \n",
       "brain_wt              5712.0                     6.6     44.500   \n",
       "\n",
       "species      Arcticgroundsquirrel  \n",
       "measurement                        \n",
       "body_wt                      0.92  \n",
       "brain_wt                     5.70  "
      ]
     },
     "execution_count": 5,
     "metadata": {},
     "output_type": "execute_result"
    }
   ],
   "source": [
    "mammal3.iloc[:, 0:4].head()"
   ]
  },
  {
   "cell_type": "markdown",
   "metadata": {
    "slideshow": {
     "slide_type": "subslide"
    },
    "tags": []
   },
   "source": [
    "## Many layouts\n",
    "\n",
    "### GDP growth data: wide layout \n",
    "\n",
    "Here's another example: World Bank data on annual GDP growth for 264 countries from 1961 -- 2019. The raw layout is shown below."
   ]
  },
  {
   "cell_type": "code",
   "execution_count": 6,
   "metadata": {
    "slideshow": {
     "slide_type": "fragment"
    },
    "tags": []
   },
   "outputs": [
    {
     "data": {
      "text/html": [
       "<div>\n",
       "<style scoped>\n",
       "    .dataframe tbody tr th:only-of-type {\n",
       "        vertical-align: middle;\n",
       "    }\n",
       "\n",
       "    .dataframe tbody tr th {\n",
       "        vertical-align: top;\n",
       "    }\n",
       "\n",
       "    .dataframe thead th {\n",
       "        text-align: right;\n",
       "    }\n",
       "</style>\n",
       "<table border=\"1\" class=\"dataframe\">\n",
       "  <thead>\n",
       "    <tr style=\"text-align: right;\">\n",
       "      <th></th>\n",
       "      <th>Country Name</th>\n",
       "      <th>Country Code</th>\n",
       "      <th>1961</th>\n",
       "      <th>1962</th>\n",
       "      <th>1963</th>\n",
       "      <th>1964</th>\n",
       "      <th>1965</th>\n",
       "      <th>1966</th>\n",
       "      <th>1967</th>\n",
       "      <th>1968</th>\n",
       "      <th>...</th>\n",
       "      <th>2010</th>\n",
       "      <th>2011</th>\n",
       "      <th>2012</th>\n",
       "      <th>2013</th>\n",
       "      <th>2014</th>\n",
       "      <th>2015</th>\n",
       "      <th>2016</th>\n",
       "      <th>2017</th>\n",
       "      <th>2018</th>\n",
       "      <th>2019</th>\n",
       "    </tr>\n",
       "  </thead>\n",
       "  <tbody>\n",
       "    <tr>\n",
       "      <th>0</th>\n",
       "      <td>Aruba</td>\n",
       "      <td>ABW</td>\n",
       "      <td>NaN</td>\n",
       "      <td>NaN</td>\n",
       "      <td>NaN</td>\n",
       "      <td>NaN</td>\n",
       "      <td>NaN</td>\n",
       "      <td>NaN</td>\n",
       "      <td>NaN</td>\n",
       "      <td>NaN</td>\n",
       "      <td>...</td>\n",
       "      <td>-3.685029</td>\n",
       "      <td>3.446055</td>\n",
       "      <td>-1.369863</td>\n",
       "      <td>4.198232</td>\n",
       "      <td>0.300000</td>\n",
       "      <td>5.700001</td>\n",
       "      <td>2.100000</td>\n",
       "      <td>1.999999</td>\n",
       "      <td>NaN</td>\n",
       "      <td>NaN</td>\n",
       "    </tr>\n",
       "    <tr>\n",
       "      <th>1</th>\n",
       "      <td>Afghanistan</td>\n",
       "      <td>AFG</td>\n",
       "      <td>NaN</td>\n",
       "      <td>NaN</td>\n",
       "      <td>NaN</td>\n",
       "      <td>NaN</td>\n",
       "      <td>NaN</td>\n",
       "      <td>NaN</td>\n",
       "      <td>NaN</td>\n",
       "      <td>NaN</td>\n",
       "      <td>...</td>\n",
       "      <td>14.362441</td>\n",
       "      <td>0.426355</td>\n",
       "      <td>12.752287</td>\n",
       "      <td>5.600745</td>\n",
       "      <td>2.724543</td>\n",
       "      <td>1.451315</td>\n",
       "      <td>2.260314</td>\n",
       "      <td>2.647003</td>\n",
       "      <td>1.189228</td>\n",
       "      <td>3.911603</td>\n",
       "    </tr>\n",
       "    <tr>\n",
       "      <th>2</th>\n",
       "      <td>Angola</td>\n",
       "      <td>AGO</td>\n",
       "      <td>NaN</td>\n",
       "      <td>NaN</td>\n",
       "      <td>NaN</td>\n",
       "      <td>NaN</td>\n",
       "      <td>NaN</td>\n",
       "      <td>NaN</td>\n",
       "      <td>NaN</td>\n",
       "      <td>NaN</td>\n",
       "      <td>...</td>\n",
       "      <td>4.403933</td>\n",
       "      <td>3.471976</td>\n",
       "      <td>8.542188</td>\n",
       "      <td>4.954545</td>\n",
       "      <td>4.822628</td>\n",
       "      <td>0.943572</td>\n",
       "      <td>-2.580050</td>\n",
       "      <td>-0.147213</td>\n",
       "      <td>-2.003630</td>\n",
       "      <td>-0.624644</td>\n",
       "    </tr>\n",
       "    <tr>\n",
       "      <th>3</th>\n",
       "      <td>Albania</td>\n",
       "      <td>ALB</td>\n",
       "      <td>NaN</td>\n",
       "      <td>NaN</td>\n",
       "      <td>NaN</td>\n",
       "      <td>NaN</td>\n",
       "      <td>NaN</td>\n",
       "      <td>NaN</td>\n",
       "      <td>NaN</td>\n",
       "      <td>NaN</td>\n",
       "      <td>...</td>\n",
       "      <td>3.706892</td>\n",
       "      <td>2.545322</td>\n",
       "      <td>1.417526</td>\n",
       "      <td>1.001987</td>\n",
       "      <td>1.774487</td>\n",
       "      <td>2.218752</td>\n",
       "      <td>3.314805</td>\n",
       "      <td>3.802197</td>\n",
       "      <td>4.071301</td>\n",
       "      <td>2.240070</td>\n",
       "    </tr>\n",
       "    <tr>\n",
       "      <th>4</th>\n",
       "      <td>Andorra</td>\n",
       "      <td>AND</td>\n",
       "      <td>NaN</td>\n",
       "      <td>NaN</td>\n",
       "      <td>NaN</td>\n",
       "      <td>NaN</td>\n",
       "      <td>NaN</td>\n",
       "      <td>NaN</td>\n",
       "      <td>NaN</td>\n",
       "      <td>NaN</td>\n",
       "      <td>...</td>\n",
       "      <td>-1.974958</td>\n",
       "      <td>-0.008070</td>\n",
       "      <td>-4.974444</td>\n",
       "      <td>-3.547597</td>\n",
       "      <td>2.504466</td>\n",
       "      <td>1.434140</td>\n",
       "      <td>3.709678</td>\n",
       "      <td>0.346072</td>\n",
       "      <td>1.588765</td>\n",
       "      <td>1.849238</td>\n",
       "    </tr>\n",
       "  </tbody>\n",
       "</table>\n",
       "<p>5 rows × 61 columns</p>\n",
       "</div>"
      ],
      "text/plain": [
       "  Country Name Country Code  1961  1962  1963  1964  1965  1966  1967  1968  \\\n",
       "0        Aruba          ABW   NaN   NaN   NaN   NaN   NaN   NaN   NaN   NaN   \n",
       "1  Afghanistan          AFG   NaN   NaN   NaN   NaN   NaN   NaN   NaN   NaN   \n",
       "2       Angola          AGO   NaN   NaN   NaN   NaN   NaN   NaN   NaN   NaN   \n",
       "3      Albania          ALB   NaN   NaN   NaN   NaN   NaN   NaN   NaN   NaN   \n",
       "4      Andorra          AND   NaN   NaN   NaN   NaN   NaN   NaN   NaN   NaN   \n",
       "\n",
       "   ...       2010      2011       2012      2013      2014      2015  \\\n",
       "0  ...  -3.685029  3.446055  -1.369863  4.198232  0.300000  5.700001   \n",
       "1  ...  14.362441  0.426355  12.752287  5.600745  2.724543  1.451315   \n",
       "2  ...   4.403933  3.471976   8.542188  4.954545  4.822628  0.943572   \n",
       "3  ...   3.706892  2.545322   1.417526  1.001987  1.774487  2.218752   \n",
       "4  ...  -1.974958 -0.008070  -4.974444 -3.547597  2.504466  1.434140   \n",
       "\n",
       "       2016      2017      2018      2019  \n",
       "0  2.100000  1.999999       NaN       NaN  \n",
       "1  2.260314  2.647003  1.189228  3.911603  \n",
       "2 -2.580050 -0.147213 -2.003630 -0.624644  \n",
       "3  3.314805  3.802197  4.071301  2.240070  \n",
       "4  3.709678  0.346072  1.588765  1.849238  \n",
       "\n",
       "[5 rows x 61 columns]"
      ]
     },
     "execution_count": 6,
     "metadata": {},
     "output_type": "execute_result"
    }
   ],
   "source": [
    "gdp1 = pd.read_csv('data/annual_growth.csv', encoding = 'latin1')\n",
    "gdp1.head()"
   ]
  },
  {
   "cell_type": "markdown",
   "metadata": {
    "slideshow": {
     "slide_type": "subslide"
    },
    "tags": []
   },
   "source": [
    "## Many layouts\n",
    "\n",
    "### GDP growth data: long layout\n",
    "\n",
    "Here's an alternative layout for the annual GDP growth data:"
   ]
  },
  {
   "cell_type": "code",
   "execution_count": 7,
   "metadata": {
    "slideshow": {
     "slide_type": "skip"
    },
    "tags": []
   },
   "outputs": [],
   "source": [
    "gdp2 = gdp1.set_index(\n",
    "    'Country Name'\n",
    ").drop(\n",
    "    columns = 'Country Code'\n",
    ").melt(\n",
    "    var_name = 'year',\n",
    "    value_name = 'growth_pct',\n",
    "    ignore_index = False\n",
    ").reset_index(\n",
    ").sort_values(\n",
    "    ['year', 'Country Name']\n",
    ").set_index('Country Name')"
   ]
  },
  {
   "cell_type": "code",
   "execution_count": 8,
   "metadata": {
    "slideshow": {
     "slide_type": "fragment"
    },
    "tags": []
   },
   "outputs": [
    {
     "data": {
      "text/html": [
       "<div>\n",
       "<style scoped>\n",
       "    .dataframe tbody tr th:only-of-type {\n",
       "        vertical-align: middle;\n",
       "    }\n",
       "\n",
       "    .dataframe tbody tr th {\n",
       "        vertical-align: top;\n",
       "    }\n",
       "\n",
       "    .dataframe thead th {\n",
       "        text-align: right;\n",
       "    }\n",
       "</style>\n",
       "<table border=\"1\" class=\"dataframe\">\n",
       "  <thead>\n",
       "    <tr style=\"text-align: right;\">\n",
       "      <th></th>\n",
       "      <th>year</th>\n",
       "      <th>growth_pct</th>\n",
       "    </tr>\n",
       "    <tr>\n",
       "      <th>Country Name</th>\n",
       "      <th></th>\n",
       "      <th></th>\n",
       "    </tr>\n",
       "  </thead>\n",
       "  <tbody>\n",
       "    <tr>\n",
       "      <th>Afghanistan</th>\n",
       "      <td>1961</td>\n",
       "      <td>NaN</td>\n",
       "    </tr>\n",
       "    <tr>\n",
       "      <th>Albania</th>\n",
       "      <td>1961</td>\n",
       "      <td>NaN</td>\n",
       "    </tr>\n",
       "    <tr>\n",
       "      <th>Algeria</th>\n",
       "      <td>1961</td>\n",
       "      <td>-13.605441</td>\n",
       "    </tr>\n",
       "    <tr>\n",
       "      <th>American Samoa</th>\n",
       "      <td>1961</td>\n",
       "      <td>NaN</td>\n",
       "    </tr>\n",
       "    <tr>\n",
       "      <th>Andorra</th>\n",
       "      <td>1961</td>\n",
       "      <td>NaN</td>\n",
       "    </tr>\n",
       "    <tr>\n",
       "      <th>...</th>\n",
       "      <td>...</td>\n",
       "      <td>...</td>\n",
       "    </tr>\n",
       "    <tr>\n",
       "      <th>West Bank and Gaza</th>\n",
       "      <td>2019</td>\n",
       "      <td>0.949014</td>\n",
       "    </tr>\n",
       "    <tr>\n",
       "      <th>World</th>\n",
       "      <td>2019</td>\n",
       "      <td>2.343378</td>\n",
       "    </tr>\n",
       "    <tr>\n",
       "      <th>Yemen, Rep.</th>\n",
       "      <td>2019</td>\n",
       "      <td>2.097414</td>\n",
       "    </tr>\n",
       "    <tr>\n",
       "      <th>Zambia</th>\n",
       "      <td>2019</td>\n",
       "      <td>1.441785</td>\n",
       "    </tr>\n",
       "    <tr>\n",
       "      <th>Zimbabwe</th>\n",
       "      <td>2019</td>\n",
       "      <td>-8.100000</td>\n",
       "    </tr>\n",
       "  </tbody>\n",
       "</table>\n",
       "<p>15576 rows × 2 columns</p>\n",
       "</div>"
      ],
      "text/plain": [
       "                    year  growth_pct\n",
       "Country Name                        \n",
       "Afghanistan         1961         NaN\n",
       "Albania             1961         NaN\n",
       "Algeria             1961  -13.605441\n",
       "American Samoa      1961         NaN\n",
       "Andorra             1961         NaN\n",
       "...                  ...         ...\n",
       "West Bank and Gaza  2019    0.949014\n",
       "World               2019    2.343378\n",
       "Yemen, Rep.         2019    2.097414\n",
       "Zambia              2019    1.441785\n",
       "Zimbabwe            2019   -8.100000\n",
       "\n",
       "[15576 rows x 2 columns]"
      ]
     },
     "execution_count": 8,
     "metadata": {},
     "output_type": "execute_result"
    }
   ],
   "source": [
    "gdp2"
   ]
  },
  {
   "cell_type": "markdown",
   "metadata": {
    "slideshow": {
     "slide_type": "subslide"
    },
    "tags": []
   },
   "source": [
    "## Many layouts\n",
    "\n",
    "### SB weather data: long layouts\n",
    "\n",
    "A third example: daily minimum and maximum temperatures recorded at Santa Barbara Municipal Airport from January 2021 through March 2021."
   ]
  },
  {
   "cell_type": "code",
   "execution_count": 9,
   "metadata": {
    "slideshow": {
     "slide_type": "skip"
    },
    "tags": []
   },
   "outputs": [],
   "source": [
    "weather1 = pd.read_csv('data/sb_weather.csv')\n",
    "weather2 = weather1.copy()\n",
    "weather2['MONTH'] = pd.to_datetime(weather1.DATE, infer_datetime_format = True).dt.month\n",
    "weather2['DAY'] = pd.to_datetime(weather1.DATE, infer_datetime_format = True).dt.day\n",
    "weather2['YEAR'] = pd.to_datetime(weather1.DATE, infer_datetime_format = True).dt.year\n",
    "weather2 = weather2.drop(columns = ['NAME', 'DATE'])\n",
    "weather3 = weather2.set_index(\n",
    "    ['MONTH', 'DAY']\n",
    ").melt(\n",
    "    value_name = 'temp',\n",
    "    var_name = 'type',\n",
    "    value_vars = ['TMAX', 'TMIN'],\n",
    "    ignore_index = False\n",
    ").reset_index().pivot(index = ['MONTH', 'type'], columns = 'DAY', values = 'temp')"
   ]
  },
  {
   "cell_type": "code",
   "execution_count": 10,
   "metadata": {
    "slideshow": {
     "slide_type": "fragment"
    },
    "tags": []
   },
   "outputs": [
    {
     "data": {
      "text/html": [
       "<div>\n",
       "<style scoped>\n",
       "    .dataframe tbody tr th:only-of-type {\n",
       "        vertical-align: middle;\n",
       "    }\n",
       "\n",
       "    .dataframe tbody tr th {\n",
       "        vertical-align: top;\n",
       "    }\n",
       "\n",
       "    .dataframe thead th {\n",
       "        text-align: right;\n",
       "    }\n",
       "</style>\n",
       "<table border=\"1\" class=\"dataframe\">\n",
       "  <thead>\n",
       "    <tr style=\"text-align: right;\">\n",
       "      <th></th>\n",
       "      <th>STATION</th>\n",
       "      <th>NAME</th>\n",
       "      <th>DATE</th>\n",
       "      <th>TMAX</th>\n",
       "      <th>TMIN</th>\n",
       "    </tr>\n",
       "  </thead>\n",
       "  <tbody>\n",
       "    <tr>\n",
       "      <th>0</th>\n",
       "      <td>USW00023190</td>\n",
       "      <td>SANTA BARBARA MUNICIPAL AIRPORT, CA US</td>\n",
       "      <td>1/1/2021</td>\n",
       "      <td>65</td>\n",
       "      <td>37</td>\n",
       "    </tr>\n",
       "    <tr>\n",
       "      <th>1</th>\n",
       "      <td>USW00023190</td>\n",
       "      <td>SANTA BARBARA MUNICIPAL AIRPORT, CA US</td>\n",
       "      <td>1/2/2021</td>\n",
       "      <td>62</td>\n",
       "      <td>38</td>\n",
       "    </tr>\n",
       "    <tr>\n",
       "      <th>2</th>\n",
       "      <td>USW00023190</td>\n",
       "      <td>SANTA BARBARA MUNICIPAL AIRPORT, CA US</td>\n",
       "      <td>1/3/2021</td>\n",
       "      <td>60</td>\n",
       "      <td>42</td>\n",
       "    </tr>\n",
       "    <tr>\n",
       "      <th>3</th>\n",
       "      <td>USW00023190</td>\n",
       "      <td>SANTA BARBARA MUNICIPAL AIRPORT, CA US</td>\n",
       "      <td>1/4/2021</td>\n",
       "      <td>72</td>\n",
       "      <td>43</td>\n",
       "    </tr>\n",
       "    <tr>\n",
       "      <th>4</th>\n",
       "      <td>USW00023190</td>\n",
       "      <td>SANTA BARBARA MUNICIPAL AIRPORT, CA US</td>\n",
       "      <td>1/5/2021</td>\n",
       "      <td>61</td>\n",
       "      <td>40</td>\n",
       "    </tr>\n",
       "  </tbody>\n",
       "</table>\n",
       "</div>"
      ],
      "text/plain": [
       "       STATION                                    NAME      DATE  TMAX  TMIN\n",
       "0  USW00023190  SANTA BARBARA MUNICIPAL AIRPORT, CA US  1/1/2021    65    37\n",
       "1  USW00023190  SANTA BARBARA MUNICIPAL AIRPORT, CA US  1/2/2021    62    38\n",
       "2  USW00023190  SANTA BARBARA MUNICIPAL AIRPORT, CA US  1/3/2021    60    42\n",
       "3  USW00023190  SANTA BARBARA MUNICIPAL AIRPORT, CA US  1/4/2021    72    43\n",
       "4  USW00023190  SANTA BARBARA MUNICIPAL AIRPORT, CA US  1/5/2021    61    40"
      ]
     },
     "execution_count": 10,
     "metadata": {},
     "output_type": "execute_result"
    }
   ],
   "source": [
    "weather1.head()"
   ]
  },
  {
   "cell_type": "code",
   "execution_count": 11,
   "metadata": {
    "slideshow": {
     "slide_type": "fragment"
    },
    "tags": []
   },
   "outputs": [
    {
     "data": {
      "text/html": [
       "<div>\n",
       "<style scoped>\n",
       "    .dataframe tbody tr th:only-of-type {\n",
       "        vertical-align: middle;\n",
       "    }\n",
       "\n",
       "    .dataframe tbody tr th {\n",
       "        vertical-align: top;\n",
       "    }\n",
       "\n",
       "    .dataframe thead th {\n",
       "        text-align: right;\n",
       "    }\n",
       "</style>\n",
       "<table border=\"1\" class=\"dataframe\">\n",
       "  <thead>\n",
       "    <tr style=\"text-align: right;\">\n",
       "      <th></th>\n",
       "      <th>STATION</th>\n",
       "      <th>TMAX</th>\n",
       "      <th>TMIN</th>\n",
       "      <th>MONTH</th>\n",
       "      <th>DAY</th>\n",
       "      <th>YEAR</th>\n",
       "    </tr>\n",
       "  </thead>\n",
       "  <tbody>\n",
       "    <tr>\n",
       "      <th>0</th>\n",
       "      <td>USW00023190</td>\n",
       "      <td>65</td>\n",
       "      <td>37</td>\n",
       "      <td>1</td>\n",
       "      <td>1</td>\n",
       "      <td>2021</td>\n",
       "    </tr>\n",
       "    <tr>\n",
       "      <th>1</th>\n",
       "      <td>USW00023190</td>\n",
       "      <td>62</td>\n",
       "      <td>38</td>\n",
       "      <td>1</td>\n",
       "      <td>2</td>\n",
       "      <td>2021</td>\n",
       "    </tr>\n",
       "    <tr>\n",
       "      <th>2</th>\n",
       "      <td>USW00023190</td>\n",
       "      <td>60</td>\n",
       "      <td>42</td>\n",
       "      <td>1</td>\n",
       "      <td>3</td>\n",
       "      <td>2021</td>\n",
       "    </tr>\n",
       "    <tr>\n",
       "      <th>3</th>\n",
       "      <td>USW00023190</td>\n",
       "      <td>72</td>\n",
       "      <td>43</td>\n",
       "      <td>1</td>\n",
       "      <td>4</td>\n",
       "      <td>2021</td>\n",
       "    </tr>\n",
       "    <tr>\n",
       "      <th>4</th>\n",
       "      <td>USW00023190</td>\n",
       "      <td>61</td>\n",
       "      <td>40</td>\n",
       "      <td>1</td>\n",
       "      <td>5</td>\n",
       "      <td>2021</td>\n",
       "    </tr>\n",
       "  </tbody>\n",
       "</table>\n",
       "</div>"
      ],
      "text/plain": [
       "       STATION  TMAX  TMIN  MONTH  DAY  YEAR\n",
       "0  USW00023190    65    37      1    1  2021\n",
       "1  USW00023190    62    38      1    2  2021\n",
       "2  USW00023190    60    42      1    3  2021\n",
       "3  USW00023190    72    43      1    4  2021\n",
       "4  USW00023190    61    40      1    5  2021"
      ]
     },
     "execution_count": 11,
     "metadata": {},
     "output_type": "execute_result"
    }
   ],
   "source": [
    "weather2.head()"
   ]
  },
  {
   "cell_type": "markdown",
   "metadata": {
    "slideshow": {
     "slide_type": "subslide"
    },
    "tags": []
   },
   "source": [
    "## Many layouts\n",
    "\n",
    "### SB weather data: wide layout\n",
    "\n",
    "Here's a wide layout for the SB weather data:"
   ]
  },
  {
   "cell_type": "code",
   "execution_count": 44,
   "metadata": {
    "slideshow": {
     "slide_type": "fragment"
    },
    "tags": []
   },
   "outputs": [
    {
     "data": {
      "text/html": [
       "<div>\n",
       "<style scoped>\n",
       "    .dataframe tbody tr th:only-of-type {\n",
       "        vertical-align: middle;\n",
       "    }\n",
       "\n",
       "    .dataframe tbody tr th {\n",
       "        vertical-align: top;\n",
       "    }\n",
       "\n",
       "    .dataframe thead th {\n",
       "        text-align: right;\n",
       "    }\n",
       "</style>\n",
       "<table border=\"1\" class=\"dataframe\">\n",
       "  <thead>\n",
       "    <tr style=\"text-align: right;\">\n",
       "      <th></th>\n",
       "      <th>DAY</th>\n",
       "      <th>1</th>\n",
       "      <th>2</th>\n",
       "      <th>3</th>\n",
       "      <th>4</th>\n",
       "      <th>5</th>\n",
       "      <th>6</th>\n",
       "      <th>7</th>\n",
       "      <th>8</th>\n",
       "      <th>9</th>\n",
       "      <th>10</th>\n",
       "      <th>...</th>\n",
       "      <th>22</th>\n",
       "      <th>23</th>\n",
       "      <th>24</th>\n",
       "      <th>25</th>\n",
       "      <th>26</th>\n",
       "      <th>27</th>\n",
       "      <th>28</th>\n",
       "      <th>29</th>\n",
       "      <th>30</th>\n",
       "      <th>31</th>\n",
       "    </tr>\n",
       "    <tr>\n",
       "      <th>MONTH</th>\n",
       "      <th>type</th>\n",
       "      <th></th>\n",
       "      <th></th>\n",
       "      <th></th>\n",
       "      <th></th>\n",
       "      <th></th>\n",
       "      <th></th>\n",
       "      <th></th>\n",
       "      <th></th>\n",
       "      <th></th>\n",
       "      <th></th>\n",
       "      <th></th>\n",
       "      <th></th>\n",
       "      <th></th>\n",
       "      <th></th>\n",
       "      <th></th>\n",
       "      <th></th>\n",
       "      <th></th>\n",
       "      <th></th>\n",
       "      <th></th>\n",
       "      <th></th>\n",
       "      <th></th>\n",
       "    </tr>\n",
       "  </thead>\n",
       "  <tbody>\n",
       "    <tr>\n",
       "      <th rowspan=\"2\" valign=\"top\">1</th>\n",
       "      <th>TMAX</th>\n",
       "      <td>65.0</td>\n",
       "      <td>62.0</td>\n",
       "      <td>60.0</td>\n",
       "      <td>72.0</td>\n",
       "      <td>61.0</td>\n",
       "      <td>71.0</td>\n",
       "      <td>73.0</td>\n",
       "      <td>79.0</td>\n",
       "      <td>71.0</td>\n",
       "      <td>67.0</td>\n",
       "      <td>...</td>\n",
       "      <td>61.0</td>\n",
       "      <td>59.0</td>\n",
       "      <td>65.0</td>\n",
       "      <td>55.0</td>\n",
       "      <td>57.0</td>\n",
       "      <td>54.0</td>\n",
       "      <td>55.0</td>\n",
       "      <td>55.0</td>\n",
       "      <td>58.0</td>\n",
       "      <td>63.0</td>\n",
       "    </tr>\n",
       "    <tr>\n",
       "      <th>TMIN</th>\n",
       "      <td>37.0</td>\n",
       "      <td>38.0</td>\n",
       "      <td>42.0</td>\n",
       "      <td>43.0</td>\n",
       "      <td>40.0</td>\n",
       "      <td>39.0</td>\n",
       "      <td>38.0</td>\n",
       "      <td>36.0</td>\n",
       "      <td>39.0</td>\n",
       "      <td>37.0</td>\n",
       "      <td>...</td>\n",
       "      <td>41.0</td>\n",
       "      <td>40.0</td>\n",
       "      <td>38.0</td>\n",
       "      <td>44.0</td>\n",
       "      <td>40.0</td>\n",
       "      <td>48.0</td>\n",
       "      <td>49.0</td>\n",
       "      <td>42.0</td>\n",
       "      <td>37.0</td>\n",
       "      <td>37.0</td>\n",
       "    </tr>\n",
       "    <tr>\n",
       "      <th rowspan=\"2\" valign=\"top\">2</th>\n",
       "      <th>TMAX</th>\n",
       "      <td>66.0</td>\n",
       "      <td>67.0</td>\n",
       "      <td>69.0</td>\n",
       "      <td>63.0</td>\n",
       "      <td>66.0</td>\n",
       "      <td>68.0</td>\n",
       "      <td>60.0</td>\n",
       "      <td>57.0</td>\n",
       "      <td>59.0</td>\n",
       "      <td>61.0</td>\n",
       "      <td>...</td>\n",
       "      <td>75.0</td>\n",
       "      <td>75.0</td>\n",
       "      <td>70.0</td>\n",
       "      <td>66.0</td>\n",
       "      <td>69.0</td>\n",
       "      <td>76.0</td>\n",
       "      <td>68.0</td>\n",
       "      <td>NaN</td>\n",
       "      <td>NaN</td>\n",
       "      <td>NaN</td>\n",
       "    </tr>\n",
       "    <tr>\n",
       "      <th>TMIN</th>\n",
       "      <td>45.0</td>\n",
       "      <td>40.0</td>\n",
       "      <td>44.0</td>\n",
       "      <td>37.0</td>\n",
       "      <td>38.0</td>\n",
       "      <td>38.0</td>\n",
       "      <td>38.0</td>\n",
       "      <td>49.0</td>\n",
       "      <td>49.0</td>\n",
       "      <td>41.0</td>\n",
       "      <td>...</td>\n",
       "      <td>37.0</td>\n",
       "      <td>39.0</td>\n",
       "      <td>41.0</td>\n",
       "      <td>39.0</td>\n",
       "      <td>36.0</td>\n",
       "      <td>43.0</td>\n",
       "      <td>38.0</td>\n",
       "      <td>NaN</td>\n",
       "      <td>NaN</td>\n",
       "      <td>NaN</td>\n",
       "    </tr>\n",
       "    <tr>\n",
       "      <th>3</th>\n",
       "      <th>TMAX</th>\n",
       "      <td>68.0</td>\n",
       "      <td>66.0</td>\n",
       "      <td>59.0</td>\n",
       "      <td>62.0</td>\n",
       "      <td>67.0</td>\n",
       "      <td>69.0</td>\n",
       "      <td>60.0</td>\n",
       "      <td>69.0</td>\n",
       "      <td>65.0</td>\n",
       "      <td>58.0</td>\n",
       "      <td>...</td>\n",
       "      <td>71.0</td>\n",
       "      <td>72.0</td>\n",
       "      <td>67.0</td>\n",
       "      <td>65.0</td>\n",
       "      <td>63.0</td>\n",
       "      <td>72.0</td>\n",
       "      <td>73.0</td>\n",
       "      <td>77.0</td>\n",
       "      <td>NaN</td>\n",
       "      <td>NaN</td>\n",
       "    </tr>\n",
       "  </tbody>\n",
       "</table>\n",
       "<p>5 rows × 31 columns</p>\n",
       "</div>"
      ],
      "text/plain": [
       "DAY           1     2     3     4     5     6     7     8     9     10  ...  \\\n",
       "MONTH type                                                              ...   \n",
       "1     TMAX  65.0  62.0  60.0  72.0  61.0  71.0  73.0  79.0  71.0  67.0  ...   \n",
       "      TMIN  37.0  38.0  42.0  43.0  40.0  39.0  38.0  36.0  39.0  37.0  ...   \n",
       "2     TMAX  66.0  67.0  69.0  63.0  66.0  68.0  60.0  57.0  59.0  61.0  ...   \n",
       "      TMIN  45.0  40.0  44.0  37.0  38.0  38.0  38.0  49.0  49.0  41.0  ...   \n",
       "3     TMAX  68.0  66.0  59.0  62.0  67.0  69.0  60.0  69.0  65.0  58.0  ...   \n",
       "\n",
       "DAY           22    23    24    25    26    27    28    29    30    31  \n",
       "MONTH type                                                              \n",
       "1     TMAX  61.0  59.0  65.0  55.0  57.0  54.0  55.0  55.0  58.0  63.0  \n",
       "      TMIN  41.0  40.0  38.0  44.0  40.0  48.0  49.0  42.0  37.0  37.0  \n",
       "2     TMAX  75.0  75.0  70.0  66.0  69.0  76.0  68.0   NaN   NaN   NaN  \n",
       "      TMIN  37.0  39.0  41.0  39.0  36.0  43.0  38.0   NaN   NaN   NaN  \n",
       "3     TMAX  71.0  72.0  67.0  65.0  63.0  72.0  73.0  77.0   NaN   NaN  \n",
       "\n",
       "[5 rows x 31 columns]"
      ]
     },
     "execution_count": 44,
     "metadata": {},
     "output_type": "execute_result"
    }
   ],
   "source": [
    "weather3.head()"
   ]
  },
  {
   "cell_type": "markdown",
   "metadata": {
    "slideshow": {
     "slide_type": "subslide"
    },
    "tags": []
   },
   "source": [
    "## Many layouts\n",
    "\n",
    "### UN development data: multiple tables\n",
    "\n",
    "A final example: United Nations country development data organized into different tables according to variable type."
   ]
  },
  {
   "cell_type": "code",
   "execution_count": 13,
   "metadata": {
    "slideshow": {
     "slide_type": "skip"
    },
    "tags": []
   },
   "outputs": [],
   "source": [
    "undev1 = pd.read_csv(\n",
    "    'data/hdi3.csv', \n",
    "    encoding = 'latin1',\n",
    "    na_values = '..'\n",
    ").drop(\n",
    "    columns = 'hdi_rank'\n",
    ").set_index(\n",
    "    'country'\n",
    ").sort_index()\n",
    "\n",
    "undev2 = pd.read_csv(\n",
    "    'data/hdi2.csv', \n",
    "    encoding = 'latin1',\n",
    "    na_values = '..'\n",
    ").drop(\n",
    "    columns = ['hdi_rank', 'maternal_mortality']\n",
    ").set_index('country')"
   ]
  },
  {
   "cell_type": "markdown",
   "metadata": {
    "slideshow": {
     "slide_type": "fragment"
    },
    "tags": []
   },
   "source": [
    "Here is a table of population measurements:"
   ]
  },
  {
   "cell_type": "code",
   "execution_count": 14,
   "metadata": {
    "slideshow": {
     "slide_type": "fragment"
    },
    "tags": []
   },
   "outputs": [
    {
     "data": {
      "text/html": [
       "<div>\n",
       "<style scoped>\n",
       "    .dataframe tbody tr th:only-of-type {\n",
       "        vertical-align: middle;\n",
       "    }\n",
       "\n",
       "    .dataframe tbody tr th {\n",
       "        vertical-align: top;\n",
       "    }\n",
       "\n",
       "    .dataframe thead th {\n",
       "        text-align: right;\n",
       "    }\n",
       "</style>\n",
       "<table border=\"1\" class=\"dataframe\">\n",
       "  <thead>\n",
       "    <tr style=\"text-align: right;\">\n",
       "      <th></th>\n",
       "      <th>total_pop</th>\n",
       "      <th>urban_pct_pop</th>\n",
       "      <th>pop_under5</th>\n",
       "      <th>pop_15to64</th>\n",
       "      <th>pop_over65</th>\n",
       "    </tr>\n",
       "    <tr>\n",
       "      <th>country</th>\n",
       "      <th></th>\n",
       "      <th></th>\n",
       "      <th></th>\n",
       "      <th></th>\n",
       "      <th></th>\n",
       "    </tr>\n",
       "  </thead>\n",
       "  <tbody>\n",
       "    <tr>\n",
       "      <th>Afghanistan</th>\n",
       "      <td>38.0</td>\n",
       "      <td>25.8</td>\n",
       "      <td>5.6</td>\n",
       "      <td>20.9</td>\n",
       "      <td>1.0</td>\n",
       "    </tr>\n",
       "    <tr>\n",
       "      <th>Albania</th>\n",
       "      <td>2.9</td>\n",
       "      <td>61.2</td>\n",
       "      <td>0.2</td>\n",
       "      <td>2.0</td>\n",
       "      <td>0.4</td>\n",
       "    </tr>\n",
       "    <tr>\n",
       "      <th>Algeria</th>\n",
       "      <td>43.1</td>\n",
       "      <td>73.2</td>\n",
       "      <td>5.0</td>\n",
       "      <td>27.1</td>\n",
       "      <td>2.8</td>\n",
       "    </tr>\n",
       "  </tbody>\n",
       "</table>\n",
       "</div>"
      ],
      "text/plain": [
       "            total_pop  urban_pct_pop  pop_under5 pop_15to64  pop_over65\n",
       "country                                                                \n",
       "Afghanistan      38.0           25.8         5.6       20.9         1.0\n",
       "Albania           2.9           61.2         0.2        2.0         0.4\n",
       "Algeria          43.1           73.2         5.0       27.1         2.8"
      ]
     },
     "execution_count": 14,
     "metadata": {},
     "output_type": "execute_result"
    }
   ],
   "source": [
    "undev1.head(3)"
   ]
  },
  {
   "cell_type": "markdown",
   "metadata": {
    "slideshow": {
     "slide_type": "fragment"
    },
    "tags": []
   },
   "source": [
    "And here is a table of a few gender-related variables:"
   ]
  },
  {
   "cell_type": "code",
   "execution_count": 15,
   "metadata": {
    "slideshow": {
     "slide_type": "fragment"
    },
    "tags": []
   },
   "outputs": [
    {
     "data": {
      "text/html": [
       "<div>\n",
       "<style scoped>\n",
       "    .dataframe tbody tr th:only-of-type {\n",
       "        vertical-align: middle;\n",
       "    }\n",
       "\n",
       "    .dataframe tbody tr th {\n",
       "        vertical-align: top;\n",
       "    }\n",
       "\n",
       "    .dataframe thead th {\n",
       "        text-align: right;\n",
       "    }\n",
       "</style>\n",
       "<table border=\"1\" class=\"dataframe\">\n",
       "  <thead>\n",
       "    <tr style=\"text-align: right;\">\n",
       "      <th></th>\n",
       "      <th>gender_inequality</th>\n",
       "      <th>parliament_pct_women</th>\n",
       "      <th>labor_participation_women</th>\n",
       "      <th>labor_participation_men</th>\n",
       "    </tr>\n",
       "    <tr>\n",
       "      <th>country</th>\n",
       "      <th></th>\n",
       "      <th></th>\n",
       "      <th></th>\n",
       "      <th></th>\n",
       "    </tr>\n",
       "  </thead>\n",
       "  <tbody>\n",
       "    <tr>\n",
       "      <th>Norway</th>\n",
       "      <td>0.045</td>\n",
       "      <td>40.8</td>\n",
       "      <td>60.4</td>\n",
       "      <td>67.2</td>\n",
       "    </tr>\n",
       "    <tr>\n",
       "      <th>Ireland</th>\n",
       "      <td>0.093</td>\n",
       "      <td>24.3</td>\n",
       "      <td>56.0</td>\n",
       "      <td>68.4</td>\n",
       "    </tr>\n",
       "    <tr>\n",
       "      <th>Switzerland</th>\n",
       "      <td>0.025</td>\n",
       "      <td>38.6</td>\n",
       "      <td>62.9</td>\n",
       "      <td>73.8</td>\n",
       "    </tr>\n",
       "  </tbody>\n",
       "</table>\n",
       "</div>"
      ],
      "text/plain": [
       "             gender_inequality  parliament_pct_women  \\\n",
       "country                                                \n",
       "Norway                   0.045                  40.8   \n",
       "Ireland                  0.093                  24.3   \n",
       "Switzerland              0.025                  38.6   \n",
       "\n",
       "             labor_participation_women  labor_participation_men  \n",
       "country                                                          \n",
       "Norway                            60.4                     67.2  \n",
       "Ireland                           56.0                     68.4  \n",
       "Switzerland                       62.9                     73.8  "
      ]
     },
     "execution_count": 15,
     "metadata": {},
     "output_type": "execute_result"
    }
   ],
   "source": [
    "undev2.head(3)"
   ]
  },
  {
   "cell_type": "markdown",
   "metadata": {
    "slideshow": {
     "slide_type": "subslide"
    },
    "tags": []
   },
   "source": [
    "## Many layouts\n",
    "\n",
    "### UN development data: one table\n",
    "\n",
    "Here are both tables merged by country:"
   ]
  },
  {
   "cell_type": "code",
   "execution_count": 16,
   "metadata": {
    "slideshow": {
     "slide_type": "skip"
    },
    "tags": []
   },
   "outputs": [],
   "source": [
    "undev_combined1 = pd.merge(undev1, undev2, on = 'country')"
   ]
  },
  {
   "cell_type": "code",
   "execution_count": 17,
   "metadata": {},
   "outputs": [
    {
     "data": {
      "text/html": [
       "<div>\n",
       "<style scoped>\n",
       "    .dataframe tbody tr th:only-of-type {\n",
       "        vertical-align: middle;\n",
       "    }\n",
       "\n",
       "    .dataframe tbody tr th {\n",
       "        vertical-align: top;\n",
       "    }\n",
       "\n",
       "    .dataframe thead th {\n",
       "        text-align: right;\n",
       "    }\n",
       "</style>\n",
       "<table border=\"1\" class=\"dataframe\">\n",
       "  <thead>\n",
       "    <tr style=\"text-align: right;\">\n",
       "      <th></th>\n",
       "      <th>total_pop</th>\n",
       "      <th>urban_pct_pop</th>\n",
       "      <th>pop_under5</th>\n",
       "      <th>pop_15to64</th>\n",
       "      <th>pop_over65</th>\n",
       "      <th>gender_inequality</th>\n",
       "      <th>parliament_pct_women</th>\n",
       "      <th>labor_participation_women</th>\n",
       "      <th>labor_participation_men</th>\n",
       "    </tr>\n",
       "    <tr>\n",
       "      <th>country</th>\n",
       "      <th></th>\n",
       "      <th></th>\n",
       "      <th></th>\n",
       "      <th></th>\n",
       "      <th></th>\n",
       "      <th></th>\n",
       "      <th></th>\n",
       "      <th></th>\n",
       "      <th></th>\n",
       "    </tr>\n",
       "  </thead>\n",
       "  <tbody>\n",
       "    <tr>\n",
       "      <th>Afghanistan</th>\n",
       "      <td>38.0</td>\n",
       "      <td>25.8</td>\n",
       "      <td>5.6</td>\n",
       "      <td>20.9</td>\n",
       "      <td>1.0</td>\n",
       "      <td>0.655</td>\n",
       "      <td>27.2</td>\n",
       "      <td>21.6</td>\n",
       "      <td>74.7</td>\n",
       "    </tr>\n",
       "    <tr>\n",
       "      <th>Albania</th>\n",
       "      <td>2.9</td>\n",
       "      <td>61.2</td>\n",
       "      <td>0.2</td>\n",
       "      <td>2.0</td>\n",
       "      <td>0.4</td>\n",
       "      <td>0.181</td>\n",
       "      <td>29.5</td>\n",
       "      <td>46.7</td>\n",
       "      <td>64.6</td>\n",
       "    </tr>\n",
       "    <tr>\n",
       "      <th>Algeria</th>\n",
       "      <td>43.1</td>\n",
       "      <td>73.2</td>\n",
       "      <td>5.0</td>\n",
       "      <td>27.1</td>\n",
       "      <td>2.8</td>\n",
       "      <td>0.429</td>\n",
       "      <td>21.5</td>\n",
       "      <td>14.6</td>\n",
       "      <td>67.4</td>\n",
       "    </tr>\n",
       "  </tbody>\n",
       "</table>\n",
       "</div>"
      ],
      "text/plain": [
       "            total_pop  urban_pct_pop  pop_under5 pop_15to64  pop_over65  \\\n",
       "country                                                                   \n",
       "Afghanistan      38.0           25.8         5.6       20.9         1.0   \n",
       "Albania           2.9           61.2         0.2        2.0         0.4   \n",
       "Algeria          43.1           73.2         5.0       27.1         2.8   \n",
       "\n",
       "             gender_inequality  parliament_pct_women  \\\n",
       "country                                                \n",
       "Afghanistan              0.655                  27.2   \n",
       "Albania                  0.181                  29.5   \n",
       "Algeria                  0.429                  21.5   \n",
       "\n",
       "             labor_participation_women  labor_participation_men  \n",
       "country                                                          \n",
       "Afghanistan                       21.6                     74.7  \n",
       "Albania                           46.7                     64.6  \n",
       "Algeria                           14.6                     67.4  "
      ]
     },
     "execution_count": 17,
     "metadata": {},
     "output_type": "execute_result"
    }
   ],
   "source": [
    "undev_combined1.head(3)"
   ]
  },
  {
   "cell_type": "markdown",
   "metadata": {
    "slideshow": {
     "slide_type": "subslide"
    },
    "tags": []
   },
   "source": [
    "## Many layouts\n",
    "\n",
    "### UN development data: one (longer) table\n",
    "\n",
    "And here is another arrangement of the merged table:"
   ]
  },
  {
   "cell_type": "code",
   "execution_count": 18,
   "metadata": {
    "slideshow": {
     "slide_type": "skip"
    },
    "tags": []
   },
   "outputs": [],
   "source": [
    "undev_combined2 = undev_combined1.melt(\n",
    "    id_vars = undev1.columns[undev1.columns.str.contains('pop')].tolist(),\n",
    "    var_name = 'gender_variable',\n",
    "    value_name = 'gender_value',\n",
    "    ignore_index = False\n",
    ").melt(\n",
    "    id_vars = ['gender_variable', 'gender_value'],\n",
    "    var_name = 'population_variable',\n",
    "    value_name = 'population_value',\n",
    "    ignore_index = False\n",
    ")"
   ]
  },
  {
   "cell_type": "code",
   "execution_count": 19,
   "metadata": {},
   "outputs": [
    {
     "data": {
      "text/html": [
       "<div>\n",
       "<style scoped>\n",
       "    .dataframe tbody tr th:only-of-type {\n",
       "        vertical-align: middle;\n",
       "    }\n",
       "\n",
       "    .dataframe tbody tr th {\n",
       "        vertical-align: top;\n",
       "    }\n",
       "\n",
       "    .dataframe thead th {\n",
       "        text-align: right;\n",
       "    }\n",
       "</style>\n",
       "<table border=\"1\" class=\"dataframe\">\n",
       "  <thead>\n",
       "    <tr style=\"text-align: right;\">\n",
       "      <th></th>\n",
       "      <th>gender_variable</th>\n",
       "      <th>gender_value</th>\n",
       "      <th>population_variable</th>\n",
       "      <th>population_value</th>\n",
       "    </tr>\n",
       "    <tr>\n",
       "      <th>country</th>\n",
       "      <th></th>\n",
       "      <th></th>\n",
       "      <th></th>\n",
       "      <th></th>\n",
       "    </tr>\n",
       "  </thead>\n",
       "  <tbody>\n",
       "    <tr>\n",
       "      <th>Afghanistan</th>\n",
       "      <td>gender_inequality</td>\n",
       "      <td>0.655</td>\n",
       "      <td>total_pop</td>\n",
       "      <td>38.0</td>\n",
       "    </tr>\n",
       "    <tr>\n",
       "      <th>Albania</th>\n",
       "      <td>gender_inequality</td>\n",
       "      <td>0.181</td>\n",
       "      <td>total_pop</td>\n",
       "      <td>2.9</td>\n",
       "    </tr>\n",
       "    <tr>\n",
       "      <th>Algeria</th>\n",
       "      <td>gender_inequality</td>\n",
       "      <td>0.429</td>\n",
       "      <td>total_pop</td>\n",
       "      <td>43.1</td>\n",
       "    </tr>\n",
       "    <tr>\n",
       "      <th>Andorra</th>\n",
       "      <td>gender_inequality</td>\n",
       "      <td>NaN</td>\n",
       "      <td>total_pop</td>\n",
       "      <td>0.1</td>\n",
       "    </tr>\n",
       "    <tr>\n",
       "      <th>Angola</th>\n",
       "      <td>gender_inequality</td>\n",
       "      <td>0.536</td>\n",
       "      <td>total_pop</td>\n",
       "      <td>31.8</td>\n",
       "    </tr>\n",
       "  </tbody>\n",
       "</table>\n",
       "</div>"
      ],
      "text/plain": [
       "               gender_variable  gender_value population_variable  \\\n",
       "country                                                            \n",
       "Afghanistan  gender_inequality         0.655           total_pop   \n",
       "Albania      gender_inequality         0.181           total_pop   \n",
       "Algeria      gender_inequality         0.429           total_pop   \n",
       "Andorra      gender_inequality           NaN           total_pop   \n",
       "Angola       gender_inequality         0.536           total_pop   \n",
       "\n",
       "            population_value  \n",
       "country                       \n",
       "Afghanistan             38.0  \n",
       "Albania                  2.9  \n",
       "Algeria                 43.1  \n",
       "Andorra                  0.1  \n",
       "Angola                  31.8  "
      ]
     },
     "execution_count": 19,
     "metadata": {},
     "output_type": "execute_result"
    }
   ],
   "source": [
    "undev_combined2.head(5)"
   ]
  },
  {
   "cell_type": "markdown",
   "metadata": {
    "slideshow": {
     "slide_type": "subslide"
    },
    "tags": []
   },
   "source": [
    "## Many layouts\n",
    "\n",
    "**Pause and reflect**\n",
    "\n",
    "Return to one of the examples and review the different layouts."
   ]
  },
  {
   "cell_type": "markdown",
   "metadata": {
    "slideshow": {
     "slide_type": "fragment"
    },
    "tags": []
   },
   "source": [
    "* If you had to pick one layout, which would you choose?\n",
    "* Why would you choose that one?\n",
    "    + Aesthetic preference?\n",
    "    + \"Just makes sense this way\"?\n",
    "    + \"This way is better because...\"? \n",
    "* Can you envision advantages or disadvantages to different layouts?"
   ]
  },
  {
   "cell_type": "markdown",
   "metadata": {
    "slideshow": {
     "slide_type": "subslide"
    },
    "tags": []
   },
   "source": [
    "## Few organizational constraints\n",
    "\n",
    "It's surprisingly difficult to articulate reasons why one layout might be preferable to another."
   ]
  },
  {
   "cell_type": "markdown",
   "metadata": {
    "slideshow": {
     "slide_type": "fragment"
    },
    "tags": []
   },
   "source": [
    "Possibly for this reason, most data are stored in a layout that made intuitive sense to someone responsible for data management or collection at some point in time.\n",
    "\n",
    "* Usually the choice of layout isn't principled\n",
    "* Idiosyncratic: two people are likely to make different choices"
   ]
  },
  {
   "cell_type": "markdown",
   "metadata": {
    "slideshow": {
     "slide_type": "fragment"
    },
    "tags": []
   },
   "source": [
    "As a result:\n",
    "\n",
    "* Few widely used conventions\n",
    "* Lots of variability 'in the wild'\n",
    "* Datasets are often organized in bizarre ways"
   ]
  },
  {
   "cell_type": "markdown",
   "metadata": {
    "slideshow": {
     "slide_type": "subslide"
    },
    "tags": []
   },
   "source": [
    "## Consequences for the data scientist\n",
    "\n",
    "Because of the wide range of possible layouts for a dataset, and the variety of choices that are made about how to store data, **data scientists are constantly faced with determining how best to reorganize datasets in a way that facilitates exploration and analysis.** "
   ]
  },
  {
   "cell_type": "markdown",
   "metadata": {
    "slideshow": {
     "slide_type": "fragment"
    },
    "tags": []
   },
   "source": [
    "Broadly, this involves two interdependent choices:\n",
    "\n",
    "* *Choice of **representation**: how to encode information.*\n",
    "    + Example: parse dates as 'MM/DD/YYYY' (one variable) or 'MM', 'DD', 'YYYY' (three variables)?\n",
    "    + Example: use values 1, 2, 3 or 'low', 'med', 'high'?\n",
    "    + Example: name variables 'question1', 'question2', ..., or 'age', 'income', ...?\n",
    "    "
   ]
  },
  {
   "cell_type": "markdown",
   "metadata": {
    "slideshow": {
     "slide_type": "fragment"
    },
    "tags": []
   },
   "source": [
    "* *Choice of **form**: how to display information*\n",
    "    + Example: wide table or long table?\n",
    "    + Example: one table or many?"
   ]
  },
  {
   "cell_type": "markdown",
   "metadata": {
    "slideshow": {
     "slide_type": "subslide"
    },
    "tags": []
   },
   "source": [
    "## Remedy: the tidy data standard\n",
    "\n",
    "Instead of addressing these challenges -- choice of form and representation -- anew every single time, it is immensely helpful to have a set of organizational principles to standardize the process of rearranging data."
   ]
  },
  {
   "cell_type": "markdown",
   "metadata": {
    "slideshow": {
     "slide_type": "fragment"
    },
    "tags": []
   },
   "source": [
    "The **tidy data standard** is a principled way of organizing data values. It has two main advantages:\n",
    "\n",
    "1. Facilitates workflow by establishing a consistent dataset structure.\n",
    "2. Principles are designed to make transformation, exploration, visualization, and modeling easy."
   ]
  },
  {
   "cell_type": "markdown",
   "metadata": {
    "slideshow": {
     "slide_type": "fragment"
    },
    "tags": []
   },
   "source": [
    "This is a pretty intuitive idea. Many (most?) other things are easier when they're thoughtfully organized:\n",
    "\n",
    "* Kitchens\n",
    "* Closets\n",
    "* Taxes"
   ]
  },
  {
   "cell_type": "markdown",
   "metadata": {
    "slideshow": {
     "slide_type": "slide"
    },
    "tags": []
   },
   "source": [
    "# Principles of tidy data\n",
    "\n",
    "* **Tidy data matches semantics with structure**\n",
    "    + Data semantics: observations, variables, units\n",
    "    + Tabular structure: rows and columns\n",
    "    + The tidy data standard\n",
    "    + Common messes\n",
    "    + Tidying operations"
   ]
  },
  {
   "cell_type": "markdown",
   "metadata": {
    "slideshow": {
     "slide_type": "subslide"
    },
    "tags": []
   },
   "source": [
    "## Matching semantics with structure\n",
    "\n",
    "> \"Tidying your data means storing it in a consistent form that matches the semantics of the dataset with the way it is stored. In brief, when your data is tidy, each column is a variable, and each row is an observation. Tidy data is important because the consistent structure lets you focus your struggle on questions about the data, not fighting to get the data into the right form for different functions.\" *Wickham and Grolemund, R for Data Science, 2017.*\n",
    "\n",
    "A dataset is a collection of values."
   ]
  },
  {
   "cell_type": "markdown",
   "metadata": {
    "slideshow": {
     "slide_type": "fragment"
    },
    "tags": []
   },
   "source": [
    "* semantics: meaning\n",
    "    + *data semantics* refers to the meaning of each value"
   ]
  },
  {
   "cell_type": "markdown",
   "metadata": {
    "slideshow": {
     "slide_type": "fragment"
    },
    "tags": []
   },
   "source": [
    "* structure: form \n",
    "    + *data structure* refers to how values are arranged"
   ]
  },
  {
   "cell_type": "markdown",
   "metadata": {
    "slideshow": {
     "slide_type": "fragment"
    },
    "tags": []
   },
   "source": [
    "The **tidy standard**: data semantics $\\longleftrightarrow$ data structure"
   ]
  },
  {
   "cell_type": "markdown",
   "metadata": {
    "slideshow": {
     "slide_type": "subslide"
    },
    "tags": []
   },
   "source": [
    "## Data semantics: units, variables, and observations\n",
    "\n",
    "*Data semantics* refers to the meaning of values. To introduce some general vocabulary, each value is\n",
    "\n",
    "* an **observation**\n",
    "* of a **variable** \n",
    "* taken on a **unit**."
   ]
  },
  {
   "cell_type": "markdown",
   "metadata": {
    "slideshow": {
     "slide_type": "fragment"
    },
    "tags": []
   },
   "source": [
    "To be precise:\n",
    "\n",
    "* An **observational unit** is the entity measured.\n",
    "* A **variable** is an attribute measured on each unit.\n",
    "* An **observation** is a collection of measurements taken on one unit."
   ]
  },
  {
   "cell_type": "markdown",
   "metadata": {
    "slideshow": {
     "slide_type": "subslide"
    },
    "tags": []
   },
   "source": [
    "## Identifying units, variables, and observations\n",
    "\n",
    "Let's do an example. In the GDP growth data:\n",
    "\n",
    "Term | Definition| Example\n",
    "---|---|---\n",
    "Observational units | Entity measured | Countries\n",
    "Variables | Attributes measured | Year, GDP growth\n",
    "Observations | Set of measurements per unit | Annual records"
   ]
  },
  {
   "cell_type": "code",
   "execution_count": 45,
   "metadata": {
    "slideshow": {
     "slide_type": "fragment"
    },
    "tags": []
   },
   "outputs": [
    {
     "data": {
      "text/html": [
       "<div>\n",
       "<style scoped>\n",
       "    .dataframe tbody tr th:only-of-type {\n",
       "        vertical-align: middle;\n",
       "    }\n",
       "\n",
       "    .dataframe tbody tr th {\n",
       "        vertical-align: top;\n",
       "    }\n",
       "\n",
       "    .dataframe thead th {\n",
       "        text-align: right;\n",
       "    }\n",
       "</style>\n",
       "<table border=\"1\" class=\"dataframe\">\n",
       "  <thead>\n",
       "    <tr style=\"text-align: right;\">\n",
       "      <th></th>\n",
       "      <th>year</th>\n",
       "      <th>growth_pct</th>\n",
       "    </tr>\n",
       "    <tr>\n",
       "      <th>Country Name</th>\n",
       "      <th></th>\n",
       "      <th></th>\n",
       "    </tr>\n",
       "  </thead>\n",
       "  <tbody>\n",
       "    <tr>\n",
       "      <th>Algeria</th>\n",
       "      <td>1961</td>\n",
       "      <td>-13.605441</td>\n",
       "    </tr>\n",
       "  </tbody>\n",
       "</table>\n",
       "</div>"
      ],
      "text/plain": [
       "              year  growth_pct\n",
       "Country Name                  \n",
       "Algeria       1961  -13.605441"
      ]
     },
     "execution_count": 45,
     "metadata": {},
     "output_type": "execute_result"
    }
   ],
   "source": [
    "# third record\n",
    "gdp2.iloc[[2], :]"
   ]
  },
  {
   "cell_type": "markdown",
   "metadata": {
    "slideshow": {
     "slide_type": "fragment"
    },
    "tags": []
   },
   "source": [
    "So, below, -13.605441 (variable) in 1961 (variable) is a record (observation) for Algeria (unit)."
   ]
  },
  {
   "cell_type": "markdown",
   "metadata": {
    "slideshow": {
     "slide_type": "subslide"
    },
    "tags": []
   },
   "source": [
    "## Identifying units, variables, and observations\n",
    "\n",
    "In the weather data:\n",
    "\n",
    "Term | Definition | Instance\n",
    "---|---|---\n",
    "Observational unit | Entity measured | SB airport weather station (location)\n",
    "Variables | Attributes measured | Min temp, max temp, date, station info\n",
    "Observations | Set of measurements per unit | Daily records"
   ]
  },
  {
   "cell_type": "code",
   "execution_count": 46,
   "metadata": {
    "slideshow": {
     "slide_type": "fragment"
    },
    "tags": []
   },
   "outputs": [
    {
     "data": {
      "text/html": [
       "<div>\n",
       "<style scoped>\n",
       "    .dataframe tbody tr th:only-of-type {\n",
       "        vertical-align: middle;\n",
       "    }\n",
       "\n",
       "    .dataframe tbody tr th {\n",
       "        vertical-align: top;\n",
       "    }\n",
       "\n",
       "    .dataframe thead th {\n",
       "        text-align: right;\n",
       "    }\n",
       "</style>\n",
       "<table border=\"1\" class=\"dataframe\">\n",
       "  <thead>\n",
       "    <tr style=\"text-align: right;\">\n",
       "      <th></th>\n",
       "      <th>STATION</th>\n",
       "      <th>NAME</th>\n",
       "      <th>DATE</th>\n",
       "      <th>TMAX</th>\n",
       "      <th>TMIN</th>\n",
       "    </tr>\n",
       "  </thead>\n",
       "  <tbody>\n",
       "    <tr>\n",
       "      <th>0</th>\n",
       "      <td>USW00023190</td>\n",
       "      <td>SANTA BARBARA MUNICIPAL AIRPORT, CA US</td>\n",
       "      <td>1/1/2021</td>\n",
       "      <td>65</td>\n",
       "      <td>37</td>\n",
       "    </tr>\n",
       "  </tbody>\n",
       "</table>\n",
       "</div>"
      ],
      "text/plain": [
       "       STATION                                    NAME      DATE  TMAX  TMIN\n",
       "0  USW00023190  SANTA BARBARA MUNICIPAL AIRPORT, CA US  1/1/2021    65    37"
      ]
     },
     "execution_count": 46,
     "metadata": {},
     "output_type": "execute_result"
    }
   ],
   "source": [
    "# first record\n",
    "weather1.iloc[[0], :]"
   ]
  },
  {
   "cell_type": "markdown",
   "metadata": {
    "slideshow": {
     "slide_type": "fragment"
    },
    "tags": []
   },
   "source": [
    "For example: 65 degrees Farenheit is the maximum temperature (one variable) recorded on a day (one observation) at the SB airport weather station (unit)."
   ]
  },
  {
   "cell_type": "markdown",
   "metadata": {
    "slideshow": {
     "slide_type": "subslide"
    },
    "tags": []
   },
   "source": [
    "## Data structure\n",
    "\n",
    "*Data structure* refers to the form in which it is stored. \n",
    "\n",
    "In this context, that means a tabular arranement of a dataset comprising:\n",
    "\n",
    "* rows\n",
    "* columns\n",
    "\n",
    "As we saw, there are multiple structures available to represent any dataset."
   ]
  },
  {
   "cell_type": "markdown",
   "metadata": {
    "slideshow": {
     "slide_type": "subslide"
    },
    "tags": []
   },
   "source": [
    "## The tidy standard\n",
    "\n",
    "The tidy standard consists in matching semantics and structure. "
   ]
  },
  {
   "cell_type": "markdown",
   "metadata": {
    "slideshow": {
     "slide_type": "fragment"
    },
    "tags": []
   },
   "source": [
    "We can now make that precise. A dataset conforming to the **tidy standard** is organized so that:\n",
    "\n",
    "1. Each variable is a column.\n",
    "2. Each observation is a row.\n",
    "3. Each table contains measurements on only one type of observational unit."
   ]
  },
  {
   "cell_type": "markdown",
   "metadata": {
    "slideshow": {
     "slide_type": "fragment"
    },
    "tags": []
   },
   "source": [
    "<img src=\"figures/tidy-layout.png\" style=\"height:200px\">"
   ]
  },
  {
   "cell_type": "markdown",
   "metadata": {
    "slideshow": {
     "slide_type": "subslide"
    },
    "tags": []
   },
   "source": [
    "## Tidy or messy?\n",
    "\n",
    "Let's revisit some of our examples of multiple layouts, starting with `gdp1`."
   ]
  },
  {
   "cell_type": "code",
   "execution_count": 47,
   "metadata": {
    "slideshow": {
     "slide_type": "fragment"
    },
    "tags": []
   },
   "outputs": [
    {
     "data": {
      "text/html": [
       "<div>\n",
       "<style scoped>\n",
       "    .dataframe tbody tr th:only-of-type {\n",
       "        vertical-align: middle;\n",
       "    }\n",
       "\n",
       "    .dataframe tbody tr th {\n",
       "        vertical-align: top;\n",
       "    }\n",
       "\n",
       "    .dataframe thead th {\n",
       "        text-align: right;\n",
       "    }\n",
       "</style>\n",
       "<table border=\"1\" class=\"dataframe\">\n",
       "  <thead>\n",
       "    <tr style=\"text-align: right;\">\n",
       "      <th></th>\n",
       "      <th>Country Name</th>\n",
       "      <th>Country Code</th>\n",
       "      <th>1961</th>\n",
       "      <th>1962</th>\n",
       "      <th>1963</th>\n",
       "      <th>1964</th>\n",
       "      <th>1965</th>\n",
       "      <th>1966</th>\n",
       "      <th>1967</th>\n",
       "      <th>1968</th>\n",
       "      <th>...</th>\n",
       "      <th>2010</th>\n",
       "      <th>2011</th>\n",
       "      <th>2012</th>\n",
       "      <th>2013</th>\n",
       "      <th>2014</th>\n",
       "      <th>2015</th>\n",
       "      <th>2016</th>\n",
       "      <th>2017</th>\n",
       "      <th>2018</th>\n",
       "      <th>2019</th>\n",
       "    </tr>\n",
       "  </thead>\n",
       "  <tbody>\n",
       "    <tr>\n",
       "      <th>0</th>\n",
       "      <td>Aruba</td>\n",
       "      <td>ABW</td>\n",
       "      <td>NaN</td>\n",
       "      <td>NaN</td>\n",
       "      <td>NaN</td>\n",
       "      <td>NaN</td>\n",
       "      <td>NaN</td>\n",
       "      <td>NaN</td>\n",
       "      <td>NaN</td>\n",
       "      <td>NaN</td>\n",
       "      <td>...</td>\n",
       "      <td>-3.685029</td>\n",
       "      <td>3.446055</td>\n",
       "      <td>-1.369863</td>\n",
       "      <td>4.198232</td>\n",
       "      <td>0.300000</td>\n",
       "      <td>5.700001</td>\n",
       "      <td>2.100000</td>\n",
       "      <td>1.999999</td>\n",
       "      <td>NaN</td>\n",
       "      <td>NaN</td>\n",
       "    </tr>\n",
       "    <tr>\n",
       "      <th>1</th>\n",
       "      <td>Afghanistan</td>\n",
       "      <td>AFG</td>\n",
       "      <td>NaN</td>\n",
       "      <td>NaN</td>\n",
       "      <td>NaN</td>\n",
       "      <td>NaN</td>\n",
       "      <td>NaN</td>\n",
       "      <td>NaN</td>\n",
       "      <td>NaN</td>\n",
       "      <td>NaN</td>\n",
       "      <td>...</td>\n",
       "      <td>14.362441</td>\n",
       "      <td>0.426355</td>\n",
       "      <td>12.752287</td>\n",
       "      <td>5.600745</td>\n",
       "      <td>2.724543</td>\n",
       "      <td>1.451315</td>\n",
       "      <td>2.260314</td>\n",
       "      <td>2.647003</td>\n",
       "      <td>1.189228</td>\n",
       "      <td>3.911603</td>\n",
       "    </tr>\n",
       "    <tr>\n",
       "      <th>2</th>\n",
       "      <td>Angola</td>\n",
       "      <td>AGO</td>\n",
       "      <td>NaN</td>\n",
       "      <td>NaN</td>\n",
       "      <td>NaN</td>\n",
       "      <td>NaN</td>\n",
       "      <td>NaN</td>\n",
       "      <td>NaN</td>\n",
       "      <td>NaN</td>\n",
       "      <td>NaN</td>\n",
       "      <td>...</td>\n",
       "      <td>4.403933</td>\n",
       "      <td>3.471976</td>\n",
       "      <td>8.542188</td>\n",
       "      <td>4.954545</td>\n",
       "      <td>4.822628</td>\n",
       "      <td>0.943572</td>\n",
       "      <td>-2.580050</td>\n",
       "      <td>-0.147213</td>\n",
       "      <td>-2.003630</td>\n",
       "      <td>-0.624644</td>\n",
       "    </tr>\n",
       "  </tbody>\n",
       "</table>\n",
       "<p>3 rows × 61 columns</p>\n",
       "</div>"
      ],
      "text/plain": [
       "  Country Name Country Code  1961  1962  1963  1964  1965  1966  1967  1968  \\\n",
       "0        Aruba          ABW   NaN   NaN   NaN   NaN   NaN   NaN   NaN   NaN   \n",
       "1  Afghanistan          AFG   NaN   NaN   NaN   NaN   NaN   NaN   NaN   NaN   \n",
       "2       Angola          AGO   NaN   NaN   NaN   NaN   NaN   NaN   NaN   NaN   \n",
       "\n",
       "   ...       2010      2011       2012      2013      2014      2015  \\\n",
       "0  ...  -3.685029  3.446055  -1.369863  4.198232  0.300000  5.700001   \n",
       "1  ...  14.362441  0.426355  12.752287  5.600745  2.724543  1.451315   \n",
       "2  ...   4.403933  3.471976   8.542188  4.954545  4.822628  0.943572   \n",
       "\n",
       "       2016      2017      2018      2019  \n",
       "0  2.100000  1.999999       NaN       NaN  \n",
       "1  2.260314  2.647003  1.189228  3.911603  \n",
       "2 -2.580050 -0.147213 -2.003630 -0.624644  \n",
       "\n",
       "[3 rows x 61 columns]"
      ]
     },
     "execution_count": 47,
     "metadata": {},
     "output_type": "execute_result"
    }
   ],
   "source": [
    "gdp1.head(3)"
   ]
  },
  {
   "cell_type": "markdown",
   "metadata": {
    "slideshow": {
     "slide_type": "fragment"
    },
    "tags": []
   },
   "source": [
    "We can compare the semantics and structure for alignment:\n",
    "\n",
    "Semantics | - || Structure | -\n",
    "---|---||---|---\n",
    "Observations | Annual records || Rows | Countries\n",
    "Variables | GDP growth and year || Columns | Value of year\n",
    "Observational units | Countries || Tables | Just one\n",
    "\n",
    "Rules 1 and 2 are violated, since column names are values, not variables. *Not tidy*."
   ]
  },
  {
   "cell_type": "markdown",
   "metadata": {
    "slideshow": {
     "slide_type": "subslide"
    },
    "tags": []
   },
   "source": [
    "## Tidy or messy?\n",
    "\n",
    "In `gdp2`:"
   ]
  },
  {
   "cell_type": "code",
   "execution_count": 48,
   "metadata": {
    "slideshow": {
     "slide_type": "fragment"
    },
    "tags": []
   },
   "outputs": [
    {
     "data": {
      "text/html": [
       "<div>\n",
       "<style scoped>\n",
       "    .dataframe tbody tr th:only-of-type {\n",
       "        vertical-align: middle;\n",
       "    }\n",
       "\n",
       "    .dataframe tbody tr th {\n",
       "        vertical-align: top;\n",
       "    }\n",
       "\n",
       "    .dataframe thead th {\n",
       "        text-align: right;\n",
       "    }\n",
       "</style>\n",
       "<table border=\"1\" class=\"dataframe\">\n",
       "  <thead>\n",
       "    <tr style=\"text-align: right;\">\n",
       "      <th></th>\n",
       "      <th>year</th>\n",
       "      <th>growth_pct</th>\n",
       "    </tr>\n",
       "    <tr>\n",
       "      <th>Country Name</th>\n",
       "      <th></th>\n",
       "      <th></th>\n",
       "    </tr>\n",
       "  </thead>\n",
       "  <tbody>\n",
       "    <tr>\n",
       "      <th>Afghanistan</th>\n",
       "      <td>1961</td>\n",
       "      <td>NaN</td>\n",
       "    </tr>\n",
       "    <tr>\n",
       "      <th>Albania</th>\n",
       "      <td>1961</td>\n",
       "      <td>NaN</td>\n",
       "    </tr>\n",
       "    <tr>\n",
       "      <th>Algeria</th>\n",
       "      <td>1961</td>\n",
       "      <td>-13.605441</td>\n",
       "    </tr>\n",
       "    <tr>\n",
       "      <th>American Samoa</th>\n",
       "      <td>1961</td>\n",
       "      <td>NaN</td>\n",
       "    </tr>\n",
       "  </tbody>\n",
       "</table>\n",
       "</div>"
      ],
      "text/plain": [
       "                year  growth_pct\n",
       "Country Name                    \n",
       "Afghanistan     1961         NaN\n",
       "Albania         1961         NaN\n",
       "Algeria         1961  -13.605441\n",
       "American Samoa  1961         NaN"
      ]
     },
     "execution_count": 48,
     "metadata": {},
     "output_type": "execute_result"
    }
   ],
   "source": [
    "gdp2.head(4)"
   ]
  },
  {
   "cell_type": "markdown",
   "metadata": {
    "slideshow": {
     "slide_type": "fragment"
    },
    "tags": []
   },
   "source": [
    "We can compare the semantics and structure for alignment:\n",
    "\n",
    "Semantics | - || Structure | -\n",
    "---|---||---|---\n",
    "Observations | Annual records || Rows | Annual records\n",
    "Variables | GDP growth and year || Columns | GDP growth and year\n",
    "Observational units | Countries || Tables | Just one\n",
    "\n",
    "All three rules are met: rows are observations, columns are variables, and there's one unit type and one table. *Tidy*."
   ]
  },
  {
   "cell_type": "markdown",
   "metadata": {
    "slideshow": {
     "slide_type": "subslide"
    },
    "tags": []
   },
   "source": [
    "## Tidy or messy?\n",
    "\n",
    "In `weather1`:"
   ]
  },
  {
   "cell_type": "code",
   "execution_count": 49,
   "metadata": {
    "slideshow": {
     "slide_type": "fragment"
    },
    "tags": []
   },
   "outputs": [
    {
     "data": {
      "text/html": [
       "<div>\n",
       "<style scoped>\n",
       "    .dataframe tbody tr th:only-of-type {\n",
       "        vertical-align: middle;\n",
       "    }\n",
       "\n",
       "    .dataframe tbody tr th {\n",
       "        vertical-align: top;\n",
       "    }\n",
       "\n",
       "    .dataframe thead th {\n",
       "        text-align: right;\n",
       "    }\n",
       "</style>\n",
       "<table border=\"1\" class=\"dataframe\">\n",
       "  <thead>\n",
       "    <tr style=\"text-align: right;\">\n",
       "      <th></th>\n",
       "      <th>STATION</th>\n",
       "      <th>NAME</th>\n",
       "      <th>DATE</th>\n",
       "      <th>TMAX</th>\n",
       "      <th>TMIN</th>\n",
       "    </tr>\n",
       "  </thead>\n",
       "  <tbody>\n",
       "    <tr>\n",
       "      <th>0</th>\n",
       "      <td>USW00023190</td>\n",
       "      <td>SANTA BARBARA MUNICIPAL AIRPORT, CA US</td>\n",
       "      <td>1/1/2021</td>\n",
       "      <td>65</td>\n",
       "      <td>37</td>\n",
       "    </tr>\n",
       "    <tr>\n",
       "      <th>1</th>\n",
       "      <td>USW00023190</td>\n",
       "      <td>SANTA BARBARA MUNICIPAL AIRPORT, CA US</td>\n",
       "      <td>1/2/2021</td>\n",
       "      <td>62</td>\n",
       "      <td>38</td>\n",
       "    </tr>\n",
       "    <tr>\n",
       "      <th>2</th>\n",
       "      <td>USW00023190</td>\n",
       "      <td>SANTA BARBARA MUNICIPAL AIRPORT, CA US</td>\n",
       "      <td>1/3/2021</td>\n",
       "      <td>60</td>\n",
       "      <td>42</td>\n",
       "    </tr>\n",
       "  </tbody>\n",
       "</table>\n",
       "</div>"
      ],
      "text/plain": [
       "       STATION                                    NAME      DATE  TMAX  TMIN\n",
       "0  USW00023190  SANTA BARBARA MUNICIPAL AIRPORT, CA US  1/1/2021    65    37\n",
       "1  USW00023190  SANTA BARBARA MUNICIPAL AIRPORT, CA US  1/2/2021    62    38\n",
       "2  USW00023190  SANTA BARBARA MUNICIPAL AIRPORT, CA US  1/3/2021    60    42"
      ]
     },
     "execution_count": 49,
     "metadata": {},
     "output_type": "execute_result"
    }
   ],
   "source": [
    "weather1.head(3)"
   ]
  },
  {
   "cell_type": "markdown",
   "metadata": {
    "slideshow": {
     "slide_type": "fragment"
    },
    "tags": []
   },
   "source": [
    "We can compare the semantics and structure for alignment:\n",
    "\n",
    "Semantics | - || Structure | -\n",
    "---|---||---|---\n",
    "Observations | Daily records || Rows | Daily records\n",
    "Variables | Min temp, max temp, date || Columns | Min temp, max temp, date, and station info\n",
    "Observational units | Weather stations || Tables | Just one\n",
    "\n",
    "All three rules are met: rows are observations, columns are variables, and there's one unit type and one table. *Tidy*."
   ]
  },
  {
   "cell_type": "markdown",
   "metadata": {
    "slideshow": {
     "slide_type": "subslide"
    },
    "tags": []
   },
   "source": [
    "## Tidy or messy?\n",
    "\n",
    "In `weather3`:"
   ]
  },
  {
   "cell_type": "code",
   "execution_count": 50,
   "metadata": {
    "slideshow": {
     "slide_type": "fragment"
    },
    "tags": []
   },
   "outputs": [
    {
     "data": {
      "text/html": [
       "<div>\n",
       "<style scoped>\n",
       "    .dataframe tbody tr th:only-of-type {\n",
       "        vertical-align: middle;\n",
       "    }\n",
       "\n",
       "    .dataframe tbody tr th {\n",
       "        vertical-align: top;\n",
       "    }\n",
       "\n",
       "    .dataframe thead th {\n",
       "        text-align: right;\n",
       "    }\n",
       "</style>\n",
       "<table border=\"1\" class=\"dataframe\">\n",
       "  <thead>\n",
       "    <tr style=\"text-align: right;\">\n",
       "      <th></th>\n",
       "      <th>DAY</th>\n",
       "      <th>1</th>\n",
       "      <th>2</th>\n",
       "      <th>3</th>\n",
       "      <th>4</th>\n",
       "      <th>5</th>\n",
       "      <th>6</th>\n",
       "      <th>7</th>\n",
       "      <th>8</th>\n",
       "      <th>9</th>\n",
       "      <th>10</th>\n",
       "      <th>...</th>\n",
       "      <th>22</th>\n",
       "      <th>23</th>\n",
       "      <th>24</th>\n",
       "      <th>25</th>\n",
       "      <th>26</th>\n",
       "      <th>27</th>\n",
       "      <th>28</th>\n",
       "      <th>29</th>\n",
       "      <th>30</th>\n",
       "      <th>31</th>\n",
       "    </tr>\n",
       "    <tr>\n",
       "      <th>MONTH</th>\n",
       "      <th>type</th>\n",
       "      <th></th>\n",
       "      <th></th>\n",
       "      <th></th>\n",
       "      <th></th>\n",
       "      <th></th>\n",
       "      <th></th>\n",
       "      <th></th>\n",
       "      <th></th>\n",
       "      <th></th>\n",
       "      <th></th>\n",
       "      <th></th>\n",
       "      <th></th>\n",
       "      <th></th>\n",
       "      <th></th>\n",
       "      <th></th>\n",
       "      <th></th>\n",
       "      <th></th>\n",
       "      <th></th>\n",
       "      <th></th>\n",
       "      <th></th>\n",
       "      <th></th>\n",
       "    </tr>\n",
       "  </thead>\n",
       "  <tbody>\n",
       "    <tr>\n",
       "      <th rowspan=\"2\" valign=\"top\">1</th>\n",
       "      <th>TMAX</th>\n",
       "      <td>65.0</td>\n",
       "      <td>62.0</td>\n",
       "      <td>60.0</td>\n",
       "      <td>72.0</td>\n",
       "      <td>61.0</td>\n",
       "      <td>71.0</td>\n",
       "      <td>73.0</td>\n",
       "      <td>79.0</td>\n",
       "      <td>71.0</td>\n",
       "      <td>67.0</td>\n",
       "      <td>...</td>\n",
       "      <td>61.0</td>\n",
       "      <td>59.0</td>\n",
       "      <td>65.0</td>\n",
       "      <td>55.0</td>\n",
       "      <td>57.0</td>\n",
       "      <td>54.0</td>\n",
       "      <td>55.0</td>\n",
       "      <td>55.0</td>\n",
       "      <td>58.0</td>\n",
       "      <td>63.0</td>\n",
       "    </tr>\n",
       "    <tr>\n",
       "      <th>TMIN</th>\n",
       "      <td>37.0</td>\n",
       "      <td>38.0</td>\n",
       "      <td>42.0</td>\n",
       "      <td>43.0</td>\n",
       "      <td>40.0</td>\n",
       "      <td>39.0</td>\n",
       "      <td>38.0</td>\n",
       "      <td>36.0</td>\n",
       "      <td>39.0</td>\n",
       "      <td>37.0</td>\n",
       "      <td>...</td>\n",
       "      <td>41.0</td>\n",
       "      <td>40.0</td>\n",
       "      <td>38.0</td>\n",
       "      <td>44.0</td>\n",
       "      <td>40.0</td>\n",
       "      <td>48.0</td>\n",
       "      <td>49.0</td>\n",
       "      <td>42.0</td>\n",
       "      <td>37.0</td>\n",
       "      <td>37.0</td>\n",
       "    </tr>\n",
       "    <tr>\n",
       "      <th rowspan=\"2\" valign=\"top\">2</th>\n",
       "      <th>TMAX</th>\n",
       "      <td>66.0</td>\n",
       "      <td>67.0</td>\n",
       "      <td>69.0</td>\n",
       "      <td>63.0</td>\n",
       "      <td>66.0</td>\n",
       "      <td>68.0</td>\n",
       "      <td>60.0</td>\n",
       "      <td>57.0</td>\n",
       "      <td>59.0</td>\n",
       "      <td>61.0</td>\n",
       "      <td>...</td>\n",
       "      <td>75.0</td>\n",
       "      <td>75.0</td>\n",
       "      <td>70.0</td>\n",
       "      <td>66.0</td>\n",
       "      <td>69.0</td>\n",
       "      <td>76.0</td>\n",
       "      <td>68.0</td>\n",
       "      <td>NaN</td>\n",
       "      <td>NaN</td>\n",
       "      <td>NaN</td>\n",
       "    </tr>\n",
       "    <tr>\n",
       "      <th>TMIN</th>\n",
       "      <td>45.0</td>\n",
       "      <td>40.0</td>\n",
       "      <td>44.0</td>\n",
       "      <td>37.0</td>\n",
       "      <td>38.0</td>\n",
       "      <td>38.0</td>\n",
       "      <td>38.0</td>\n",
       "      <td>49.0</td>\n",
       "      <td>49.0</td>\n",
       "      <td>41.0</td>\n",
       "      <td>...</td>\n",
       "      <td>37.0</td>\n",
       "      <td>39.0</td>\n",
       "      <td>41.0</td>\n",
       "      <td>39.0</td>\n",
       "      <td>36.0</td>\n",
       "      <td>43.0</td>\n",
       "      <td>38.0</td>\n",
       "      <td>NaN</td>\n",
       "      <td>NaN</td>\n",
       "      <td>NaN</td>\n",
       "    </tr>\n",
       "    <tr>\n",
       "      <th rowspan=\"2\" valign=\"top\">3</th>\n",
       "      <th>TMAX</th>\n",
       "      <td>68.0</td>\n",
       "      <td>66.0</td>\n",
       "      <td>59.0</td>\n",
       "      <td>62.0</td>\n",
       "      <td>67.0</td>\n",
       "      <td>69.0</td>\n",
       "      <td>60.0</td>\n",
       "      <td>69.0</td>\n",
       "      <td>65.0</td>\n",
       "      <td>58.0</td>\n",
       "      <td>...</td>\n",
       "      <td>71.0</td>\n",
       "      <td>72.0</td>\n",
       "      <td>67.0</td>\n",
       "      <td>65.0</td>\n",
       "      <td>63.0</td>\n",
       "      <td>72.0</td>\n",
       "      <td>73.0</td>\n",
       "      <td>77.0</td>\n",
       "      <td>NaN</td>\n",
       "      <td>NaN</td>\n",
       "    </tr>\n",
       "    <tr>\n",
       "      <th>TMIN</th>\n",
       "      <td>37.0</td>\n",
       "      <td>36.0</td>\n",
       "      <td>36.0</td>\n",
       "      <td>37.0</td>\n",
       "      <td>39.0</td>\n",
       "      <td>43.0</td>\n",
       "      <td>47.0</td>\n",
       "      <td>47.0</td>\n",
       "      <td>47.0</td>\n",
       "      <td>43.0</td>\n",
       "      <td>...</td>\n",
       "      <td>50.0</td>\n",
       "      <td>49.0</td>\n",
       "      <td>41.0</td>\n",
       "      <td>44.0</td>\n",
       "      <td>40.0</td>\n",
       "      <td>41.0</td>\n",
       "      <td>41.0</td>\n",
       "      <td>42.0</td>\n",
       "      <td>NaN</td>\n",
       "      <td>NaN</td>\n",
       "    </tr>\n",
       "  </tbody>\n",
       "</table>\n",
       "<p>6 rows × 31 columns</p>\n",
       "</div>"
      ],
      "text/plain": [
       "DAY           1     2     3     4     5     6     7     8     9     10  ...  \\\n",
       "MONTH type                                                              ...   \n",
       "1     TMAX  65.0  62.0  60.0  72.0  61.0  71.0  73.0  79.0  71.0  67.0  ...   \n",
       "      TMIN  37.0  38.0  42.0  43.0  40.0  39.0  38.0  36.0  39.0  37.0  ...   \n",
       "2     TMAX  66.0  67.0  69.0  63.0  66.0  68.0  60.0  57.0  59.0  61.0  ...   \n",
       "      TMIN  45.0  40.0  44.0  37.0  38.0  38.0  38.0  49.0  49.0  41.0  ...   \n",
       "3     TMAX  68.0  66.0  59.0  62.0  67.0  69.0  60.0  69.0  65.0  58.0  ...   \n",
       "      TMIN  37.0  36.0  36.0  37.0  39.0  43.0  47.0  47.0  47.0  43.0  ...   \n",
       "\n",
       "DAY           22    23    24    25    26    27    28    29    30    31  \n",
       "MONTH type                                                              \n",
       "1     TMAX  61.0  59.0  65.0  55.0  57.0  54.0  55.0  55.0  58.0  63.0  \n",
       "      TMIN  41.0  40.0  38.0  44.0  40.0  48.0  49.0  42.0  37.0  37.0  \n",
       "2     TMAX  75.0  75.0  70.0  66.0  69.0  76.0  68.0   NaN   NaN   NaN  \n",
       "      TMIN  37.0  39.0  41.0  39.0  36.0  43.0  38.0   NaN   NaN   NaN  \n",
       "3     TMAX  71.0  72.0  67.0  65.0  63.0  72.0  73.0  77.0   NaN   NaN  \n",
       "      TMIN  50.0  49.0  41.0  44.0  40.0  41.0  41.0  42.0   NaN   NaN  \n",
       "\n",
       "[6 rows x 31 columns]"
      ]
     },
     "execution_count": 50,
     "metadata": {},
     "output_type": "execute_result"
    }
   ],
   "source": [
    "weather3"
   ]
  },
  {
   "cell_type": "markdown",
   "metadata": {
    "slideshow": {
     "slide_type": "fragment"
    },
    "tags": []
   },
   "source": [
    "We can compare the semantics and structure for alignment:\n",
    "\n",
    "Semantics | - || Structure | -\n",
    "---|---||---|---\n",
    "Observations | Daily records || Rows | Month and measurement type\n",
    "Variables | Min temp, max temp, date || Columns | Day of month\n",
    "Observational units | Weather stations || Tables | Just one\n",
    "\n",
    "This violates both rules 1 and 2, since values are stored as both rows and columns. *Not tidy*."
   ]
  },
  {
   "cell_type": "markdown",
   "metadata": {
    "slideshow": {
     "slide_type": "subslide"
    },
    "tags": []
   },
   "source": [
    "## Tidy or messy?\n",
    "\n",
    "In `undev1` and `undev2`:"
   ]
  },
  {
   "cell_type": "code",
   "execution_count": 51,
   "metadata": {
    "slideshow": {
     "slide_type": "fragment"
    },
    "tags": []
   },
   "outputs": [
    {
     "data": {
      "text/html": [
       "<div>\n",
       "<style scoped>\n",
       "    .dataframe tbody tr th:only-of-type {\n",
       "        vertical-align: middle;\n",
       "    }\n",
       "\n",
       "    .dataframe tbody tr th {\n",
       "        vertical-align: top;\n",
       "    }\n",
       "\n",
       "    .dataframe thead th {\n",
       "        text-align: right;\n",
       "    }\n",
       "</style>\n",
       "<table border=\"1\" class=\"dataframe\">\n",
       "  <thead>\n",
       "    <tr style=\"text-align: right;\">\n",
       "      <th></th>\n",
       "      <th>total_pop</th>\n",
       "      <th>urban_pct_pop</th>\n",
       "      <th>pop_under5</th>\n",
       "      <th>pop_15to64</th>\n",
       "      <th>pop_over65</th>\n",
       "    </tr>\n",
       "    <tr>\n",
       "      <th>country</th>\n",
       "      <th></th>\n",
       "      <th></th>\n",
       "      <th></th>\n",
       "      <th></th>\n",
       "      <th></th>\n",
       "    </tr>\n",
       "  </thead>\n",
       "  <tbody>\n",
       "    <tr>\n",
       "      <th>Afghanistan</th>\n",
       "      <td>38.0</td>\n",
       "      <td>25.8</td>\n",
       "      <td>5.6</td>\n",
       "      <td>20.9</td>\n",
       "      <td>1.0</td>\n",
       "    </tr>\n",
       "    <tr>\n",
       "      <th>Albania</th>\n",
       "      <td>2.9</td>\n",
       "      <td>61.2</td>\n",
       "      <td>0.2</td>\n",
       "      <td>2.0</td>\n",
       "      <td>0.4</td>\n",
       "    </tr>\n",
       "  </tbody>\n",
       "</table>\n",
       "</div>"
      ],
      "text/plain": [
       "            total_pop  urban_pct_pop  pop_under5 pop_15to64  pop_over65\n",
       "country                                                                \n",
       "Afghanistan      38.0           25.8         5.6       20.9         1.0\n",
       "Albania           2.9           61.2         0.2        2.0         0.4"
      ]
     },
     "execution_count": 51,
     "metadata": {},
     "output_type": "execute_result"
    }
   ],
   "source": [
    "undev1.head(2)"
   ]
  },
  {
   "cell_type": "code",
   "execution_count": 27,
   "metadata": {
    "slideshow": {
     "slide_type": "fragment"
    },
    "tags": []
   },
   "outputs": [
    {
     "data": {
      "text/html": [
       "<div>\n",
       "<style scoped>\n",
       "    .dataframe tbody tr th:only-of-type {\n",
       "        vertical-align: middle;\n",
       "    }\n",
       "\n",
       "    .dataframe tbody tr th {\n",
       "        vertical-align: top;\n",
       "    }\n",
       "\n",
       "    .dataframe thead th {\n",
       "        text-align: right;\n",
       "    }\n",
       "</style>\n",
       "<table border=\"1\" class=\"dataframe\">\n",
       "  <thead>\n",
       "    <tr style=\"text-align: right;\">\n",
       "      <th></th>\n",
       "      <th>gender_inequality</th>\n",
       "      <th>parliament_pct_women</th>\n",
       "      <th>labor_participation_women</th>\n",
       "      <th>labor_participation_men</th>\n",
       "    </tr>\n",
       "    <tr>\n",
       "      <th>country</th>\n",
       "      <th></th>\n",
       "      <th></th>\n",
       "      <th></th>\n",
       "      <th></th>\n",
       "    </tr>\n",
       "  </thead>\n",
       "  <tbody>\n",
       "    <tr>\n",
       "      <th>Norway</th>\n",
       "      <td>0.045</td>\n",
       "      <td>40.8</td>\n",
       "      <td>60.4</td>\n",
       "      <td>67.2</td>\n",
       "    </tr>\n",
       "    <tr>\n",
       "      <th>Ireland</th>\n",
       "      <td>0.093</td>\n",
       "      <td>24.3</td>\n",
       "      <td>56.0</td>\n",
       "      <td>68.4</td>\n",
       "    </tr>\n",
       "  </tbody>\n",
       "</table>\n",
       "</div>"
      ],
      "text/plain": [
       "         gender_inequality  parliament_pct_women  labor_participation_women  \\\n",
       "country                                                                       \n",
       "Norway               0.045                  40.8                       60.4   \n",
       "Ireland              0.093                  24.3                       56.0   \n",
       "\n",
       "         labor_participation_men  \n",
       "country                           \n",
       "Norway                      67.2  \n",
       "Ireland                     68.4  "
      ]
     },
     "execution_count": 27,
     "metadata": {},
     "output_type": "execute_result"
    }
   ],
   "source": [
    "undev2.head(2)"
   ]
  },
  {
   "cell_type": "markdown",
   "metadata": {
    "slideshow": {
     "slide_type": "fragment"
    },
    "tags": []
   },
   "source": [
    "We can compare the semantics and structure for alignment:\n",
    "\n",
    "Semantics | - || Structure | -\n",
    "---|---||---|---\n",
    "Observations | Country records || Rows | Country records\n",
    "Variables | Gender-related and population measurements || Columns | Gender-related and population measurements\n",
    "Observational units | Countries || Tables | One per variable type\n",
    "\n",
    "This violates rule 3 -- there is only one observational unit, but multiple tables. *Not tidy*."
   ]
  },
  {
   "cell_type": "markdown",
   "metadata": {
    "slideshow": {
     "slide_type": "subslide"
    },
    "tags": []
   },
   "source": [
    "## Common messes\n",
    "\n",
    "> \"Well, here's another nice mess you've gotten me into\" -- Oliver Hardy\n",
    "\n",
    "These examples illustrate some of the most common kinds of messiness:\n",
    "\n",
    "* *Columns are values, not variables*\n",
    "    + GDP data `gdp1`: columns are 1961, 1962, ...   "
   ]
  },
  {
   "cell_type": "markdown",
   "metadata": {
    "slideshow": {
     "slide_type": "fragment"
    },
    "tags": []
   },
   "source": [
    "* *Multiple variables are stored in one column*\n",
    "    + Mammal data `mammal2`: weight column contains both body and brain weights    "
   ]
  },
  {
   "cell_type": "markdown",
   "metadata": {
    "slideshow": {
     "slide_type": "fragment"
    },
    "tags": []
   },
   "source": [
    "* *Variables or values are stored in rows and columns*\n",
    "    + Weather data `weather3`: date values are stored in rows and columns, each column contains both min and max temperatures    "
   ]
  },
  {
   "cell_type": "markdown",
   "metadata": {
    "slideshow": {
     "slide_type": "fragment"
    },
    "tags": []
   },
   "source": [
    "* *Measurements on one type of observational unit are divided into multiple tables.*\n",
    "    + UN development data: `undev1` stores population variables; `undev2` stores gender-related variables."
   ]
  },
  {
   "cell_type": "markdown",
   "metadata": {
    "slideshow": {
     "slide_type": "subslide"
    },
    "tags": []
   },
   "source": [
    "## Tidying operations\n",
    "\n",
    "These common messes can be cleaned up by some simple operations:\n",
    "\n",
    "* *melt*\n",
    "    + reshape a dataframe from wide to long format\n",
    "* *pivot*\n",
    "    + reshape a dataframe from long to wide format\n",
    "* *merge*\n",
    "    + combine two dataframes row-wise by matching the values of certain columns"
   ]
  },
  {
   "cell_type": "markdown",
   "metadata": {
    "slideshow": {
     "slide_type": "subslide"
    },
    "tags": []
   },
   "source": [
    "## Melt\n",
    "\n",
    "Melting resolves the problem of having values stored as columns (common mess 1). \n",
    "\n",
    "<img src=\"figures/tidy-melt.png\" style=\"height:200px\">"
   ]
  },
  {
   "cell_type": "code",
   "execution_count": 76,
   "metadata": {},
   "outputs": [
    {
     "data": {
      "image/png": "[encoded data removed]",
      "text/plain": [
       "<IPython.core.display.Image object>"
      ]
     },
     "execution_count": 76,
     "metadata": {},
     "output_type": "execute_result"
    }
   ],
   "source": [
    "Image(filename='figures/tidy-melt.png') "
   ]
  },
  {
   "cell_type": "markdown",
   "metadata": {
    "slideshow": {
     "slide_type": "subslide"
    },
    "tags": []
   },
   "source": [
    "## Melt\n",
    "\n",
    "To illustrate with `gdp1`:"
   ]
  },
  {
   "cell_type": "code",
   "execution_count": 52,
   "metadata": {
    "slideshow": {
     "slide_type": "fragment"
    },
    "tags": []
   },
   "outputs": [
    {
     "data": {
      "text/html": [
       "<div>\n",
       "<style scoped>\n",
       "    .dataframe tbody tr th:only-of-type {\n",
       "        vertical-align: middle;\n",
       "    }\n",
       "\n",
       "    .dataframe tbody tr th {\n",
       "        vertical-align: top;\n",
       "    }\n",
       "\n",
       "    .dataframe thead th {\n",
       "        text-align: right;\n",
       "    }\n",
       "</style>\n",
       "<table border=\"1\" class=\"dataframe\">\n",
       "  <thead>\n",
       "    <tr style=\"text-align: right;\">\n",
       "      <th></th>\n",
       "      <th>Country Name</th>\n",
       "      <th>Country Code</th>\n",
       "      <th>1961</th>\n",
       "      <th>1962</th>\n",
       "      <th>1963</th>\n",
       "      <th>1964</th>\n",
       "      <th>1965</th>\n",
       "      <th>1966</th>\n",
       "      <th>1967</th>\n",
       "      <th>1968</th>\n",
       "      <th>...</th>\n",
       "      <th>2010</th>\n",
       "      <th>2011</th>\n",
       "      <th>2012</th>\n",
       "      <th>2013</th>\n",
       "      <th>2014</th>\n",
       "      <th>2015</th>\n",
       "      <th>2016</th>\n",
       "      <th>2017</th>\n",
       "      <th>2018</th>\n",
       "      <th>2019</th>\n",
       "    </tr>\n",
       "  </thead>\n",
       "  <tbody>\n",
       "    <tr>\n",
       "      <th>0</th>\n",
       "      <td>Aruba</td>\n",
       "      <td>ABW</td>\n",
       "      <td>NaN</td>\n",
       "      <td>NaN</td>\n",
       "      <td>NaN</td>\n",
       "      <td>NaN</td>\n",
       "      <td>NaN</td>\n",
       "      <td>NaN</td>\n",
       "      <td>NaN</td>\n",
       "      <td>NaN</td>\n",
       "      <td>...</td>\n",
       "      <td>-3.685029</td>\n",
       "      <td>3.446055</td>\n",
       "      <td>-1.369863</td>\n",
       "      <td>4.198232</td>\n",
       "      <td>0.300000</td>\n",
       "      <td>5.700001</td>\n",
       "      <td>2.100000</td>\n",
       "      <td>1.999999</td>\n",
       "      <td>NaN</td>\n",
       "      <td>NaN</td>\n",
       "    </tr>\n",
       "    <tr>\n",
       "      <th>1</th>\n",
       "      <td>Afghanistan</td>\n",
       "      <td>AFG</td>\n",
       "      <td>NaN</td>\n",
       "      <td>NaN</td>\n",
       "      <td>NaN</td>\n",
       "      <td>NaN</td>\n",
       "      <td>NaN</td>\n",
       "      <td>NaN</td>\n",
       "      <td>NaN</td>\n",
       "      <td>NaN</td>\n",
       "      <td>...</td>\n",
       "      <td>14.362441</td>\n",
       "      <td>0.426355</td>\n",
       "      <td>12.752287</td>\n",
       "      <td>5.600745</td>\n",
       "      <td>2.724543</td>\n",
       "      <td>1.451315</td>\n",
       "      <td>2.260314</td>\n",
       "      <td>2.647003</td>\n",
       "      <td>1.189228</td>\n",
       "      <td>3.911603</td>\n",
       "    </tr>\n",
       "    <tr>\n",
       "      <th>2</th>\n",
       "      <td>Angola</td>\n",
       "      <td>AGO</td>\n",
       "      <td>NaN</td>\n",
       "      <td>NaN</td>\n",
       "      <td>NaN</td>\n",
       "      <td>NaN</td>\n",
       "      <td>NaN</td>\n",
       "      <td>NaN</td>\n",
       "      <td>NaN</td>\n",
       "      <td>NaN</td>\n",
       "      <td>...</td>\n",
       "      <td>4.403933</td>\n",
       "      <td>3.471976</td>\n",
       "      <td>8.542188</td>\n",
       "      <td>4.954545</td>\n",
       "      <td>4.822628</td>\n",
       "      <td>0.943572</td>\n",
       "      <td>-2.580050</td>\n",
       "      <td>-0.147213</td>\n",
       "      <td>-2.003630</td>\n",
       "      <td>-0.624644</td>\n",
       "    </tr>\n",
       "  </tbody>\n",
       "</table>\n",
       "<p>3 rows × 61 columns</p>\n",
       "</div>"
      ],
      "text/plain": [
       "  Country Name Country Code  1961  1962  1963  1964  1965  1966  1967  1968  \\\n",
       "0        Aruba          ABW   NaN   NaN   NaN   NaN   NaN   NaN   NaN   NaN   \n",
       "1  Afghanistan          AFG   NaN   NaN   NaN   NaN   NaN   NaN   NaN   NaN   \n",
       "2       Angola          AGO   NaN   NaN   NaN   NaN   NaN   NaN   NaN   NaN   \n",
       "\n",
       "   ...       2010      2011       2012      2013      2014      2015  \\\n",
       "0  ...  -3.685029  3.446055  -1.369863  4.198232  0.300000  5.700001   \n",
       "1  ...  14.362441  0.426355  12.752287  5.600745  2.724543  1.451315   \n",
       "2  ...   4.403933  3.471976   8.542188  4.954545  4.822628  0.943572   \n",
       "\n",
       "       2016      2017      2018      2019  \n",
       "0  2.100000  1.999999       NaN       NaN  \n",
       "1  2.260314  2.647003  1.189228  3.911603  \n",
       "2 -2.580050 -0.147213 -2.003630 -0.624644  \n",
       "\n",
       "[3 rows x 61 columns]"
      ]
     },
     "execution_count": 52,
     "metadata": {},
     "output_type": "execute_result"
    }
   ],
   "source": [
    "gdp1.head(3)"
   ]
  },
  {
   "cell_type": "code",
   "execution_count": 53,
   "metadata": {
    "tags": []
   },
   "outputs": [
    {
     "data": {
      "text/html": [
       "<div>\n",
       "<style scoped>\n",
       "    .dataframe tbody tr th:only-of-type {\n",
       "        vertical-align: middle;\n",
       "    }\n",
       "\n",
       "    .dataframe tbody tr th {\n",
       "        vertical-align: top;\n",
       "    }\n",
       "\n",
       "    .dataframe thead th {\n",
       "        text-align: right;\n",
       "    }\n",
       "</style>\n",
       "<table border=\"1\" class=\"dataframe\">\n",
       "  <thead>\n",
       "    <tr style=\"text-align: right;\">\n",
       "      <th></th>\n",
       "      <th>Country Name</th>\n",
       "      <th>Country Code</th>\n",
       "      <th>Year</th>\n",
       "      <th>GDP Growth</th>\n",
       "    </tr>\n",
       "  </thead>\n",
       "  <tbody>\n",
       "    <tr>\n",
       "      <th>0</th>\n",
       "      <td>Aruba</td>\n",
       "      <td>ABW</td>\n",
       "      <td>1961</td>\n",
       "      <td>NaN</td>\n",
       "    </tr>\n",
       "    <tr>\n",
       "      <th>1</th>\n",
       "      <td>Afghanistan</td>\n",
       "      <td>AFG</td>\n",
       "      <td>1961</td>\n",
       "      <td>NaN</td>\n",
       "    </tr>\n",
       "    <tr>\n",
       "      <th>2</th>\n",
       "      <td>Angola</td>\n",
       "      <td>AGO</td>\n",
       "      <td>1961</td>\n",
       "      <td>NaN</td>\n",
       "    </tr>\n",
       "    <tr>\n",
       "      <th>3</th>\n",
       "      <td>Albania</td>\n",
       "      <td>ALB</td>\n",
       "      <td>1961</td>\n",
       "      <td>NaN</td>\n",
       "    </tr>\n",
       "    <tr>\n",
       "      <th>4</th>\n",
       "      <td>Andorra</td>\n",
       "      <td>AND</td>\n",
       "      <td>1961</td>\n",
       "      <td>NaN</td>\n",
       "    </tr>\n",
       "  </tbody>\n",
       "</table>\n",
       "</div>"
      ],
      "text/plain": [
       "  Country Name Country Code  Year  GDP Growth\n",
       "0        Aruba          ABW  1961         NaN\n",
       "1  Afghanistan          AFG  1961         NaN\n",
       "2       Angola          AGO  1961         NaN\n",
       "3      Albania          ALB  1961         NaN\n",
       "4      Andorra          AND  1961         NaN"
      ]
     },
     "execution_count": 53,
     "metadata": {},
     "output_type": "execute_result"
    }
   ],
   "source": [
    "gdp1.melt(\n",
    "    id_vars = ['Country Name', 'Country Code'], # which variables do you want to retain for each row? .\n",
    "    var_name = 'Year', # what do you want to name the variable that will contain the column names?\n",
    "    value_name = 'GDP Growth', # what do you want to name the variable that will contain the values?\n",
    ").head()"
   ]
  },
  {
   "cell_type": "markdown",
   "metadata": {
    "slideshow": {
     "slide_type": "subslide"
    },
    "tags": []
   },
   "source": [
    "## Pivot\n",
    "\n",
    "Pivoting resolves the issue of having multiple variables stored in one column (common mess 2). \n",
    "\n",
    "<img src=\"figures/tidy-pivot.png\" style=\"height:300px\">"
   ]
  },
  {
   "cell_type": "markdown",
   "metadata": {
    "slideshow": {
     "slide_type": "subslide"
    },
    "tags": []
   },
   "source": [
    "## Pivot\n",
    "\n",
    "For example, the `mammal2` layout can be put in tidier form with a pivot:"
   ]
  },
  {
   "cell_type": "code",
   "execution_count": 55,
   "metadata": {},
   "outputs": [
    {
     "data": {
      "text/html": [
       "<div>\n",
       "<style scoped>\n",
       "    .dataframe tbody tr th:only-of-type {\n",
       "        vertical-align: middle;\n",
       "    }\n",
       "\n",
       "    .dataframe tbody tr th {\n",
       "        vertical-align: top;\n",
       "    }\n",
       "\n",
       "    .dataframe thead th {\n",
       "        text-align: right;\n",
       "    }\n",
       "</style>\n",
       "<table border=\"1\" class=\"dataframe\">\n",
       "  <thead>\n",
       "    <tr style=\"text-align: right;\">\n",
       "      <th></th>\n",
       "      <th>measurement</th>\n",
       "      <th>weight</th>\n",
       "    </tr>\n",
       "    <tr>\n",
       "      <th>species</th>\n",
       "      <th></th>\n",
       "      <th></th>\n",
       "    </tr>\n",
       "  </thead>\n",
       "  <tbody>\n",
       "    <tr>\n",
       "      <th>Africanelephant</th>\n",
       "      <td>brain_wt</td>\n",
       "      <td>5712.0</td>\n",
       "    </tr>\n",
       "    <tr>\n",
       "      <th>Africanelephant</th>\n",
       "      <td>body_wt</td>\n",
       "      <td>6654.0</td>\n",
       "    </tr>\n",
       "    <tr>\n",
       "      <th>Africangiantpouchedrat</th>\n",
       "      <td>brain_wt</td>\n",
       "      <td>6.6</td>\n",
       "    </tr>\n",
       "  </tbody>\n",
       "</table>\n",
       "</div>"
      ],
      "text/plain": [
       "                       measurement  weight\n",
       "species                                   \n",
       "Africanelephant           brain_wt  5712.0\n",
       "Africanelephant            body_wt  6654.0\n",
       "Africangiantpouchedrat    brain_wt     6.6"
      ]
     },
     "execution_count": 55,
     "metadata": {},
     "output_type": "execute_result"
    }
   ],
   "source": [
    "mammal2.head(3)"
   ]
  },
  {
   "cell_type": "code",
   "execution_count": 56,
   "metadata": {},
   "outputs": [
    {
     "data": {
      "text/html": [
       "<div>\n",
       "<style scoped>\n",
       "    .dataframe tbody tr th:only-of-type {\n",
       "        vertical-align: middle;\n",
       "    }\n",
       "\n",
       "    .dataframe tbody tr th {\n",
       "        vertical-align: top;\n",
       "    }\n",
       "\n",
       "    .dataframe thead th {\n",
       "        text-align: right;\n",
       "    }\n",
       "</style>\n",
       "<table border=\"1\" class=\"dataframe\">\n",
       "  <thead>\n",
       "    <tr style=\"text-align: right;\">\n",
       "      <th>measurement</th>\n",
       "      <th>body_wt</th>\n",
       "      <th>brain_wt</th>\n",
       "    </tr>\n",
       "    <tr>\n",
       "      <th>species</th>\n",
       "      <th></th>\n",
       "      <th></th>\n",
       "    </tr>\n",
       "  </thead>\n",
       "  <tbody>\n",
       "    <tr>\n",
       "      <th>Africanelephant</th>\n",
       "      <td>6654.000</td>\n",
       "      <td>5712.0</td>\n",
       "    </tr>\n",
       "    <tr>\n",
       "      <th>Africangiantpouchedrat</th>\n",
       "      <td>1.000</td>\n",
       "      <td>6.6</td>\n",
       "    </tr>\n",
       "    <tr>\n",
       "      <th>ArcticFox</th>\n",
       "      <td>3.385</td>\n",
       "      <td>44.5</td>\n",
       "    </tr>\n",
       "  </tbody>\n",
       "</table>\n",
       "</div>"
      ],
      "text/plain": [
       "measurement              body_wt  brain_wt\n",
       "species                                   \n",
       "Africanelephant         6654.000    5712.0\n",
       "Africangiantpouchedrat     1.000       6.6\n",
       "ArcticFox                  3.385      44.5"
      ]
     },
     "execution_count": 56,
     "metadata": {},
     "output_type": "execute_result"
    }
   ],
   "source": [
    "mammal2.pivot(\n",
    "    columns = 'measurement', # which variable(s) do you want to send to new column names?\n",
    "    values = 'weight' # which variable(s) do you want to use to populate the new columns?\n",
    ").head(3)"
   ]
  },
  {
   "cell_type": "markdown",
   "metadata": {
    "slideshow": {
     "slide_type": "subslide"
    },
    "tags": []
   },
   "source": [
    "## Pivot and melt\n",
    "\n",
    "Common mess 3 is a combination of messes 1 and 2: values or variables are stored in both rows and columns. Pivoting and melting in sequence can usually fix this. `weather3` illustrates this issue:"
   ]
  },
  {
   "cell_type": "code",
   "execution_count": 57,
   "metadata": {
    "slideshow": {
     "slide_type": "fragment"
    },
    "tags": []
   },
   "outputs": [
    {
     "data": {
      "text/html": [
       "<div>\n",
       "<style scoped>\n",
       "    .dataframe tbody tr th:only-of-type {\n",
       "        vertical-align: middle;\n",
       "    }\n",
       "\n",
       "    .dataframe tbody tr th {\n",
       "        vertical-align: top;\n",
       "    }\n",
       "\n",
       "    .dataframe thead th {\n",
       "        text-align: right;\n",
       "    }\n",
       "</style>\n",
       "<table border=\"1\" class=\"dataframe\">\n",
       "  <thead>\n",
       "    <tr style=\"text-align: right;\">\n",
       "      <th></th>\n",
       "      <th>DAY</th>\n",
       "      <th>1</th>\n",
       "      <th>2</th>\n",
       "      <th>3</th>\n",
       "      <th>4</th>\n",
       "      <th>5</th>\n",
       "      <th>6</th>\n",
       "      <th>7</th>\n",
       "      <th>8</th>\n",
       "      <th>9</th>\n",
       "      <th>10</th>\n",
       "      <th>...</th>\n",
       "      <th>22</th>\n",
       "      <th>23</th>\n",
       "      <th>24</th>\n",
       "      <th>25</th>\n",
       "      <th>26</th>\n",
       "      <th>27</th>\n",
       "      <th>28</th>\n",
       "      <th>29</th>\n",
       "      <th>30</th>\n",
       "      <th>31</th>\n",
       "    </tr>\n",
       "    <tr>\n",
       "      <th>MONTH</th>\n",
       "      <th>type</th>\n",
       "      <th></th>\n",
       "      <th></th>\n",
       "      <th></th>\n",
       "      <th></th>\n",
       "      <th></th>\n",
       "      <th></th>\n",
       "      <th></th>\n",
       "      <th></th>\n",
       "      <th></th>\n",
       "      <th></th>\n",
       "      <th></th>\n",
       "      <th></th>\n",
       "      <th></th>\n",
       "      <th></th>\n",
       "      <th></th>\n",
       "      <th></th>\n",
       "      <th></th>\n",
       "      <th></th>\n",
       "      <th></th>\n",
       "      <th></th>\n",
       "      <th></th>\n",
       "    </tr>\n",
       "  </thead>\n",
       "  <tbody>\n",
       "    <tr>\n",
       "      <th rowspan=\"2\" valign=\"top\">1</th>\n",
       "      <th>TMAX</th>\n",
       "      <td>65.0</td>\n",
       "      <td>62.0</td>\n",
       "      <td>60.0</td>\n",
       "      <td>72.0</td>\n",
       "      <td>61.0</td>\n",
       "      <td>71.0</td>\n",
       "      <td>73.0</td>\n",
       "      <td>79.0</td>\n",
       "      <td>71.0</td>\n",
       "      <td>67.0</td>\n",
       "      <td>...</td>\n",
       "      <td>61.0</td>\n",
       "      <td>59.0</td>\n",
       "      <td>65.0</td>\n",
       "      <td>55.0</td>\n",
       "      <td>57.0</td>\n",
       "      <td>54.0</td>\n",
       "      <td>55.0</td>\n",
       "      <td>55.0</td>\n",
       "      <td>58.0</td>\n",
       "      <td>63.0</td>\n",
       "    </tr>\n",
       "    <tr>\n",
       "      <th>TMIN</th>\n",
       "      <td>37.0</td>\n",
       "      <td>38.0</td>\n",
       "      <td>42.0</td>\n",
       "      <td>43.0</td>\n",
       "      <td>40.0</td>\n",
       "      <td>39.0</td>\n",
       "      <td>38.0</td>\n",
       "      <td>36.0</td>\n",
       "      <td>39.0</td>\n",
       "      <td>37.0</td>\n",
       "      <td>...</td>\n",
       "      <td>41.0</td>\n",
       "      <td>40.0</td>\n",
       "      <td>38.0</td>\n",
       "      <td>44.0</td>\n",
       "      <td>40.0</td>\n",
       "      <td>48.0</td>\n",
       "      <td>49.0</td>\n",
       "      <td>42.0</td>\n",
       "      <td>37.0</td>\n",
       "      <td>37.0</td>\n",
       "    </tr>\n",
       "    <tr>\n",
       "      <th rowspan=\"2\" valign=\"top\">2</th>\n",
       "      <th>TMAX</th>\n",
       "      <td>66.0</td>\n",
       "      <td>67.0</td>\n",
       "      <td>69.0</td>\n",
       "      <td>63.0</td>\n",
       "      <td>66.0</td>\n",
       "      <td>68.0</td>\n",
       "      <td>60.0</td>\n",
       "      <td>57.0</td>\n",
       "      <td>59.0</td>\n",
       "      <td>61.0</td>\n",
       "      <td>...</td>\n",
       "      <td>75.0</td>\n",
       "      <td>75.0</td>\n",
       "      <td>70.0</td>\n",
       "      <td>66.0</td>\n",
       "      <td>69.0</td>\n",
       "      <td>76.0</td>\n",
       "      <td>68.0</td>\n",
       "      <td>NaN</td>\n",
       "      <td>NaN</td>\n",
       "      <td>NaN</td>\n",
       "    </tr>\n",
       "    <tr>\n",
       "      <th>TMIN</th>\n",
       "      <td>45.0</td>\n",
       "      <td>40.0</td>\n",
       "      <td>44.0</td>\n",
       "      <td>37.0</td>\n",
       "      <td>38.0</td>\n",
       "      <td>38.0</td>\n",
       "      <td>38.0</td>\n",
       "      <td>49.0</td>\n",
       "      <td>49.0</td>\n",
       "      <td>41.0</td>\n",
       "      <td>...</td>\n",
       "      <td>37.0</td>\n",
       "      <td>39.0</td>\n",
       "      <td>41.0</td>\n",
       "      <td>39.0</td>\n",
       "      <td>36.0</td>\n",
       "      <td>43.0</td>\n",
       "      <td>38.0</td>\n",
       "      <td>NaN</td>\n",
       "      <td>NaN</td>\n",
       "      <td>NaN</td>\n",
       "    </tr>\n",
       "    <tr>\n",
       "      <th rowspan=\"2\" valign=\"top\">3</th>\n",
       "      <th>TMAX</th>\n",
       "      <td>68.0</td>\n",
       "      <td>66.0</td>\n",
       "      <td>59.0</td>\n",
       "      <td>62.0</td>\n",
       "      <td>67.0</td>\n",
       "      <td>69.0</td>\n",
       "      <td>60.0</td>\n",
       "      <td>69.0</td>\n",
       "      <td>65.0</td>\n",
       "      <td>58.0</td>\n",
       "      <td>...</td>\n",
       "      <td>71.0</td>\n",
       "      <td>72.0</td>\n",
       "      <td>67.0</td>\n",
       "      <td>65.0</td>\n",
       "      <td>63.0</td>\n",
       "      <td>72.0</td>\n",
       "      <td>73.0</td>\n",
       "      <td>77.0</td>\n",
       "      <td>NaN</td>\n",
       "      <td>NaN</td>\n",
       "    </tr>\n",
       "    <tr>\n",
       "      <th>TMIN</th>\n",
       "      <td>37.0</td>\n",
       "      <td>36.0</td>\n",
       "      <td>36.0</td>\n",
       "      <td>37.0</td>\n",
       "      <td>39.0</td>\n",
       "      <td>43.0</td>\n",
       "      <td>47.0</td>\n",
       "      <td>47.0</td>\n",
       "      <td>47.0</td>\n",
       "      <td>43.0</td>\n",
       "      <td>...</td>\n",
       "      <td>50.0</td>\n",
       "      <td>49.0</td>\n",
       "      <td>41.0</td>\n",
       "      <td>44.0</td>\n",
       "      <td>40.0</td>\n",
       "      <td>41.0</td>\n",
       "      <td>41.0</td>\n",
       "      <td>42.0</td>\n",
       "      <td>NaN</td>\n",
       "      <td>NaN</td>\n",
       "    </tr>\n",
       "  </tbody>\n",
       "</table>\n",
       "<p>6 rows × 31 columns</p>\n",
       "</div>"
      ],
      "text/plain": [
       "DAY           1     2     3     4     5     6     7     8     9     10  ...  \\\n",
       "MONTH type                                                              ...   \n",
       "1     TMAX  65.0  62.0  60.0  72.0  61.0  71.0  73.0  79.0  71.0  67.0  ...   \n",
       "      TMIN  37.0  38.0  42.0  43.0  40.0  39.0  38.0  36.0  39.0  37.0  ...   \n",
       "2     TMAX  66.0  67.0  69.0  63.0  66.0  68.0  60.0  57.0  59.0  61.0  ...   \n",
       "      TMIN  45.0  40.0  44.0  37.0  38.0  38.0  38.0  49.0  49.0  41.0  ...   \n",
       "3     TMAX  68.0  66.0  59.0  62.0  67.0  69.0  60.0  69.0  65.0  58.0  ...   \n",
       "      TMIN  37.0  36.0  36.0  37.0  39.0  43.0  47.0  47.0  47.0  43.0  ...   \n",
       "\n",
       "DAY           22    23    24    25    26    27    28    29    30    31  \n",
       "MONTH type                                                              \n",
       "1     TMAX  61.0  59.0  65.0  55.0  57.0  54.0  55.0  55.0  58.0  63.0  \n",
       "      TMIN  41.0  40.0  38.0  44.0  40.0  48.0  49.0  42.0  37.0  37.0  \n",
       "2     TMAX  75.0  75.0  70.0  66.0  69.0  76.0  68.0   NaN   NaN   NaN  \n",
       "      TMIN  37.0  39.0  41.0  39.0  36.0  43.0  38.0   NaN   NaN   NaN  \n",
       "3     TMAX  71.0  72.0  67.0  65.0  63.0  72.0  73.0  77.0   NaN   NaN  \n",
       "      TMIN  50.0  49.0  41.0  44.0  40.0  41.0  41.0  42.0   NaN   NaN  \n",
       "\n",
       "[6 rows x 31 columns]"
      ]
     },
     "execution_count": 57,
     "metadata": {},
     "output_type": "execute_result"
    }
   ],
   "source": [
    "weather3"
   ]
  },
  {
   "cell_type": "markdown",
   "metadata": {
    "slideshow": {
     "slide_type": "subslide"
    },
    "tags": []
   },
   "source": [
    "## Pivot and melt\n",
    "\n",
    "Common mess 3 is a combination of messes 1 and 2: values or variables are stored in both rows and columns. Pivoting and melting in sequence can usually fix this. `weather3` illustrates this issue:"
   ]
  },
  {
   "cell_type": "markdown",
   "metadata": {},
   "source": [
    "**First melt**"
   ]
  },
  {
   "cell_type": "code",
   "execution_count": 58,
   "metadata": {},
   "outputs": [
    {
     "data": {
      "text/html": [
       "<div>\n",
       "<style scoped>\n",
       "    .dataframe tbody tr th:only-of-type {\n",
       "        vertical-align: middle;\n",
       "    }\n",
       "\n",
       "    .dataframe tbody tr th {\n",
       "        vertical-align: top;\n",
       "    }\n",
       "\n",
       "    .dataframe thead th {\n",
       "        text-align: right;\n",
       "    }\n",
       "</style>\n",
       "<table border=\"1\" class=\"dataframe\">\n",
       "  <thead>\n",
       "    <tr style=\"text-align: right;\">\n",
       "      <th></th>\n",
       "      <th></th>\n",
       "      <th>day</th>\n",
       "      <th>temp</th>\n",
       "    </tr>\n",
       "    <tr>\n",
       "      <th>MONTH</th>\n",
       "      <th>type</th>\n",
       "      <th></th>\n",
       "      <th></th>\n",
       "    </tr>\n",
       "  </thead>\n",
       "  <tbody>\n",
       "    <tr>\n",
       "      <th rowspan=\"2\" valign=\"top\">1</th>\n",
       "      <th>TMAX</th>\n",
       "      <td>1</td>\n",
       "      <td>65.0</td>\n",
       "    </tr>\n",
       "    <tr>\n",
       "      <th>TMIN</th>\n",
       "      <td>1</td>\n",
       "      <td>37.0</td>\n",
       "    </tr>\n",
       "    <tr>\n",
       "      <th rowspan=\"2\" valign=\"top\">2</th>\n",
       "      <th>TMAX</th>\n",
       "      <td>1</td>\n",
       "      <td>66.0</td>\n",
       "    </tr>\n",
       "    <tr>\n",
       "      <th>TMIN</th>\n",
       "      <td>1</td>\n",
       "      <td>45.0</td>\n",
       "    </tr>\n",
       "    <tr>\n",
       "      <th>3</th>\n",
       "      <th>TMAX</th>\n",
       "      <td>1</td>\n",
       "      <td>68.0</td>\n",
       "    </tr>\n",
       "  </tbody>\n",
       "</table>\n",
       "</div>"
      ],
      "text/plain": [
       "            day  temp\n",
       "MONTH type           \n",
       "1     TMAX    1  65.0\n",
       "      TMIN    1  37.0\n",
       "2     TMAX    1  66.0\n",
       "      TMIN    1  45.0\n",
       "3     TMAX    1  68.0"
      ]
     },
     "execution_count": 58,
     "metadata": {},
     "output_type": "execute_result"
    }
   ],
   "source": [
    "weather3.melt(\n",
    "    ignore_index = False,\n",
    "    var_name = 'day',\n",
    "    value_name = 'temp'\n",
    ").head()"
   ]
  },
  {
   "cell_type": "markdown",
   "metadata": {
    "slideshow": {
     "slide_type": "subslide"
    },
    "tags": []
   },
   "source": [
    "## Pivot and melt\n",
    "\n",
    "Common mess 3 is a combination of messes 1 and 2: values or variables are stored in both rows and columns. Pivoting and melting in sequence can usually fix this. `weather3` illustrates this issue:"
   ]
  },
  {
   "cell_type": "markdown",
   "metadata": {},
   "source": [
    "**Then pivot**"
   ]
  },
  {
   "cell_type": "code",
   "execution_count": 34,
   "metadata": {},
   "outputs": [
    {
     "data": {
      "text/html": [
       "<div>\n",
       "<style scoped>\n",
       "    .dataframe tbody tr th:only-of-type {\n",
       "        vertical-align: middle;\n",
       "    }\n",
       "\n",
       "    .dataframe tbody tr th {\n",
       "        vertical-align: top;\n",
       "    }\n",
       "\n",
       "    .dataframe thead th {\n",
       "        text-align: right;\n",
       "    }\n",
       "</style>\n",
       "<table border=\"1\" class=\"dataframe\">\n",
       "  <thead>\n",
       "    <tr style=\"text-align: right;\">\n",
       "      <th></th>\n",
       "      <th>MONTH</th>\n",
       "      <th>day</th>\n",
       "      <th>TMAX</th>\n",
       "      <th>TMIN</th>\n",
       "    </tr>\n",
       "  </thead>\n",
       "  <tbody>\n",
       "    <tr>\n",
       "      <th>0</th>\n",
       "      <td>1</td>\n",
       "      <td>1</td>\n",
       "      <td>65.0</td>\n",
       "      <td>37.0</td>\n",
       "    </tr>\n",
       "    <tr>\n",
       "      <th>1</th>\n",
       "      <td>1</td>\n",
       "      <td>2</td>\n",
       "      <td>62.0</td>\n",
       "      <td>38.0</td>\n",
       "    </tr>\n",
       "    <tr>\n",
       "      <th>2</th>\n",
       "      <td>1</td>\n",
       "      <td>3</td>\n",
       "      <td>60.0</td>\n",
       "      <td>42.0</td>\n",
       "    </tr>\n",
       "    <tr>\n",
       "      <th>3</th>\n",
       "      <td>1</td>\n",
       "      <td>4</td>\n",
       "      <td>72.0</td>\n",
       "      <td>43.0</td>\n",
       "    </tr>\n",
       "    <tr>\n",
       "      <th>4</th>\n",
       "      <td>1</td>\n",
       "      <td>5</td>\n",
       "      <td>61.0</td>\n",
       "      <td>40.0</td>\n",
       "    </tr>\n",
       "  </tbody>\n",
       "</table>\n",
       "</div>"
      ],
      "text/plain": [
       "   MONTH  day  TMAX  TMIN\n",
       "0      1    1  65.0  37.0\n",
       "1      1    2  62.0  38.0\n",
       "2      1    3  60.0  42.0\n",
       "3      1    4  72.0  43.0\n",
       "4      1    5  61.0  40.0"
      ]
     },
     "execution_count": 34,
     "metadata": {},
     "output_type": "execute_result"
    }
   ],
   "source": [
    "weather3.melt(\n",
    "    ignore_index = False,\n",
    "    var_name = 'day',\n",
    "    value_name = 'temp'\n",
    ").reset_index().pivot(\n",
    "    index = ['MONTH', 'day'],\n",
    "    columns = 'type',\n",
    "    values = 'temp'\n",
    ").reset_index().rename_axis(columns = {'type': ''}).head()"
   ]
  },
  {
   "cell_type": "markdown",
   "metadata": {
    "slideshow": {
     "slide_type": "subslide"
    },
    "tags": []
   },
   "source": [
    "## Merge\n",
    "\n",
    "Merging resolves the issue of storing observations or variables on one unit type in multiple tables (mess 4). The basic idea is to combine by matching rows.\n",
    "\n",
    "<img src=\"figures/join-diagram.png\" style=\"height:300px\">\n",
    "\n",
    "However, there are a number of different merging rules (corresponding to SQL joins)."
   ]
  },
  {
   "cell_type": "markdown",
   "metadata": {
    "slideshow": {
     "slide_type": "subslide"
    },
    "tags": []
   },
   "source": [
    "## Merge\n",
    "\n",
    "The code below combines columns in each table by matching rows based on country."
   ]
  },
  {
   "cell_type": "code",
   "execution_count": 59,
   "metadata": {},
   "outputs": [
    {
     "data": {
      "text/html": [
       "<div>\n",
       "<style scoped>\n",
       "    .dataframe tbody tr th:only-of-type {\n",
       "        vertical-align: middle;\n",
       "    }\n",
       "\n",
       "    .dataframe tbody tr th {\n",
       "        vertical-align: top;\n",
       "    }\n",
       "\n",
       "    .dataframe thead th {\n",
       "        text-align: right;\n",
       "    }\n",
       "</style>\n",
       "<table border=\"1\" class=\"dataframe\">\n",
       "  <thead>\n",
       "    <tr style=\"text-align: right;\">\n",
       "      <th></th>\n",
       "      <th>total_pop</th>\n",
       "      <th>urban_pct_pop</th>\n",
       "      <th>pop_under5</th>\n",
       "      <th>pop_15to64</th>\n",
       "      <th>pop_over65</th>\n",
       "      <th>gender_inequality</th>\n",
       "      <th>parliament_pct_women</th>\n",
       "      <th>labor_participation_women</th>\n",
       "      <th>labor_participation_men</th>\n",
       "    </tr>\n",
       "    <tr>\n",
       "      <th>country</th>\n",
       "      <th></th>\n",
       "      <th></th>\n",
       "      <th></th>\n",
       "      <th></th>\n",
       "      <th></th>\n",
       "      <th></th>\n",
       "      <th></th>\n",
       "      <th></th>\n",
       "      <th></th>\n",
       "    </tr>\n",
       "  </thead>\n",
       "  <tbody>\n",
       "    <tr>\n",
       "      <th>Afghanistan</th>\n",
       "      <td>38.0</td>\n",
       "      <td>25.8</td>\n",
       "      <td>5.6</td>\n",
       "      <td>20.9</td>\n",
       "      <td>1.0</td>\n",
       "      <td>0.655</td>\n",
       "      <td>27.2</td>\n",
       "      <td>21.6</td>\n",
       "      <td>74.7</td>\n",
       "    </tr>\n",
       "    <tr>\n",
       "      <th>Albania</th>\n",
       "      <td>2.9</td>\n",
       "      <td>61.2</td>\n",
       "      <td>0.2</td>\n",
       "      <td>2.0</td>\n",
       "      <td>0.4</td>\n",
       "      <td>0.181</td>\n",
       "      <td>29.5</td>\n",
       "      <td>46.7</td>\n",
       "      <td>64.6</td>\n",
       "    </tr>\n",
       "    <tr>\n",
       "      <th>Algeria</th>\n",
       "      <td>43.1</td>\n",
       "      <td>73.2</td>\n",
       "      <td>5.0</td>\n",
       "      <td>27.1</td>\n",
       "      <td>2.8</td>\n",
       "      <td>0.429</td>\n",
       "      <td>21.5</td>\n",
       "      <td>14.6</td>\n",
       "      <td>67.4</td>\n",
       "    </tr>\n",
       "    <tr>\n",
       "      <th>Andorra</th>\n",
       "      <td>0.1</td>\n",
       "      <td>88.0</td>\n",
       "      <td>NaN</td>\n",
       "      <td>NaN</td>\n",
       "      <td>NaN</td>\n",
       "      <td>NaN</td>\n",
       "      <td>46.4</td>\n",
       "      <td>NaN</td>\n",
       "      <td>NaN</td>\n",
       "    </tr>\n",
       "  </tbody>\n",
       "</table>\n",
       "</div>"
      ],
      "text/plain": [
       "            total_pop  urban_pct_pop  pop_under5 pop_15to64  pop_over65  \\\n",
       "country                                                                   \n",
       "Afghanistan      38.0           25.8         5.6       20.9         1.0   \n",
       "Albania           2.9           61.2         0.2        2.0         0.4   \n",
       "Algeria          43.1           73.2         5.0       27.1         2.8   \n",
       "Andorra           0.1           88.0         NaN        NaN         NaN   \n",
       "\n",
       "             gender_inequality  parliament_pct_women  \\\n",
       "country                                                \n",
       "Afghanistan              0.655                  27.2   \n",
       "Albania                  0.181                  29.5   \n",
       "Algeria                  0.429                  21.5   \n",
       "Andorra                    NaN                  46.4   \n",
       "\n",
       "             labor_participation_women  labor_participation_men  \n",
       "country                                                          \n",
       "Afghanistan                       21.6                     74.7  \n",
       "Albania                           46.7                     64.6  \n",
       "Algeria                           14.6                     67.4  \n",
       "Andorra                            NaN                      NaN  "
      ]
     },
     "execution_count": 59,
     "metadata": {},
     "output_type": "execute_result"
    }
   ],
   "source": [
    "pd.merge(undev1, undev2, on = 'country').head(4)"
   ]
  },
  {
   "cell_type": "markdown",
   "metadata": {
    "slideshow": {
     "slide_type": "subslide"
    },
    "tags": []
   },
   "source": [
    "## Merge\n",
    "\n",
    "There are various rules for exactly how to merge, but the general syntactical procedure to merge dataframes `df1` and `df2` is this."
   ]
  },
  {
   "cell_type": "markdown",
   "metadata": {
    "slideshow": {
     "slide_type": "fragment"
    },
    "tags": []
   },
   "source": [
    "* Specify an **order**: `merge(df1, df2)` or `merge(df2, df1)`."
   ]
  },
  {
   "cell_type": "markdown",
   "metadata": {
    "slideshow": {
     "slide_type": "fragment"
    },
    "tags": []
   },
   "source": [
    "* Specify **keys**: the shared columns to use for matching rows of `df1` with rows of `df2`.\n",
    "    + for example, merging on `date` will align rows in `df2` with rows of `df1` that have the same value for `date`    "
   ]
  },
  {
   "cell_type": "markdown",
   "metadata": {
    "slideshow": {
     "slide_type": "fragment"
    },
    "tags": []
   },
   "source": [
    "* Specify a **rule** for which rows to return after merging\n",
    "    + keep all rows with key entries in `df1`, drop non-matching rows in `df2` ('left' join)\n",
    "    + keep all rows with key entries in `df2` drop non-matching rows in `df1` ('right' join)\n",
    "    + keep all rows with key entries in either `df1` or `df2`, inducing missing values ('outer' join)\n",
    "    + keep all rows with key entries in both `df1` and `df2` ('inner' join)"
   ]
  },
  {
   "cell_type": "markdown",
   "metadata": {
    "slideshow": {
     "slide_type": "fragment"
    },
    "tags": []
   },
   "source": [
    "You don't need to memorize these -- you'll learn from experience using them and can always look them up (I usually need to)."
   ]
  },
  {
   "cell_type": "markdown",
   "metadata": {
    "slideshow": {
     "slide_type": "slide"
    },
    "tags": []
   },
   "source": [
    "# Transform\n",
    "\n",
    "Tidying facilitates transformation.\n",
    "\n",
    "> \"Transformation includes narrowing in on observations of interest (like all people in one city, or all data from the last year), creating new variables that are functions of existing variables (like computing speed from distance and time), and calculating a set of summary statistics (like counts or means).\" *Wickham and Grolemund, R for Data Science, 2017.*\n",
    "\n",
    "For our purposes, a **transformation** is _**any operation that modifies the shape or values of a data frame**_. This includes: \n",
    "* Subsetting (slicing and filtering)\n",
    "* Defining new variables\n",
    "* Aggregation and summary statistics\n",
    "\n",
    "You are learning transformation tools in lab 1. They're a lot easier to use if data are tidy."
   ]
  },
  {
   "cell_type": "markdown",
   "metadata": {
    "slideshow": {
     "slide_type": "subslide"
    },
    "tags": []
   },
   "source": [
    "## Tidying facilitates transformation\n",
    "\n",
    "*Why use the tidy standard? Wouldn't any system of organization do just as well?*"
   ]
  },
  {
   "cell_type": "markdown",
   "metadata": {
    "slideshow": {
     "slide_type": "fragment"
    },
    "tags": []
   },
   "source": [
    "The tidy standard has three main advantages:\n",
    "\n",
    "1. Having a consistent system of organization makes it easier to focus on analysis and exploration. \n",
    "2. **Transformation of tidy data is especially natural in most computing environments due to vectorized operations.**\n",
    "3. Many tools for exploration, visualization, and modeling are designed to work with tidy data inputs."
   ]
  },
  {
   "cell_type": "markdown",
   "metadata": {
    "slideshow": {
     "slide_type": "skip"
    },
    "tags": []
   },
   "source": [
    "There's another point that may not be meaningful to everyone in this class, but statistical models are often expressed in terms of the data quantities:\n",
    "$$ \\mathbf{y} \\in \\mathbb{R}^{n \\times 1} \\qquad \\mathbf{X}\\in\\mathbb{R}^{n\\times p}$$\n",
    "So the idea of tidy data is implicit in the mathematics used to express statistical models."
   ]
  },
  {
   "cell_type": "markdown",
   "metadata": {
    "slideshow": {
     "slide_type": "subslide"
    },
    "tags": []
   },
   "source": [
    "## Subsetting\n",
    "\n",
    "Tidy data is easier to subset (slice and filter)."
   ]
  },
  {
   "cell_type": "markdown",
   "metadata": {
    "slideshow": {
     "slide_type": "fragment"
    },
    "tags": []
   },
   "source": [
    "If, for instance, we want to inspect population and women in parliament for Mexico and Colombia, we can retrieve those values by simply calling the corresponding observations and variables:"
   ]
  },
  {
   "cell_type": "code",
   "execution_count": 60,
   "metadata": {
    "slideshow": {
     "slide_type": "fragment"
    },
    "tags": []
   },
   "outputs": [
    {
     "data": {
      "text/html": [
       "<div>\n",
       "<style scoped>\n",
       "    .dataframe tbody tr th:only-of-type {\n",
       "        vertical-align: middle;\n",
       "    }\n",
       "\n",
       "    .dataframe tbody tr th {\n",
       "        vertical-align: top;\n",
       "    }\n",
       "\n",
       "    .dataframe thead th {\n",
       "        text-align: right;\n",
       "    }\n",
       "</style>\n",
       "<table border=\"1\" class=\"dataframe\">\n",
       "  <thead>\n",
       "    <tr style=\"text-align: right;\">\n",
       "      <th></th>\n",
       "      <th>total_pop</th>\n",
       "      <th>parliament_pct_women</th>\n",
       "    </tr>\n",
       "    <tr>\n",
       "      <th>country</th>\n",
       "      <th></th>\n",
       "      <th></th>\n",
       "    </tr>\n",
       "  </thead>\n",
       "  <tbody>\n",
       "    <tr>\n",
       "      <th>Mexico</th>\n",
       "      <td>127.6</td>\n",
       "      <td>48.4</td>\n",
       "    </tr>\n",
       "    <tr>\n",
       "      <th>Colombia</th>\n",
       "      <td>50.3</td>\n",
       "      <td>19.6</td>\n",
       "    </tr>\n",
       "    <tr>\n",
       "      <th>United States</th>\n",
       "      <td>329.1</td>\n",
       "      <td>23.7</td>\n",
       "    </tr>\n",
       "  </tbody>\n",
       "</table>\n",
       "</div>"
      ],
      "text/plain": [
       "              total_pop  parliament_pct_women\n",
       "country                                      \n",
       "Mexico            127.6                  48.4\n",
       "Colombia           50.3                  19.6\n",
       "United States     329.1                  23.7"
      ]
     },
     "execution_count": 60,
     "metadata": {},
     "output_type": "execute_result"
    }
   ],
   "source": [
    "undev_combined1.loc[['Mexico', 'Colombia', 'United States'], ['total_pop', 'parliament_pct_women']]"
   ]
  },
  {
   "cell_type": "markdown",
   "metadata": {
    "slideshow": {
     "slide_type": "subslide"
    },
    "tags": []
   },
   "source": [
    "## Subsetting\n",
    "\n",
    "The same goal can be achieved using a non-tidy format, but the code is more verbose and the output is less interpretable."
   ]
  },
  {
   "cell_type": "code",
   "execution_count": 61,
   "metadata": {
    "slideshow": {
     "slide_type": "fragment"
    },
    "tags": []
   },
   "outputs": [
    {
     "data": {
      "text/html": [
       "<div>\n",
       "<style scoped>\n",
       "    .dataframe tbody tr th:only-of-type {\n",
       "        vertical-align: middle;\n",
       "    }\n",
       "\n",
       "    .dataframe tbody tr th {\n",
       "        vertical-align: top;\n",
       "    }\n",
       "\n",
       "    .dataframe thead th {\n",
       "        text-align: right;\n",
       "    }\n",
       "</style>\n",
       "<table border=\"1\" class=\"dataframe\">\n",
       "  <thead>\n",
       "    <tr style=\"text-align: right;\">\n",
       "      <th></th>\n",
       "      <th>population_value</th>\n",
       "      <th>gender_value</th>\n",
       "    </tr>\n",
       "    <tr>\n",
       "      <th>country</th>\n",
       "      <th></th>\n",
       "      <th></th>\n",
       "    </tr>\n",
       "  </thead>\n",
       "  <tbody>\n",
       "    <tr>\n",
       "      <th>Mexico</th>\n",
       "      <td>127.6</td>\n",
       "      <td>48.4</td>\n",
       "    </tr>\n",
       "    <tr>\n",
       "      <th>Colombia</th>\n",
       "      <td>50.3</td>\n",
       "      <td>19.6</td>\n",
       "    </tr>\n",
       "    <tr>\n",
       "      <th>United States</th>\n",
       "      <td>329.1</td>\n",
       "      <td>23.7</td>\n",
       "    </tr>\n",
       "  </tbody>\n",
       "</table>\n",
       "</div>"
      ],
      "text/plain": [
       "              population_value  gender_value\n",
       "country                                     \n",
       "Mexico                   127.6          48.4\n",
       "Colombia                  50.3          19.6\n",
       "United States            329.1          23.7"
      ]
     },
     "execution_count": 61,
     "metadata": {},
     "output_type": "execute_result"
    }
   ],
   "source": [
    "undev_combined2[\n",
    "    (undev_combined2.population_variable == 'total_pop') & \n",
    "    (undev_combined2.gender_variable == 'parliament_pct_women')\n",
    "].loc[['Mexico', 'Colombia', 'United States'], ['population_value', 'gender_value']]"
   ]
  },
  {
   "cell_type": "markdown",
   "metadata": {
    "slideshow": {
     "slide_type": "subslide"
    },
    "tags": []
   },
   "source": [
    "## Defining new variables\n",
    "\n",
    "Vectorization of operations in pandas and numpy make tidy data especially nice to manipulate mathematically."
   ]
  },
  {
   "cell_type": "markdown",
   "metadata": {
    "slideshow": {
     "slide_type": "fragment"
    },
    "tags": []
   },
   "source": [
    "For example, to calculate the temperature range in a day from the Santa Barbara weather data, having the min and max temps in columns arranged by day makes this easy:"
   ]
  },
  {
   "cell_type": "code",
   "execution_count": 62,
   "metadata": {
    "slideshow": {
     "slide_type": "fragment"
    },
    "tags": []
   },
   "outputs": [
    {
     "data": {
      "text/html": [
       "<div>\n",
       "<style scoped>\n",
       "    .dataframe tbody tr th:only-of-type {\n",
       "        vertical-align: middle;\n",
       "    }\n",
       "\n",
       "    .dataframe tbody tr th {\n",
       "        vertical-align: top;\n",
       "    }\n",
       "\n",
       "    .dataframe thead th {\n",
       "        text-align: right;\n",
       "    }\n",
       "</style>\n",
       "<table border=\"1\" class=\"dataframe\">\n",
       "  <thead>\n",
       "    <tr style=\"text-align: right;\">\n",
       "      <th></th>\n",
       "      <th>STATION</th>\n",
       "      <th>TMAX</th>\n",
       "      <th>TMIN</th>\n",
       "      <th>MONTH</th>\n",
       "      <th>DAY</th>\n",
       "      <th>YEAR</th>\n",
       "      <th>TRANGE</th>\n",
       "    </tr>\n",
       "  </thead>\n",
       "  <tbody>\n",
       "    <tr>\n",
       "      <th>0</th>\n",
       "      <td>USW00023190</td>\n",
       "      <td>65</td>\n",
       "      <td>37</td>\n",
       "      <td>1</td>\n",
       "      <td>1</td>\n",
       "      <td>2021</td>\n",
       "      <td>28</td>\n",
       "    </tr>\n",
       "    <tr>\n",
       "      <th>1</th>\n",
       "      <td>USW00023190</td>\n",
       "      <td>62</td>\n",
       "      <td>38</td>\n",
       "      <td>1</td>\n",
       "      <td>2</td>\n",
       "      <td>2021</td>\n",
       "      <td>24</td>\n",
       "    </tr>\n",
       "    <tr>\n",
       "      <th>2</th>\n",
       "      <td>USW00023190</td>\n",
       "      <td>60</td>\n",
       "      <td>42</td>\n",
       "      <td>1</td>\n",
       "      <td>3</td>\n",
       "      <td>2021</td>\n",
       "      <td>18</td>\n",
       "    </tr>\n",
       "    <tr>\n",
       "      <th>3</th>\n",
       "      <td>USW00023190</td>\n",
       "      <td>72</td>\n",
       "      <td>43</td>\n",
       "      <td>1</td>\n",
       "      <td>4</td>\n",
       "      <td>2021</td>\n",
       "      <td>29</td>\n",
       "    </tr>\n",
       "    <tr>\n",
       "      <th>4</th>\n",
       "      <td>USW00023190</td>\n",
       "      <td>61</td>\n",
       "      <td>40</td>\n",
       "      <td>1</td>\n",
       "      <td>5</td>\n",
       "      <td>2021</td>\n",
       "      <td>21</td>\n",
       "    </tr>\n",
       "  </tbody>\n",
       "</table>\n",
       "</div>"
      ],
      "text/plain": [
       "       STATION  TMAX  TMIN  MONTH  DAY  YEAR  TRANGE\n",
       "0  USW00023190    65    37      1    1  2021      28\n",
       "1  USW00023190    62    38      1    2  2021      24\n",
       "2  USW00023190    60    42      1    3  2021      18\n",
       "3  USW00023190    72    43      1    4  2021      29\n",
       "4  USW00023190    61    40      1    5  2021      21"
      ]
     },
     "execution_count": 62,
     "metadata": {},
     "output_type": "execute_result"
    }
   ],
   "source": [
    "weather2['TRANGE'] = weather2.TMAX - weather2.TMIN\n",
    "weather2.head()"
   ]
  },
  {
   "cell_type": "markdown",
   "metadata": {
    "slideshow": {
     "slide_type": "subslide"
    },
    "tags": []
   },
   "source": [
    "## Defining new variables\n",
    "\n",
    "Again, the same result could be achieved using non-tidy data, but the operation is a bit more complicated to execute and less interpretable."
   ]
  },
  {
   "cell_type": "code",
   "execution_count": 63,
   "metadata": {
    "slideshow": {
     "slide_type": "fragment"
    },
    "tags": []
   },
   "outputs": [
    {
     "data": {
      "text/html": [
       "<div>\n",
       "<style scoped>\n",
       "    .dataframe tbody tr th:only-of-type {\n",
       "        vertical-align: middle;\n",
       "    }\n",
       "\n",
       "    .dataframe tbody tr th {\n",
       "        vertical-align: top;\n",
       "    }\n",
       "\n",
       "    .dataframe thead th {\n",
       "        text-align: right;\n",
       "    }\n",
       "</style>\n",
       "<table border=\"1\" class=\"dataframe\">\n",
       "  <thead>\n",
       "    <tr style=\"text-align: right;\">\n",
       "      <th>DAY</th>\n",
       "      <th>1</th>\n",
       "      <th>2</th>\n",
       "      <th>3</th>\n",
       "      <th>4</th>\n",
       "      <th>5</th>\n",
       "      <th>6</th>\n",
       "      <th>7</th>\n",
       "      <th>8</th>\n",
       "      <th>9</th>\n",
       "      <th>10</th>\n",
       "      <th>...</th>\n",
       "      <th>22</th>\n",
       "      <th>23</th>\n",
       "      <th>24</th>\n",
       "      <th>25</th>\n",
       "      <th>26</th>\n",
       "      <th>27</th>\n",
       "      <th>28</th>\n",
       "      <th>29</th>\n",
       "      <th>30</th>\n",
       "      <th>31</th>\n",
       "    </tr>\n",
       "    <tr>\n",
       "      <th>MONTH</th>\n",
       "      <th></th>\n",
       "      <th></th>\n",
       "      <th></th>\n",
       "      <th></th>\n",
       "      <th></th>\n",
       "      <th></th>\n",
       "      <th></th>\n",
       "      <th></th>\n",
       "      <th></th>\n",
       "      <th></th>\n",
       "      <th></th>\n",
       "      <th></th>\n",
       "      <th></th>\n",
       "      <th></th>\n",
       "      <th></th>\n",
       "      <th></th>\n",
       "      <th></th>\n",
       "      <th></th>\n",
       "      <th></th>\n",
       "      <th></th>\n",
       "      <th></th>\n",
       "    </tr>\n",
       "  </thead>\n",
       "  <tbody>\n",
       "    <tr>\n",
       "      <th>1</th>\n",
       "      <td>28.0</td>\n",
       "      <td>24.0</td>\n",
       "      <td>18.0</td>\n",
       "      <td>29.0</td>\n",
       "      <td>21.0</td>\n",
       "      <td>32.0</td>\n",
       "      <td>35.0</td>\n",
       "      <td>43.0</td>\n",
       "      <td>32.0</td>\n",
       "      <td>30.0</td>\n",
       "      <td>...</td>\n",
       "      <td>20.0</td>\n",
       "      <td>19.0</td>\n",
       "      <td>27.0</td>\n",
       "      <td>11.0</td>\n",
       "      <td>17.0</td>\n",
       "      <td>6.0</td>\n",
       "      <td>6.0</td>\n",
       "      <td>13.0</td>\n",
       "      <td>21.0</td>\n",
       "      <td>26.0</td>\n",
       "    </tr>\n",
       "    <tr>\n",
       "      <th>2</th>\n",
       "      <td>21.0</td>\n",
       "      <td>27.0</td>\n",
       "      <td>25.0</td>\n",
       "      <td>26.0</td>\n",
       "      <td>28.0</td>\n",
       "      <td>30.0</td>\n",
       "      <td>22.0</td>\n",
       "      <td>8.0</td>\n",
       "      <td>10.0</td>\n",
       "      <td>20.0</td>\n",
       "      <td>...</td>\n",
       "      <td>38.0</td>\n",
       "      <td>36.0</td>\n",
       "      <td>29.0</td>\n",
       "      <td>27.0</td>\n",
       "      <td>33.0</td>\n",
       "      <td>33.0</td>\n",
       "      <td>30.0</td>\n",
       "      <td>NaN</td>\n",
       "      <td>NaN</td>\n",
       "      <td>NaN</td>\n",
       "    </tr>\n",
       "    <tr>\n",
       "      <th>3</th>\n",
       "      <td>31.0</td>\n",
       "      <td>30.0</td>\n",
       "      <td>23.0</td>\n",
       "      <td>25.0</td>\n",
       "      <td>28.0</td>\n",
       "      <td>26.0</td>\n",
       "      <td>13.0</td>\n",
       "      <td>22.0</td>\n",
       "      <td>18.0</td>\n",
       "      <td>15.0</td>\n",
       "      <td>...</td>\n",
       "      <td>21.0</td>\n",
       "      <td>23.0</td>\n",
       "      <td>26.0</td>\n",
       "      <td>21.0</td>\n",
       "      <td>23.0</td>\n",
       "      <td>31.0</td>\n",
       "      <td>32.0</td>\n",
       "      <td>35.0</td>\n",
       "      <td>NaN</td>\n",
       "      <td>NaN</td>\n",
       "    </tr>\n",
       "  </tbody>\n",
       "</table>\n",
       "<p>3 rows × 31 columns</p>\n",
       "</div>"
      ],
      "text/plain": [
       "DAY      1     2     3     4     5     6     7     8     9     10  ...    22  \\\n",
       "MONTH                                                              ...         \n",
       "1      28.0  24.0  18.0  29.0  21.0  32.0  35.0  43.0  32.0  30.0  ...  20.0   \n",
       "2      21.0  27.0  25.0  26.0  28.0  30.0  22.0   8.0  10.0  20.0  ...  38.0   \n",
       "3      31.0  30.0  23.0  25.0  28.0  26.0  13.0  22.0  18.0  15.0  ...  21.0   \n",
       "\n",
       "DAY      23    24    25    26    27    28    29    30    31  \n",
       "MONTH                                                        \n",
       "1      19.0  27.0  11.0  17.0   6.0   6.0  13.0  21.0  26.0  \n",
       "2      36.0  29.0  27.0  33.0  33.0  30.0   NaN   NaN   NaN  \n",
       "3      23.0  26.0  21.0  23.0  31.0  32.0  35.0   NaN   NaN  \n",
       "\n",
       "[3 rows x 31 columns]"
      ]
     },
     "execution_count": 63,
     "metadata": {},
     "output_type": "execute_result"
    }
   ],
   "source": [
    "weather3a = weather3.reset_index('type')\n",
    "maxtemps = weather3a[weather3a.type == 'TMAX'].drop(columns = 'type') \n",
    "mintemps = weather3a[weather3a.type == 'TMIN'].drop(columns = 'type') \n",
    "temprange = maxtemps - mintemps\n",
    "temprange"
   ]
  },
  {
   "cell_type": "markdown",
   "metadata": {
    "slideshow": {
     "slide_type": "subslide"
    },
    "tags": []
   },
   "source": [
    "## Aggregation and summary statistics\n",
    "\n",
    "Vectorization similarly makes aggregations straightforward when data are tidy."
   ]
  },
  {
   "cell_type": "markdown",
   "metadata": {
    "slideshow": {
     "slide_type": "fragment"
    },
    "tags": []
   },
   "source": [
    "For instance, the monthly average temperatures are easy to compute from tidy weather data:"
   ]
  },
  {
   "cell_type": "code",
   "execution_count": 67,
   "metadata": {
    "slideshow": {
     "slide_type": "fragment"
    },
    "tags": []
   },
   "outputs": [
    {
     "data": {
      "text/html": [
       "<div>\n",
       "<style scoped>\n",
       "    .dataframe tbody tr th:only-of-type {\n",
       "        vertical-align: middle;\n",
       "    }\n",
       "\n",
       "    .dataframe tbody tr th {\n",
       "        vertical-align: top;\n",
       "    }\n",
       "\n",
       "    .dataframe thead th {\n",
       "        text-align: right;\n",
       "    }\n",
       "</style>\n",
       "<table border=\"1\" class=\"dataframe\">\n",
       "  <thead>\n",
       "    <tr style=\"text-align: right;\">\n",
       "      <th></th>\n",
       "      <th>TMAX</th>\n",
       "      <th>TMIN</th>\n",
       "      <th>TRANGE</th>\n",
       "    </tr>\n",
       "    <tr>\n",
       "      <th>MONTH</th>\n",
       "      <th></th>\n",
       "      <th></th>\n",
       "      <th></th>\n",
       "    </tr>\n",
       "  </thead>\n",
       "  <tbody>\n",
       "    <tr>\n",
       "      <th>1</th>\n",
       "      <td>67.645161</td>\n",
       "      <td>40.870968</td>\n",
       "      <td>26.774194</td>\n",
       "    </tr>\n",
       "    <tr>\n",
       "      <th>2</th>\n",
       "      <td>67.250000</td>\n",
       "      <td>41.785714</td>\n",
       "      <td>25.464286</td>\n",
       "    </tr>\n",
       "    <tr>\n",
       "      <th>3</th>\n",
       "      <td>65.310345</td>\n",
       "      <td>42.172414</td>\n",
       "      <td>23.137931</td>\n",
       "    </tr>\n",
       "  </tbody>\n",
       "</table>\n",
       "</div>"
      ],
      "text/plain": [
       "            TMAX       TMIN     TRANGE\n",
       "MONTH                                 \n",
       "1      67.645161  40.870968  26.774194\n",
       "2      67.250000  41.785714  25.464286\n",
       "3      65.310345  42.172414  23.137931"
      ]
     },
     "execution_count": 67,
     "metadata": {},
     "output_type": "execute_result"
    }
   ],
   "source": [
    "weather2.groupby('MONTH').mean().drop(columns = ['DAY', 'YEAR'])"
   ]
  },
  {
   "cell_type": "markdown",
   "metadata": {
    "slideshow": {
     "slide_type": "subslide"
    },
    "tags": []
   },
   "source": [
    "## Aggregation and summary statistics\n",
    "\n",
    "It's not necessarily harder to envision how to perform these operations in the non-tidy layouts; it's just trickier to execute and the output is a little less organized."
   ]
  },
  {
   "cell_type": "code",
   "execution_count": 68,
   "metadata": {},
   "outputs": [
    {
     "data": {
      "text/plain": [
       "MONTH  type\n",
       "1      TMAX    67.645161\n",
       "       TMIN    40.870968\n",
       "2      TMAX    67.250000\n",
       "       TMIN    41.785714\n",
       "3      TMAX    65.310345\n",
       "       TMIN    42.172414\n",
       "dtype: float64"
      ]
     },
     "execution_count": 68,
     "metadata": {},
     "output_type": "execute_result"
    }
   ],
   "source": [
    "weather3.mean(axis = 1)"
   ]
  },
  {
   "cell_type": "code",
   "execution_count": 69,
   "metadata": {},
   "outputs": [
    {
     "data": {
      "text/plain": [
       "MONTH\n",
       "1    26.774194\n",
       "2    25.464286\n",
       "3    23.137931\n",
       "dtype: float64"
      ]
     },
     "execution_count": 69,
     "metadata": {},
     "output_type": "execute_result"
    }
   ],
   "source": [
    "temprange.mean(axis = 1)"
   ]
  },
  {
   "cell_type": "markdown",
   "metadata": {
    "slideshow": {
     "slide_type": "subslide"
    },
    "tags": []
   },
   "source": [
    "## Visualization\n",
    "\n",
    "Plotting libraries often operate in such a way that tidy data is easier to plot."
   ]
  },
  {
   "cell_type": "code",
   "execution_count": 70,
   "metadata": {
    "slideshow": {
     "slide_type": "fragment"
    },
    "tags": []
   },
   "outputs": [
    {
     "data": {
      "text/html": [
       "\n",
       "<div id=\"altair-viz-414dcceefb274fdb9972baf2585f342d\"></div>\n",
       "<script type=\"text/javascript\">\n",
       "  var VEGA_DEBUG = (typeof VEGA_DEBUG == \"undefined\") ? {} : VEGA_DEBUG;\n",
       "  (function(spec, embedOpt){\n",
       "    let outputDiv = document.currentScript.previousElementSibling;\n",
       "    if (outputDiv.id !== \"altair-viz-414dcceefb274fdb9972baf2585f342d\") {\n",
       "      outputDiv = document.getElementById(\"altair-viz-414dcceefb274fdb9972baf2585f342d\");\n",
       "    }\n",
       "    const paths = {\n",
       "      \"vega\": \"https://cdn.jsdelivr.net/npm//vega@5?noext\",\n",
       "      \"vega-lib\": \"https://cdn.jsdelivr.net/npm//vega-lib?noext\",\n",
       "      \"vega-lite\": \"https://cdn.jsdelivr.net/npm//vega-lite@4.17.0?noext\",\n",
       "      \"vega-embed\": \"https://cdn.jsdelivr.net/npm//vega-embed@6?noext\",\n",
       "    };\n",
       "\n",
       "    function maybeLoadScript(lib, version) {\n",
       "      var key = `${lib.replace(\"-\", \"\")}_version`;\n",
       "      return (VEGA_DEBUG[key] == version) ?\n",
       "        Promise.resolve(paths[lib]) :\n",
       "        new Promise(function(resolve, reject) {\n",
       "          var s = document.createElement('script');\n",
       "          document.getElementsByTagName(\"head\")[0].appendChild(s);\n",
       "          s.async = true;\n",
       "          s.onload = () => {\n",
       "            VEGA_DEBUG[key] = version;\n",
       "            return resolve(paths[lib]);\n",
       "          };\n",
       "          s.onerror = () => reject(`Error loading script: ${paths[lib]}`);\n",
       "          s.src = paths[lib];\n",
       "        });\n",
       "    }\n",
       "\n",
       "    function showError(err) {\n",
       "      outputDiv.innerHTML = `<div class=\"error\" style=\"color:red;\">${err}</div>`;\n",
       "      throw err;\n",
       "    }\n",
       "\n",
       "    function displayChart(vegaEmbed) {\n",
       "      vegaEmbed(outputDiv, spec, embedOpt)\n",
       "        .catch(err => showError(`Javascript Error: ${err.message}<br>This usually means there's a typo in your chart specification. See the javascript console for the full traceback.`));\n",
       "    }\n",
       "\n",
       "    if(typeof define === \"function\" && define.amd) {\n",
       "      requirejs.config({paths});\n",
       "      require([\"vega-embed\"], displayChart, err => showError(`Error loading script: ${err.message}`));\n",
       "    } else {\n",
       "      maybeLoadScript(\"vega\", \"5\")\n",
       "        .then(() => maybeLoadScript(\"vega-lite\", \"4.17.0\"))\n",
       "        .then(() => maybeLoadScript(\"vega-embed\", \"6\"))\n",
       "        .catch(showError)\n",
       "        .then(() => displayChart(vegaEmbed));\n",
       "    }\n",
       "  })({\"config\": {\"view\": {\"continuousWidth\": 400, \"continuousHeight\": 300}}, \"data\": {\"name\": \"data-7707a377a611fea0e30a7390cb6491ab\"}, \"mark\": \"line\", \"encoding\": {\"x\": {\"field\": \"DATE\", \"type\": \"nominal\"}, \"y\": {\"field\": \"TMAX\", \"type\": \"quantitative\"}}, \"height\": 100, \"width\": 800, \"$schema\": \"https://vega.github.io/schema/vega-lite/v4.17.0.json\", \"datasets\": {\"data-7707a377a611fea0e30a7390cb6491ab\": [{\"STATION\": \"USW00023190\", \"NAME\": \"SANTA BARBARA MUNICIPAL AIRPORT, CA US\", \"DATE\": \"1/1/2021\", \"TMAX\": 65, \"TMIN\": 37}, {\"STATION\": \"USW00023190\", \"NAME\": \"SANTA BARBARA MUNICIPAL AIRPORT, CA US\", \"DATE\": \"1/2/2021\", \"TMAX\": 62, \"TMIN\": 38}, {\"STATION\": \"USW00023190\", \"NAME\": \"SANTA BARBARA MUNICIPAL AIRPORT, CA US\", \"DATE\": \"1/3/2021\", \"TMAX\": 60, \"TMIN\": 42}, {\"STATION\": \"USW00023190\", \"NAME\": \"SANTA BARBARA MUNICIPAL AIRPORT, CA US\", \"DATE\": \"1/4/2021\", \"TMAX\": 72, \"TMIN\": 43}, {\"STATION\": \"USW00023190\", \"NAME\": \"SANTA BARBARA MUNICIPAL AIRPORT, CA US\", \"DATE\": \"1/5/2021\", \"TMAX\": 61, \"TMIN\": 40}, {\"STATION\": \"USW00023190\", \"NAME\": \"SANTA BARBARA MUNICIPAL AIRPORT, CA US\", \"DATE\": \"1/6/2021\", \"TMAX\": 71, \"TMIN\": 39}, {\"STATION\": \"USW00023190\", \"NAME\": \"SANTA BARBARA MUNICIPAL AIRPORT, CA US\", \"DATE\": \"1/7/2021\", \"TMAX\": 73, \"TMIN\": 38}, {\"STATION\": \"USW00023190\", \"NAME\": \"SANTA BARBARA MUNICIPAL AIRPORT, CA US\", \"DATE\": \"1/8/2021\", \"TMAX\": 79, \"TMIN\": 36}, {\"STATION\": \"USW00023190\", \"NAME\": \"SANTA BARBARA MUNICIPAL AIRPORT, CA US\", \"DATE\": \"1/9/2021\", \"TMAX\": 71, \"TMIN\": 39}, {\"STATION\": \"USW00023190\", \"NAME\": \"SANTA BARBARA MUNICIPAL AIRPORT, CA US\", \"DATE\": \"1/10/2021\", \"TMAX\": 67, \"TMIN\": 37}, {\"STATION\": \"USW00023190\", \"NAME\": \"SANTA BARBARA MUNICIPAL AIRPORT, CA US\", \"DATE\": \"1/11/2021\", \"TMAX\": 67, \"TMIN\": 36}, {\"STATION\": \"USW00023190\", \"NAME\": \"SANTA BARBARA MUNICIPAL AIRPORT, CA US\", \"DATE\": \"1/12/2021\", \"TMAX\": 68, \"TMIN\": 37}, {\"STATION\": \"USW00023190\", \"NAME\": \"SANTA BARBARA MUNICIPAL AIRPORT, CA US\", \"DATE\": \"1/13/2021\", \"TMAX\": 70, \"TMIN\": 39}, {\"STATION\": \"USW00023190\", \"NAME\": \"SANTA BARBARA MUNICIPAL AIRPORT, CA US\", \"DATE\": \"1/14/2021\", \"TMAX\": 84, \"TMIN\": 42}, {\"STATION\": \"USW00023190\", \"NAME\": \"SANTA BARBARA MUNICIPAL AIRPORT, CA US\", \"DATE\": \"1/15/2021\", \"TMAX\": 82, \"TMIN\": 42}, {\"STATION\": \"USW00023190\", \"NAME\": \"SANTA BARBARA MUNICIPAL AIRPORT, CA US\", \"DATE\": \"1/16/2021\", \"TMAX\": 87, \"TMIN\": 42}, {\"STATION\": \"USW00023190\", \"NAME\": \"SANTA BARBARA MUNICIPAL AIRPORT, CA US\", \"DATE\": \"1/17/2021\", \"TMAX\": 84, \"TMIN\": 46}, {\"STATION\": \"USW00023190\", \"NAME\": \"SANTA BARBARA MUNICIPAL AIRPORT, CA US\", \"DATE\": \"1/18/2021\", \"TMAX\": 75, \"TMIN\": 43}, {\"STATION\": \"USW00023190\", \"NAME\": \"SANTA BARBARA MUNICIPAL AIRPORT, CA US\", \"DATE\": \"1/19/2021\", \"TMAX\": 73, \"TMIN\": 47}, {\"STATION\": \"USW00023190\", \"NAME\": \"SANTA BARBARA MUNICIPAL AIRPORT, CA US\", \"DATE\": \"1/20/2021\", \"TMAX\": 74, \"TMIN\": 46}, {\"STATION\": \"USW00023190\", \"NAME\": \"SANTA BARBARA MUNICIPAL AIRPORT, CA US\", \"DATE\": \"1/21/2021\", \"TMAX\": 70, \"TMIN\": 42}, {\"STATION\": \"USW00023190\", \"NAME\": \"SANTA BARBARA MUNICIPAL AIRPORT, CA US\", \"DATE\": \"1/22/2021\", \"TMAX\": 61, \"TMIN\": 41}, {\"STATION\": \"USW00023190\", \"NAME\": \"SANTA BARBARA MUNICIPAL AIRPORT, CA US\", \"DATE\": \"1/23/2021\", \"TMAX\": 59, \"TMIN\": 40}, {\"STATION\": \"USW00023190\", \"NAME\": \"SANTA BARBARA MUNICIPAL AIRPORT, CA US\", \"DATE\": \"1/24/2021\", \"TMAX\": 65, \"TMIN\": 38}, {\"STATION\": \"USW00023190\", \"NAME\": \"SANTA BARBARA MUNICIPAL AIRPORT, CA US\", \"DATE\": \"1/25/2021\", \"TMAX\": 55, \"TMIN\": 44}, {\"STATION\": \"USW00023190\", \"NAME\": \"SANTA BARBARA MUNICIPAL AIRPORT, CA US\", \"DATE\": \"1/26/2021\", \"TMAX\": 57, \"TMIN\": 40}, {\"STATION\": \"USW00023190\", \"NAME\": \"SANTA BARBARA MUNICIPAL AIRPORT, CA US\", \"DATE\": \"1/27/2021\", \"TMAX\": 54, \"TMIN\": 48}, {\"STATION\": \"USW00023190\", \"NAME\": \"SANTA BARBARA MUNICIPAL AIRPORT, CA US\", \"DATE\": \"1/28/2021\", \"TMAX\": 55, \"TMIN\": 49}, {\"STATION\": \"USW00023190\", \"NAME\": \"SANTA BARBARA MUNICIPAL AIRPORT, CA US\", \"DATE\": \"1/29/2021\", \"TMAX\": 55, \"TMIN\": 42}, {\"STATION\": \"USW00023190\", \"NAME\": \"SANTA BARBARA MUNICIPAL AIRPORT, CA US\", \"DATE\": \"1/30/2021\", \"TMAX\": 58, \"TMIN\": 37}, {\"STATION\": \"USW00023190\", \"NAME\": \"SANTA BARBARA MUNICIPAL AIRPORT, CA US\", \"DATE\": \"1/31/2021\", \"TMAX\": 63, \"TMIN\": 37}, {\"STATION\": \"USW00023190\", \"NAME\": \"SANTA BARBARA MUNICIPAL AIRPORT, CA US\", \"DATE\": \"2/1/2021\", \"TMAX\": 66, \"TMIN\": 45}, {\"STATION\": \"USW00023190\", \"NAME\": \"SANTA BARBARA MUNICIPAL AIRPORT, CA US\", \"DATE\": \"2/2/2021\", \"TMAX\": 67, \"TMIN\": 40}, {\"STATION\": \"USW00023190\", \"NAME\": \"SANTA BARBARA MUNICIPAL AIRPORT, CA US\", \"DATE\": \"2/3/2021\", \"TMAX\": 69, \"TMIN\": 44}, {\"STATION\": \"USW00023190\", \"NAME\": \"SANTA BARBARA MUNICIPAL AIRPORT, CA US\", \"DATE\": \"2/4/2021\", \"TMAX\": 63, \"TMIN\": 37}, {\"STATION\": \"USW00023190\", \"NAME\": \"SANTA BARBARA MUNICIPAL AIRPORT, CA US\", \"DATE\": \"2/5/2021\", \"TMAX\": 66, \"TMIN\": 38}, {\"STATION\": \"USW00023190\", \"NAME\": \"SANTA BARBARA MUNICIPAL AIRPORT, CA US\", \"DATE\": \"2/6/2021\", \"TMAX\": 68, \"TMIN\": 38}, {\"STATION\": \"USW00023190\", \"NAME\": \"SANTA BARBARA MUNICIPAL AIRPORT, CA US\", \"DATE\": \"2/7/2021\", \"TMAX\": 60, \"TMIN\": 38}, {\"STATION\": \"USW00023190\", \"NAME\": \"SANTA BARBARA MUNICIPAL AIRPORT, CA US\", \"DATE\": \"2/8/2021\", \"TMAX\": 57, \"TMIN\": 49}, {\"STATION\": \"USW00023190\", \"NAME\": \"SANTA BARBARA MUNICIPAL AIRPORT, CA US\", \"DATE\": \"2/9/2021\", \"TMAX\": 59, \"TMIN\": 49}, {\"STATION\": \"USW00023190\", \"NAME\": \"SANTA BARBARA MUNICIPAL AIRPORT, CA US\", \"DATE\": \"2/10/2021\", \"TMAX\": 61, \"TMIN\": 41}, {\"STATION\": \"USW00023190\", \"NAME\": \"SANTA BARBARA MUNICIPAL AIRPORT, CA US\", \"DATE\": \"2/11/2021\", \"TMAX\": 59, \"TMIN\": 42}, {\"STATION\": \"USW00023190\", \"NAME\": \"SANTA BARBARA MUNICIPAL AIRPORT, CA US\", \"DATE\": \"2/12/2021\", \"TMAX\": 71, \"TMIN\": 49}, {\"STATION\": \"USW00023190\", \"NAME\": \"SANTA BARBARA MUNICIPAL AIRPORT, CA US\", \"DATE\": \"2/13/2021\", \"TMAX\": 68, \"TMIN\": 47}, {\"STATION\": \"USW00023190\", \"NAME\": \"SANTA BARBARA MUNICIPAL AIRPORT, CA US\", \"DATE\": \"2/14/2021\", \"TMAX\": 71, \"TMIN\": 43}, {\"STATION\": \"USW00023190\", \"NAME\": \"SANTA BARBARA MUNICIPAL AIRPORT, CA US\", \"DATE\": \"2/15/2021\", \"TMAX\": 67, \"TMIN\": 47}, {\"STATION\": \"USW00023190\", \"NAME\": \"SANTA BARBARA MUNICIPAL AIRPORT, CA US\", \"DATE\": \"2/16/2021\", \"TMAX\": 72, \"TMIN\": 47}, {\"STATION\": \"USW00023190\", \"NAME\": \"SANTA BARBARA MUNICIPAL AIRPORT, CA US\", \"DATE\": \"2/17/2021\", \"TMAX\": 73, \"TMIN\": 43}, {\"STATION\": \"USW00023190\", \"NAME\": \"SANTA BARBARA MUNICIPAL AIRPORT, CA US\", \"DATE\": \"2/18/2021\", \"TMAX\": 66, \"TMIN\": 40}, {\"STATION\": \"USW00023190\", \"NAME\": \"SANTA BARBARA MUNICIPAL AIRPORT, CA US\", \"DATE\": \"2/19/2021\", \"TMAX\": 63, \"TMIN\": 37}, {\"STATION\": \"USW00023190\", \"NAME\": \"SANTA BARBARA MUNICIPAL AIRPORT, CA US\", \"DATE\": \"2/20/2021\", \"TMAX\": 70, \"TMIN\": 45}, {\"STATION\": \"USW00023190\", \"NAME\": \"SANTA BARBARA MUNICIPAL AIRPORT, CA US\", \"DATE\": \"2/21/2021\", \"TMAX\": 68, \"TMIN\": 38}, {\"STATION\": \"USW00023190\", \"NAME\": \"SANTA BARBARA MUNICIPAL AIRPORT, CA US\", \"DATE\": \"2/22/2021\", \"TMAX\": 75, \"TMIN\": 37}, {\"STATION\": \"USW00023190\", \"NAME\": \"SANTA BARBARA MUNICIPAL AIRPORT, CA US\", \"DATE\": \"2/23/2021\", \"TMAX\": 75, \"TMIN\": 39}, {\"STATION\": \"USW00023190\", \"NAME\": \"SANTA BARBARA MUNICIPAL AIRPORT, CA US\", \"DATE\": \"2/24/2021\", \"TMAX\": 70, \"TMIN\": 41}, {\"STATION\": \"USW00023190\", \"NAME\": \"SANTA BARBARA MUNICIPAL AIRPORT, CA US\", \"DATE\": \"2/25/2021\", \"TMAX\": 66, \"TMIN\": 39}, {\"STATION\": \"USW00023190\", \"NAME\": \"SANTA BARBARA MUNICIPAL AIRPORT, CA US\", \"DATE\": \"2/26/2021\", \"TMAX\": 69, \"TMIN\": 36}, {\"STATION\": \"USW00023190\", \"NAME\": \"SANTA BARBARA MUNICIPAL AIRPORT, CA US\", \"DATE\": \"2/27/2021\", \"TMAX\": 76, \"TMIN\": 43}, {\"STATION\": \"USW00023190\", \"NAME\": \"SANTA BARBARA MUNICIPAL AIRPORT, CA US\", \"DATE\": \"2/28/2021\", \"TMAX\": 68, \"TMIN\": 38}, {\"STATION\": \"USW00023190\", \"NAME\": \"SANTA BARBARA MUNICIPAL AIRPORT, CA US\", \"DATE\": \"3/1/2021\", \"TMAX\": 68, \"TMIN\": 37}, {\"STATION\": \"USW00023190\", \"NAME\": \"SANTA BARBARA MUNICIPAL AIRPORT, CA US\", \"DATE\": \"3/2/2021\", \"TMAX\": 66, \"TMIN\": 36}, {\"STATION\": \"USW00023190\", \"NAME\": \"SANTA BARBARA MUNICIPAL AIRPORT, CA US\", \"DATE\": \"3/3/2021\", \"TMAX\": 59, \"TMIN\": 36}, {\"STATION\": \"USW00023190\", \"NAME\": \"SANTA BARBARA MUNICIPAL AIRPORT, CA US\", \"DATE\": \"3/4/2021\", \"TMAX\": 62, \"TMIN\": 37}, {\"STATION\": \"USW00023190\", \"NAME\": \"SANTA BARBARA MUNICIPAL AIRPORT, CA US\", \"DATE\": \"3/5/2021\", \"TMAX\": 67, \"TMIN\": 39}, {\"STATION\": \"USW00023190\", \"NAME\": \"SANTA BARBARA MUNICIPAL AIRPORT, CA US\", \"DATE\": \"3/6/2021\", \"TMAX\": 69, \"TMIN\": 43}, {\"STATION\": \"USW00023190\", \"NAME\": \"SANTA BARBARA MUNICIPAL AIRPORT, CA US\", \"DATE\": \"3/7/2021\", \"TMAX\": 60, \"TMIN\": 47}, {\"STATION\": \"USW00023190\", \"NAME\": \"SANTA BARBARA MUNICIPAL AIRPORT, CA US\", \"DATE\": \"3/8/2021\", \"TMAX\": 69, \"TMIN\": 47}, {\"STATION\": \"USW00023190\", \"NAME\": \"SANTA BARBARA MUNICIPAL AIRPORT, CA US\", \"DATE\": \"3/9/2021\", \"TMAX\": 65, \"TMIN\": 47}, {\"STATION\": \"USW00023190\", \"NAME\": \"SANTA BARBARA MUNICIPAL AIRPORT, CA US\", \"DATE\": \"3/10/2021\", \"TMAX\": 58, \"TMIN\": 43}, {\"STATION\": \"USW00023190\", \"NAME\": \"SANTA BARBARA MUNICIPAL AIRPORT, CA US\", \"DATE\": \"3/11/2021\", \"TMAX\": 56, \"TMIN\": 38}, {\"STATION\": \"USW00023190\", \"NAME\": \"SANTA BARBARA MUNICIPAL AIRPORT, CA US\", \"DATE\": \"3/12/2021\", \"TMAX\": 61, \"TMIN\": 35}, {\"STATION\": \"USW00023190\", \"NAME\": \"SANTA BARBARA MUNICIPAL AIRPORT, CA US\", \"DATE\": \"3/13/2021\", \"TMAX\": 64, \"TMIN\": 43}, {\"STATION\": \"USW00023190\", \"NAME\": \"SANTA BARBARA MUNICIPAL AIRPORT, CA US\", \"DATE\": \"3/14/2021\", \"TMAX\": 60, \"TMIN\": 40}, {\"STATION\": \"USW00023190\", \"NAME\": \"SANTA BARBARA MUNICIPAL AIRPORT, CA US\", \"DATE\": \"3/15/2021\", \"TMAX\": 59, \"TMIN\": 44}, {\"STATION\": \"USW00023190\", \"NAME\": \"SANTA BARBARA MUNICIPAL AIRPORT, CA US\", \"DATE\": \"3/16/2021\", \"TMAX\": 59, \"TMIN\": 35}, {\"STATION\": \"USW00023190\", \"NAME\": \"SANTA BARBARA MUNICIPAL AIRPORT, CA US\", \"DATE\": \"3/17/2021\", \"TMAX\": 60, \"TMIN\": 38}, {\"STATION\": \"USW00023190\", \"NAME\": \"SANTA BARBARA MUNICIPAL AIRPORT, CA US\", \"DATE\": \"3/18/2021\", \"TMAX\": 63, \"TMIN\": 47}, {\"STATION\": \"USW00023190\", \"NAME\": \"SANTA BARBARA MUNICIPAL AIRPORT, CA US\", \"DATE\": \"3/19/2021\", \"TMAX\": 65, \"TMIN\": 45}, {\"STATION\": \"USW00023190\", \"NAME\": \"SANTA BARBARA MUNICIPAL AIRPORT, CA US\", \"DATE\": \"3/20/2021\", \"TMAX\": 72, \"TMIN\": 54}, {\"STATION\": \"USW00023190\", \"NAME\": \"SANTA BARBARA MUNICIPAL AIRPORT, CA US\", \"DATE\": \"3/21/2021\", \"TMAX\": 72, \"TMIN\": 44}, {\"STATION\": \"USW00023190\", \"NAME\": \"SANTA BARBARA MUNICIPAL AIRPORT, CA US\", \"DATE\": \"3/22/2021\", \"TMAX\": 71, \"TMIN\": 50}, {\"STATION\": \"USW00023190\", \"NAME\": \"SANTA BARBARA MUNICIPAL AIRPORT, CA US\", \"DATE\": \"3/23/2021\", \"TMAX\": 72, \"TMIN\": 49}, {\"STATION\": \"USW00023190\", \"NAME\": \"SANTA BARBARA MUNICIPAL AIRPORT, CA US\", \"DATE\": \"3/24/2021\", \"TMAX\": 67, \"TMIN\": 41}, {\"STATION\": \"USW00023190\", \"NAME\": \"SANTA BARBARA MUNICIPAL AIRPORT, CA US\", \"DATE\": \"3/25/2021\", \"TMAX\": 65, \"TMIN\": 44}, {\"STATION\": \"USW00023190\", \"NAME\": \"SANTA BARBARA MUNICIPAL AIRPORT, CA US\", \"DATE\": \"3/26/2021\", \"TMAX\": 63, \"TMIN\": 40}, {\"STATION\": \"USW00023190\", \"NAME\": \"SANTA BARBARA MUNICIPAL AIRPORT, CA US\", \"DATE\": \"3/27/2021\", \"TMAX\": 72, \"TMIN\": 41}, {\"STATION\": \"USW00023190\", \"NAME\": \"SANTA BARBARA MUNICIPAL AIRPORT, CA US\", \"DATE\": \"3/28/2021\", \"TMAX\": 73, \"TMIN\": 41}, {\"STATION\": \"USW00023190\", \"NAME\": \"SANTA BARBARA MUNICIPAL AIRPORT, CA US\", \"DATE\": \"3/29/2021\", \"TMAX\": 77, \"TMIN\": 42}]}}, {\"mode\": \"vega-lite\"});\n",
       "</script>"
      ],
      "text/plain": [
       "alt.Chart(...)"
      ]
     },
     "execution_count": 70,
     "metadata": {},
     "output_type": "execute_result"
    }
   ],
   "source": [
    "alt.Chart(weather1).mark_line().encode(\n",
    "    x = 'DATE',\n",
    "    y = 'TMAX'\n",
    ").properties(\n",
    "    width = 800, \n",
    "    height = 100\n",
    ")"
   ]
  },
  {
   "cell_type": "markdown",
   "metadata": {
    "slideshow": {
     "slide_type": "subslide"
    },
    "tags": []
   },
   "source": [
    "## Exceptions\n",
    "\n",
    "There will be situations where you'll need to deviate from this format for various purposes. "
   ]
  },
  {
   "cell_type": "markdown",
   "metadata": {
    "slideshow": {
     "slide_type": "fragment"
    },
    "tags": []
   },
   "source": [
    "Often, plotting and table construction require reshaping data into non-tidy formats, for example:"
   ]
  },
  {
   "cell_type": "code",
   "execution_count": 71,
   "metadata": {
    "slideshow": {
     "slide_type": "skip"
    },
    "tags": []
   },
   "outputs": [],
   "source": [
    "weather4 = weather1.melt(\n",
    "    id_vars = 'DATE',\n",
    "    value_vars = ['TMIN', 'TMAX'],\n",
    "    value_name = 'Temperature',\n",
    "    var_name = 'min/max'\n",
    ")\n",
    "\n",
    "plot = alt.Chart(weather4).mark_line().encode(\n",
    "    x = 'DATE',\n",
    "    y = 'Temperature',\n",
    "    color = 'min/max'\n",
    ").properties(width = 800, height = 200)"
   ]
  },
  {
   "cell_type": "code",
   "execution_count": 72,
   "metadata": {
    "slideshow": {
     "slide_type": "fragment"
    },
    "tags": []
   },
   "outputs": [
    {
     "data": {
      "text/html": [
       "\n",
       "<div id=\"altair-viz-c966d8870b584f8fb392fbacaa187996\"></div>\n",
       "<script type=\"text/javascript\">\n",
       "  var VEGA_DEBUG = (typeof VEGA_DEBUG == \"undefined\") ? {} : VEGA_DEBUG;\n",
       "  (function(spec, embedOpt){\n",
       "    let outputDiv = document.currentScript.previousElementSibling;\n",
       "    if (outputDiv.id !== \"altair-viz-c966d8870b584f8fb392fbacaa187996\") {\n",
       "      outputDiv = document.getElementById(\"altair-viz-c966d8870b584f8fb392fbacaa187996\");\n",
       "    }\n",
       "    const paths = {\n",
       "      \"vega\": \"https://cdn.jsdelivr.net/npm//vega@5?noext\",\n",
       "      \"vega-lib\": \"https://cdn.jsdelivr.net/npm//vega-lib?noext\",\n",
       "      \"vega-lite\": \"https://cdn.jsdelivr.net/npm//vega-lite@4.17.0?noext\",\n",
       "      \"vega-embed\": \"https://cdn.jsdelivr.net/npm//vega-embed@6?noext\",\n",
       "    };\n",
       "\n",
       "    function maybeLoadScript(lib, version) {\n",
       "      var key = `${lib.replace(\"-\", \"\")}_version`;\n",
       "      return (VEGA_DEBUG[key] == version) ?\n",
       "        Promise.resolve(paths[lib]) :\n",
       "        new Promise(function(resolve, reject) {\n",
       "          var s = document.createElement('script');\n",
       "          document.getElementsByTagName(\"head\")[0].appendChild(s);\n",
       "          s.async = true;\n",
       "          s.onload = () => {\n",
       "            VEGA_DEBUG[key] = version;\n",
       "            return resolve(paths[lib]);\n",
       "          };\n",
       "          s.onerror = () => reject(`Error loading script: ${paths[lib]}`);\n",
       "          s.src = paths[lib];\n",
       "        });\n",
       "    }\n",
       "\n",
       "    function showError(err) {\n",
       "      outputDiv.innerHTML = `<div class=\"error\" style=\"color:red;\">${err}</div>`;\n",
       "      throw err;\n",
       "    }\n",
       "\n",
       "    function displayChart(vegaEmbed) {\n",
       "      vegaEmbed(outputDiv, spec, embedOpt)\n",
       "        .catch(err => showError(`Javascript Error: ${err.message}<br>This usually means there's a typo in your chart specification. See the javascript console for the full traceback.`));\n",
       "    }\n",
       "\n",
       "    if(typeof define === \"function\" && define.amd) {\n",
       "      requirejs.config({paths});\n",
       "      require([\"vega-embed\"], displayChart, err => showError(`Error loading script: ${err.message}`));\n",
       "    } else {\n",
       "      maybeLoadScript(\"vega\", \"5\")\n",
       "        .then(() => maybeLoadScript(\"vega-lite\", \"4.17.0\"))\n",
       "        .then(() => maybeLoadScript(\"vega-embed\", \"6\"))\n",
       "        .catch(showError)\n",
       "        .then(() => displayChart(vegaEmbed));\n",
       "    }\n",
       "  })({\"config\": {\"view\": {\"continuousWidth\": 400, \"continuousHeight\": 300}}, \"data\": {\"name\": \"data-c9ec2fddd4b3839f72a6d8f540e02d24\"}, \"mark\": \"line\", \"encoding\": {\"color\": {\"field\": \"min/max\", \"type\": \"nominal\"}, \"x\": {\"field\": \"DATE\", \"type\": \"nominal\"}, \"y\": {\"field\": \"Temperature\", \"type\": \"quantitative\"}}, \"height\": 200, \"width\": 800, \"$schema\": \"https://vega.github.io/schema/vega-lite/v4.17.0.json\", \"datasets\": {\"data-c9ec2fddd4b3839f72a6d8f540e02d24\": [{\"DATE\": \"1/1/2021\", \"min/max\": \"TMIN\", \"Temperature\": 37}, {\"DATE\": \"1/2/2021\", \"min/max\": \"TMIN\", \"Temperature\": 38}, {\"DATE\": \"1/3/2021\", \"min/max\": \"TMIN\", \"Temperature\": 42}, {\"DATE\": \"1/4/2021\", \"min/max\": \"TMIN\", \"Temperature\": 43}, {\"DATE\": \"1/5/2021\", \"min/max\": \"TMIN\", \"Temperature\": 40}, {\"DATE\": \"1/6/2021\", \"min/max\": \"TMIN\", \"Temperature\": 39}, {\"DATE\": \"1/7/2021\", \"min/max\": \"TMIN\", \"Temperature\": 38}, {\"DATE\": \"1/8/2021\", \"min/max\": \"TMIN\", \"Temperature\": 36}, {\"DATE\": \"1/9/2021\", \"min/max\": \"TMIN\", \"Temperature\": 39}, {\"DATE\": \"1/10/2021\", \"min/max\": \"TMIN\", \"Temperature\": 37}, {\"DATE\": \"1/11/2021\", \"min/max\": \"TMIN\", \"Temperature\": 36}, {\"DATE\": \"1/12/2021\", \"min/max\": \"TMIN\", \"Temperature\": 37}, {\"DATE\": \"1/13/2021\", \"min/max\": \"TMIN\", \"Temperature\": 39}, {\"DATE\": \"1/14/2021\", \"min/max\": \"TMIN\", \"Temperature\": 42}, {\"DATE\": \"1/15/2021\", \"min/max\": \"TMIN\", \"Temperature\": 42}, {\"DATE\": \"1/16/2021\", \"min/max\": \"TMIN\", \"Temperature\": 42}, {\"DATE\": \"1/17/2021\", \"min/max\": \"TMIN\", \"Temperature\": 46}, {\"DATE\": \"1/18/2021\", \"min/max\": \"TMIN\", \"Temperature\": 43}, {\"DATE\": \"1/19/2021\", \"min/max\": \"TMIN\", \"Temperature\": 47}, {\"DATE\": \"1/20/2021\", \"min/max\": \"TMIN\", \"Temperature\": 46}, {\"DATE\": \"1/21/2021\", \"min/max\": \"TMIN\", \"Temperature\": 42}, {\"DATE\": \"1/22/2021\", \"min/max\": \"TMIN\", \"Temperature\": 41}, {\"DATE\": \"1/23/2021\", \"min/max\": \"TMIN\", \"Temperature\": 40}, {\"DATE\": \"1/24/2021\", \"min/max\": \"TMIN\", \"Temperature\": 38}, {\"DATE\": \"1/25/2021\", \"min/max\": \"TMIN\", \"Temperature\": 44}, {\"DATE\": \"1/26/2021\", \"min/max\": \"TMIN\", \"Temperature\": 40}, {\"DATE\": \"1/27/2021\", \"min/max\": \"TMIN\", \"Temperature\": 48}, {\"DATE\": \"1/28/2021\", \"min/max\": \"TMIN\", \"Temperature\": 49}, {\"DATE\": \"1/29/2021\", \"min/max\": \"TMIN\", \"Temperature\": 42}, {\"DATE\": \"1/30/2021\", \"min/max\": \"TMIN\", \"Temperature\": 37}, {\"DATE\": \"1/31/2021\", \"min/max\": \"TMIN\", \"Temperature\": 37}, {\"DATE\": \"2/1/2021\", \"min/max\": \"TMIN\", \"Temperature\": 45}, {\"DATE\": \"2/2/2021\", \"min/max\": \"TMIN\", \"Temperature\": 40}, {\"DATE\": \"2/3/2021\", \"min/max\": \"TMIN\", \"Temperature\": 44}, {\"DATE\": \"2/4/2021\", \"min/max\": \"TMIN\", \"Temperature\": 37}, {\"DATE\": \"2/5/2021\", \"min/max\": \"TMIN\", \"Temperature\": 38}, {\"DATE\": \"2/6/2021\", \"min/max\": \"TMIN\", \"Temperature\": 38}, {\"DATE\": \"2/7/2021\", \"min/max\": \"TMIN\", \"Temperature\": 38}, {\"DATE\": \"2/8/2021\", \"min/max\": \"TMIN\", \"Temperature\": 49}, {\"DATE\": \"2/9/2021\", \"min/max\": \"TMIN\", \"Temperature\": 49}, {\"DATE\": \"2/10/2021\", \"min/max\": \"TMIN\", \"Temperature\": 41}, {\"DATE\": \"2/11/2021\", \"min/max\": \"TMIN\", \"Temperature\": 42}, {\"DATE\": \"2/12/2021\", \"min/max\": \"TMIN\", \"Temperature\": 49}, {\"DATE\": \"2/13/2021\", \"min/max\": \"TMIN\", \"Temperature\": 47}, {\"DATE\": \"2/14/2021\", \"min/max\": \"TMIN\", \"Temperature\": 43}, {\"DATE\": \"2/15/2021\", \"min/max\": \"TMIN\", \"Temperature\": 47}, {\"DATE\": \"2/16/2021\", \"min/max\": \"TMIN\", \"Temperature\": 47}, {\"DATE\": \"2/17/2021\", \"min/max\": \"TMIN\", \"Temperature\": 43}, {\"DATE\": \"2/18/2021\", \"min/max\": \"TMIN\", \"Temperature\": 40}, {\"DATE\": \"2/19/2021\", \"min/max\": \"TMIN\", \"Temperature\": 37}, {\"DATE\": \"2/20/2021\", \"min/max\": \"TMIN\", \"Temperature\": 45}, {\"DATE\": \"2/21/2021\", \"min/max\": \"TMIN\", \"Temperature\": 38}, {\"DATE\": \"2/22/2021\", \"min/max\": \"TMIN\", \"Temperature\": 37}, {\"DATE\": \"2/23/2021\", \"min/max\": \"TMIN\", \"Temperature\": 39}, {\"DATE\": \"2/24/2021\", \"min/max\": \"TMIN\", \"Temperature\": 41}, {\"DATE\": \"2/25/2021\", \"min/max\": \"TMIN\", \"Temperature\": 39}, {\"DATE\": \"2/26/2021\", \"min/max\": \"TMIN\", \"Temperature\": 36}, {\"DATE\": \"2/27/2021\", \"min/max\": \"TMIN\", \"Temperature\": 43}, {\"DATE\": \"2/28/2021\", \"min/max\": \"TMIN\", \"Temperature\": 38}, {\"DATE\": \"3/1/2021\", \"min/max\": \"TMIN\", \"Temperature\": 37}, {\"DATE\": \"3/2/2021\", \"min/max\": \"TMIN\", \"Temperature\": 36}, {\"DATE\": \"3/3/2021\", \"min/max\": \"TMIN\", \"Temperature\": 36}, {\"DATE\": \"3/4/2021\", \"min/max\": \"TMIN\", \"Temperature\": 37}, {\"DATE\": \"3/5/2021\", \"min/max\": \"TMIN\", \"Temperature\": 39}, {\"DATE\": \"3/6/2021\", \"min/max\": \"TMIN\", \"Temperature\": 43}, {\"DATE\": \"3/7/2021\", \"min/max\": \"TMIN\", \"Temperature\": 47}, {\"DATE\": \"3/8/2021\", \"min/max\": \"TMIN\", \"Temperature\": 47}, {\"DATE\": \"3/9/2021\", \"min/max\": \"TMIN\", \"Temperature\": 47}, {\"DATE\": \"3/10/2021\", \"min/max\": \"TMIN\", \"Temperature\": 43}, {\"DATE\": \"3/11/2021\", \"min/max\": \"TMIN\", \"Temperature\": 38}, {\"DATE\": \"3/12/2021\", \"min/max\": \"TMIN\", \"Temperature\": 35}, {\"DATE\": \"3/13/2021\", \"min/max\": \"TMIN\", \"Temperature\": 43}, {\"DATE\": \"3/14/2021\", \"min/max\": \"TMIN\", \"Temperature\": 40}, {\"DATE\": \"3/15/2021\", \"min/max\": \"TMIN\", \"Temperature\": 44}, {\"DATE\": \"3/16/2021\", \"min/max\": \"TMIN\", \"Temperature\": 35}, {\"DATE\": \"3/17/2021\", \"min/max\": \"TMIN\", \"Temperature\": 38}, {\"DATE\": \"3/18/2021\", \"min/max\": \"TMIN\", \"Temperature\": 47}, {\"DATE\": \"3/19/2021\", \"min/max\": \"TMIN\", \"Temperature\": 45}, {\"DATE\": \"3/20/2021\", \"min/max\": \"TMIN\", \"Temperature\": 54}, {\"DATE\": \"3/21/2021\", \"min/max\": \"TMIN\", \"Temperature\": 44}, {\"DATE\": \"3/22/2021\", \"min/max\": \"TMIN\", \"Temperature\": 50}, {\"DATE\": \"3/23/2021\", \"min/max\": \"TMIN\", \"Temperature\": 49}, {\"DATE\": \"3/24/2021\", \"min/max\": \"TMIN\", \"Temperature\": 41}, {\"DATE\": \"3/25/2021\", \"min/max\": \"TMIN\", \"Temperature\": 44}, {\"DATE\": \"3/26/2021\", \"min/max\": \"TMIN\", \"Temperature\": 40}, {\"DATE\": \"3/27/2021\", \"min/max\": \"TMIN\", \"Temperature\": 41}, {\"DATE\": \"3/28/2021\", \"min/max\": \"TMIN\", \"Temperature\": 41}, {\"DATE\": \"3/29/2021\", \"min/max\": \"TMIN\", \"Temperature\": 42}, {\"DATE\": \"1/1/2021\", \"min/max\": \"TMAX\", \"Temperature\": 65}, {\"DATE\": \"1/2/2021\", \"min/max\": \"TMAX\", \"Temperature\": 62}, {\"DATE\": \"1/3/2021\", \"min/max\": \"TMAX\", \"Temperature\": 60}, {\"DATE\": \"1/4/2021\", \"min/max\": \"TMAX\", \"Temperature\": 72}, {\"DATE\": \"1/5/2021\", \"min/max\": \"TMAX\", \"Temperature\": 61}, {\"DATE\": \"1/6/2021\", \"min/max\": \"TMAX\", \"Temperature\": 71}, {\"DATE\": \"1/7/2021\", \"min/max\": \"TMAX\", \"Temperature\": 73}, {\"DATE\": \"1/8/2021\", \"min/max\": \"TMAX\", \"Temperature\": 79}, {\"DATE\": \"1/9/2021\", \"min/max\": \"TMAX\", \"Temperature\": 71}, {\"DATE\": \"1/10/2021\", \"min/max\": \"TMAX\", \"Temperature\": 67}, {\"DATE\": \"1/11/2021\", \"min/max\": \"TMAX\", \"Temperature\": 67}, {\"DATE\": \"1/12/2021\", \"min/max\": \"TMAX\", \"Temperature\": 68}, {\"DATE\": \"1/13/2021\", \"min/max\": \"TMAX\", \"Temperature\": 70}, {\"DATE\": \"1/14/2021\", \"min/max\": \"TMAX\", \"Temperature\": 84}, {\"DATE\": \"1/15/2021\", \"min/max\": \"TMAX\", \"Temperature\": 82}, {\"DATE\": \"1/16/2021\", \"min/max\": \"TMAX\", \"Temperature\": 87}, {\"DATE\": \"1/17/2021\", \"min/max\": \"TMAX\", \"Temperature\": 84}, {\"DATE\": \"1/18/2021\", \"min/max\": \"TMAX\", \"Temperature\": 75}, {\"DATE\": \"1/19/2021\", \"min/max\": \"TMAX\", \"Temperature\": 73}, {\"DATE\": \"1/20/2021\", \"min/max\": \"TMAX\", \"Temperature\": 74}, {\"DATE\": \"1/21/2021\", \"min/max\": \"TMAX\", \"Temperature\": 70}, {\"DATE\": \"1/22/2021\", \"min/max\": \"TMAX\", \"Temperature\": 61}, {\"DATE\": \"1/23/2021\", \"min/max\": \"TMAX\", \"Temperature\": 59}, {\"DATE\": \"1/24/2021\", \"min/max\": \"TMAX\", \"Temperature\": 65}, {\"DATE\": \"1/25/2021\", \"min/max\": \"TMAX\", \"Temperature\": 55}, {\"DATE\": \"1/26/2021\", \"min/max\": \"TMAX\", \"Temperature\": 57}, {\"DATE\": \"1/27/2021\", \"min/max\": \"TMAX\", \"Temperature\": 54}, {\"DATE\": \"1/28/2021\", \"min/max\": \"TMAX\", \"Temperature\": 55}, {\"DATE\": \"1/29/2021\", \"min/max\": \"TMAX\", \"Temperature\": 55}, {\"DATE\": \"1/30/2021\", \"min/max\": \"TMAX\", \"Temperature\": 58}, {\"DATE\": \"1/31/2021\", \"min/max\": \"TMAX\", \"Temperature\": 63}, {\"DATE\": \"2/1/2021\", \"min/max\": \"TMAX\", \"Temperature\": 66}, {\"DATE\": \"2/2/2021\", \"min/max\": \"TMAX\", \"Temperature\": 67}, {\"DATE\": \"2/3/2021\", \"min/max\": \"TMAX\", \"Temperature\": 69}, {\"DATE\": \"2/4/2021\", \"min/max\": \"TMAX\", \"Temperature\": 63}, {\"DATE\": \"2/5/2021\", \"min/max\": \"TMAX\", \"Temperature\": 66}, {\"DATE\": \"2/6/2021\", \"min/max\": \"TMAX\", \"Temperature\": 68}, {\"DATE\": \"2/7/2021\", \"min/max\": \"TMAX\", \"Temperature\": 60}, {\"DATE\": \"2/8/2021\", \"min/max\": \"TMAX\", \"Temperature\": 57}, {\"DATE\": \"2/9/2021\", \"min/max\": \"TMAX\", \"Temperature\": 59}, {\"DATE\": \"2/10/2021\", \"min/max\": \"TMAX\", \"Temperature\": 61}, {\"DATE\": \"2/11/2021\", \"min/max\": \"TMAX\", \"Temperature\": 59}, {\"DATE\": \"2/12/2021\", \"min/max\": \"TMAX\", \"Temperature\": 71}, {\"DATE\": \"2/13/2021\", \"min/max\": \"TMAX\", \"Temperature\": 68}, {\"DATE\": \"2/14/2021\", \"min/max\": \"TMAX\", \"Temperature\": 71}, {\"DATE\": \"2/15/2021\", \"min/max\": \"TMAX\", \"Temperature\": 67}, {\"DATE\": \"2/16/2021\", \"min/max\": \"TMAX\", \"Temperature\": 72}, {\"DATE\": \"2/17/2021\", \"min/max\": \"TMAX\", \"Temperature\": 73}, {\"DATE\": \"2/18/2021\", \"min/max\": \"TMAX\", \"Temperature\": 66}, {\"DATE\": \"2/19/2021\", \"min/max\": \"TMAX\", \"Temperature\": 63}, {\"DATE\": \"2/20/2021\", \"min/max\": \"TMAX\", \"Temperature\": 70}, {\"DATE\": \"2/21/2021\", \"min/max\": \"TMAX\", \"Temperature\": 68}, {\"DATE\": \"2/22/2021\", \"min/max\": \"TMAX\", \"Temperature\": 75}, {\"DATE\": \"2/23/2021\", \"min/max\": \"TMAX\", \"Temperature\": 75}, {\"DATE\": \"2/24/2021\", \"min/max\": \"TMAX\", \"Temperature\": 70}, {\"DATE\": \"2/25/2021\", \"min/max\": \"TMAX\", \"Temperature\": 66}, {\"DATE\": \"2/26/2021\", \"min/max\": \"TMAX\", \"Temperature\": 69}, {\"DATE\": \"2/27/2021\", \"min/max\": \"TMAX\", \"Temperature\": 76}, {\"DATE\": \"2/28/2021\", \"min/max\": \"TMAX\", \"Temperature\": 68}, {\"DATE\": \"3/1/2021\", \"min/max\": \"TMAX\", \"Temperature\": 68}, {\"DATE\": \"3/2/2021\", \"min/max\": \"TMAX\", \"Temperature\": 66}, {\"DATE\": \"3/3/2021\", \"min/max\": \"TMAX\", \"Temperature\": 59}, {\"DATE\": \"3/4/2021\", \"min/max\": \"TMAX\", \"Temperature\": 62}, {\"DATE\": \"3/5/2021\", \"min/max\": \"TMAX\", \"Temperature\": 67}, {\"DATE\": \"3/6/2021\", \"min/max\": \"TMAX\", \"Temperature\": 69}, {\"DATE\": \"3/7/2021\", \"min/max\": \"TMAX\", \"Temperature\": 60}, {\"DATE\": \"3/8/2021\", \"min/max\": \"TMAX\", \"Temperature\": 69}, {\"DATE\": \"3/9/2021\", \"min/max\": \"TMAX\", \"Temperature\": 65}, {\"DATE\": \"3/10/2021\", \"min/max\": \"TMAX\", \"Temperature\": 58}, {\"DATE\": \"3/11/2021\", \"min/max\": \"TMAX\", \"Temperature\": 56}, {\"DATE\": \"3/12/2021\", \"min/max\": \"TMAX\", \"Temperature\": 61}, {\"DATE\": \"3/13/2021\", \"min/max\": \"TMAX\", \"Temperature\": 64}, {\"DATE\": \"3/14/2021\", \"min/max\": \"TMAX\", \"Temperature\": 60}, {\"DATE\": \"3/15/2021\", \"min/max\": \"TMAX\", \"Temperature\": 59}, {\"DATE\": \"3/16/2021\", \"min/max\": \"TMAX\", \"Temperature\": 59}, {\"DATE\": \"3/17/2021\", \"min/max\": \"TMAX\", \"Temperature\": 60}, {\"DATE\": \"3/18/2021\", \"min/max\": \"TMAX\", \"Temperature\": 63}, {\"DATE\": \"3/19/2021\", \"min/max\": \"TMAX\", \"Temperature\": 65}, {\"DATE\": \"3/20/2021\", \"min/max\": \"TMAX\", \"Temperature\": 72}, {\"DATE\": \"3/21/2021\", \"min/max\": \"TMAX\", \"Temperature\": 72}, {\"DATE\": \"3/22/2021\", \"min/max\": \"TMAX\", \"Temperature\": 71}, {\"DATE\": \"3/23/2021\", \"min/max\": \"TMAX\", \"Temperature\": 72}, {\"DATE\": \"3/24/2021\", \"min/max\": \"TMAX\", \"Temperature\": 67}, {\"DATE\": \"3/25/2021\", \"min/max\": \"TMAX\", \"Temperature\": 65}, {\"DATE\": \"3/26/2021\", \"min/max\": \"TMAX\", \"Temperature\": 63}, {\"DATE\": \"3/27/2021\", \"min/max\": \"TMAX\", \"Temperature\": 72}, {\"DATE\": \"3/28/2021\", \"min/max\": \"TMAX\", \"Temperature\": 73}, {\"DATE\": \"3/29/2021\", \"min/max\": \"TMAX\", \"Temperature\": 77}]}}, {\"mode\": \"vega-lite\"});\n",
       "</script>"
      ],
      "text/plain": [
       "alt.Chart(...)"
      ]
     },
     "execution_count": 72,
     "metadata": {},
     "output_type": "execute_result"
    }
   ],
   "source": [
    "plot"
   ]
  },
  {
   "cell_type": "markdown",
   "metadata": {
    "slideshow": {
     "slide_type": "subslide"
    },
    "tags": []
   },
   "source": [
    "## Exceptions\n",
    "\n",
    "There will be situations where you'll need to deviate from this format for various purposes. "
   ]
  },
  {
   "cell_type": "markdown",
   "metadata": {},
   "source": [
    "That plot relied on formatting the data as follows:"
   ]
  },
  {
   "cell_type": "code",
   "execution_count": 73,
   "metadata": {
    "slideshow": {
     "slide_type": "fragment"
    },
    "tags": []
   },
   "outputs": [
    {
     "data": {
      "text/html": [
       "<div>\n",
       "<style scoped>\n",
       "    .dataframe tbody tr th:only-of-type {\n",
       "        vertical-align: middle;\n",
       "    }\n",
       "\n",
       "    .dataframe tbody tr th {\n",
       "        vertical-align: top;\n",
       "    }\n",
       "\n",
       "    .dataframe thead th {\n",
       "        text-align: right;\n",
       "    }\n",
       "</style>\n",
       "<table border=\"1\" class=\"dataframe\">\n",
       "  <thead>\n",
       "    <tr style=\"text-align: right;\">\n",
       "      <th></th>\n",
       "      <th>DATE</th>\n",
       "      <th>min/max</th>\n",
       "      <th>Temperature</th>\n",
       "    </tr>\n",
       "  </thead>\n",
       "  <tbody>\n",
       "    <tr>\n",
       "      <th>0</th>\n",
       "      <td>1/1/2021</td>\n",
       "      <td>TMIN</td>\n",
       "      <td>37</td>\n",
       "    </tr>\n",
       "    <tr>\n",
       "      <th>1</th>\n",
       "      <td>1/2/2021</td>\n",
       "      <td>TMIN</td>\n",
       "      <td>38</td>\n",
       "    </tr>\n",
       "    <tr>\n",
       "      <th>2</th>\n",
       "      <td>1/3/2021</td>\n",
       "      <td>TMIN</td>\n",
       "      <td>42</td>\n",
       "    </tr>\n",
       "    <tr>\n",
       "      <th>3</th>\n",
       "      <td>1/4/2021</td>\n",
       "      <td>TMIN</td>\n",
       "      <td>43</td>\n",
       "    </tr>\n",
       "  </tbody>\n",
       "</table>\n",
       "</div>"
      ],
      "text/plain": [
       "       DATE min/max  Temperature\n",
       "0  1/1/2021    TMIN           37\n",
       "1  1/2/2021    TMIN           38\n",
       "2  1/3/2021    TMIN           42\n",
       "3  1/4/2021    TMIN           43"
      ]
     },
     "execution_count": 73,
     "metadata": {},
     "output_type": "execute_result"
    }
   ],
   "source": [
    "weather4.head(4)"
   ]
  },
  {
   "cell_type": "markdown",
   "metadata": {
    "slideshow": {
     "slide_type": "subslide"
    },
    "tags": []
   },
   "source": [
    "## Exceptions\n",
    "\n",
    "However, even in these situations, tidy data provides a useful starting point; it is often straightforward to manipulate into non-tidy formats using the same pivot, melt, and merge operations."
   ]
  },
  {
   "cell_type": "markdown",
   "metadata": {
    "slideshow": {
     "slide_type": "fragment"
    },
    "tags": []
   },
   "source": [
    "For example, the plot above was created after a simple melt operation on the tidy data."
   ]
  },
  {
   "cell_type": "code",
   "execution_count": 74,
   "metadata": {
    "slideshow": {
     "slide_type": "fragment"
    },
    "tags": []
   },
   "outputs": [
    {
     "data": {
      "text/html": [
       "<div>\n",
       "<style scoped>\n",
       "    .dataframe tbody tr th:only-of-type {\n",
       "        vertical-align: middle;\n",
       "    }\n",
       "\n",
       "    .dataframe tbody tr th {\n",
       "        vertical-align: top;\n",
       "    }\n",
       "\n",
       "    .dataframe thead th {\n",
       "        text-align: right;\n",
       "    }\n",
       "</style>\n",
       "<table border=\"1\" class=\"dataframe\">\n",
       "  <thead>\n",
       "    <tr style=\"text-align: right;\">\n",
       "      <th></th>\n",
       "      <th>DATE</th>\n",
       "      <th>min/max</th>\n",
       "      <th>Temperature</th>\n",
       "    </tr>\n",
       "  </thead>\n",
       "  <tbody>\n",
       "    <tr>\n",
       "      <th>0</th>\n",
       "      <td>1/1/2021</td>\n",
       "      <td>TMIN</td>\n",
       "      <td>37</td>\n",
       "    </tr>\n",
       "    <tr>\n",
       "      <th>1</th>\n",
       "      <td>1/2/2021</td>\n",
       "      <td>TMIN</td>\n",
       "      <td>38</td>\n",
       "    </tr>\n",
       "    <tr>\n",
       "      <th>2</th>\n",
       "      <td>1/3/2021</td>\n",
       "      <td>TMIN</td>\n",
       "      <td>42</td>\n",
       "    </tr>\n",
       "    <tr>\n",
       "      <th>3</th>\n",
       "      <td>1/4/2021</td>\n",
       "      <td>TMIN</td>\n",
       "      <td>43</td>\n",
       "    </tr>\n",
       "    <tr>\n",
       "      <th>4</th>\n",
       "      <td>1/5/2021</td>\n",
       "      <td>TMIN</td>\n",
       "      <td>40</td>\n",
       "    </tr>\n",
       "  </tbody>\n",
       "</table>\n",
       "</div>"
      ],
      "text/plain": [
       "       DATE min/max  Temperature\n",
       "0  1/1/2021    TMIN           37\n",
       "1  1/2/2021    TMIN           38\n",
       "2  1/3/2021    TMIN           42\n",
       "3  1/4/2021    TMIN           43\n",
       "4  1/5/2021    TMIN           40"
      ]
     },
     "execution_count": 74,
     "metadata": {},
     "output_type": "execute_result"
    }
   ],
   "source": [
    "weather1.melt(\n",
    "    id_vars = 'DATE',\n",
    "    value_vars = ['TMIN', 'TMAX'],\n",
    "    value_name = 'Temperature',\n",
    "    var_name = 'min/max'\n",
    ").head()"
   ]
  },
  {
   "cell_type": "markdown",
   "metadata": {
    "slideshow": {
     "slide_type": "slide"
    },
    "tags": []
   },
   "source": [
    "# Review\n",
    "\n",
    "* In tidy data, rows and columns correspond to observations and variables.\n",
    "    + This provides a standard dataset structure that facilitates exploration and analysis.\n",
    "    + Many datasets are not stored in this format.\n",
    "    + Most of the time in PSTAT 100, we'll give you tidy (or mostly tidy) datasets.    "
   ]
  },
  {
   "cell_type": "markdown",
   "metadata": {
    "slideshow": {
     "slide_type": "fragment"
    },
    "tags": []
   },
   "source": [
    "* Transformation operations are a lot easier with tidy data.\n",
    "    + Due in part to the way tools in pandas are designed.\n",
    "    + The goal of lab 1 is to learn these operations."
   ]
  },
  {
   "cell_type": "markdown",
   "metadata": {
    "slideshow": {
     "slide_type": "fragment"
    },
    "tags": []
   },
   "source": [
    "* There are situations where non-tidy data is useful.\n",
    "    + In PSTAT100, these will usually arise in plotting and tabulation tasks."
   ]
  },
  {
   "cell_type": "markdown",
   "metadata": {
    "slideshow": {
     "slide_type": "subslide"
    },
    "tags": []
   },
   "source": [
    "## Up next\n",
    "\n",
    "We started *en media res* at this stage of the lifecyle (tidy) so that you could start developing skills that would enable you to jump right into playing with datasets.\n",
    "\n",
    "Next week, we'll backtrack to the collect and acquaint stages and discuss:\n",
    "* sampling;\n",
    "* missing data."
   ]
  }
 ],
 "metadata": {
  "kernelspec": {
   "display_name": "Python 3 (ipykernel)",
   "language": "python",
   "name": "python3"
  },
  "language_info": {
   "codemirror_mode": {
    "name": "ipython",
    "version": 3
   },
   "file_extension": ".py",
   "mimetype": "text/x-python",
   "name": "python",
   "nbconvert_exporter": "python",
   "pygments_lexer": "ipython3",
   "version": "3.11.1"
  }
 },
 "nbformat": 4,
 "nbformat_minor": 4
}
